{
 "cells": [
  {
   "cell_type": "markdown",
   "id": "03826a24",
   "metadata": {},
   "source": [
    "feature extraction project in python pandas"
   ]
  },
  {
   "cell_type": "code",
   "execution_count": 2,
   "id": "77408e35",
   "metadata": {},
   "outputs": [],
   "source": [
    "import numpy as np\n",
    "import pandas as pd"
   ]
  },
  {
   "cell_type": "code",
   "execution_count": 3,
   "id": "6a3b35f2",
   "metadata": {},
   "outputs": [],
   "source": [
    "df = pd.read_csv(r'./datasets/anime.csv')"
   ]
  },
  {
   "cell_type": "code",
   "execution_count": 4,
   "id": "74032930",
   "metadata": {},
   "outputs": [
    {
     "data": {
      "text/html": [
       "<div>\n",
       "<style scoped>\n",
       "    .dataframe tbody tr th:only-of-type {\n",
       "        vertical-align: middle;\n",
       "    }\n",
       "\n",
       "    .dataframe tbody tr th {\n",
       "        vertical-align: top;\n",
       "    }\n",
       "\n",
       "    .dataframe thead th {\n",
       "        text-align: right;\n",
       "    }\n",
       "</style>\n",
       "<table border=\"1\" class=\"dataframe\">\n",
       "  <thead>\n",
       "    <tr style=\"text-align: right;\">\n",
       "      <th></th>\n",
       "      <th>Rank</th>\n",
       "      <th>Title</th>\n",
       "      <th>Score</th>\n",
       "    </tr>\n",
       "  </thead>\n",
       "  <tbody>\n",
       "    <tr>\n",
       "      <th>45</th>\n",
       "      <td>46</td>\n",
       "      <td>Vinland SagaTV (24 eps)Jul 2019 - Dec 20191,40...</td>\n",
       "      <td>8.74</td>\n",
       "    </tr>\n",
       "    <tr>\n",
       "      <th>46</th>\n",
       "      <td>47</td>\n",
       "      <td>Mushishi Zoku Shou 2nd SeasonTV (10 eps)Oct 20...</td>\n",
       "      <td>8.73</td>\n",
       "    </tr>\n",
       "    <tr>\n",
       "      <th>47</th>\n",
       "      <td>48</td>\n",
       "      <td>Shouwa Genroku Rakugo Shinjuu: Sukeroku Futata...</td>\n",
       "      <td>8.72</td>\n",
       "    </tr>\n",
       "    <tr>\n",
       "      <th>48</th>\n",
       "      <td>49</td>\n",
       "      <td>Mob Psycho 100 IIITV (12 eps)Oct 2022 - Dec 20...</td>\n",
       "      <td>8.71</td>\n",
       "    </tr>\n",
       "    <tr>\n",
       "      <th>49</th>\n",
       "      <td>50</td>\n",
       "      <td>Rurouni Kenshin: Meiji Kenkaku Romantan - Tsui...</td>\n",
       "      <td>8.71</td>\n",
       "    </tr>\n",
       "  </tbody>\n",
       "</table>\n",
       "</div>"
      ],
      "text/plain": [
       "    Rank                                              Title  Score\n",
       "45    46  Vinland SagaTV (24 eps)Jul 2019 - Dec 20191,40...   8.74\n",
       "46    47  Mushishi Zoku Shou 2nd SeasonTV (10 eps)Oct 20...   8.73\n",
       "47    48  Shouwa Genroku Rakugo Shinjuu: Sukeroku Futata...   8.72\n",
       "48    49  Mob Psycho 100 IIITV (12 eps)Oct 2022 - Dec 20...   8.71\n",
       "49    50  Rurouni Kenshin: Meiji Kenkaku Romantan - Tsui...   8.71"
      ]
     },
     "execution_count": 4,
     "metadata": {},
     "output_type": "execute_result"
    }
   ],
   "source": [
    "df.tail()"
   ]
  },
  {
   "cell_type": "code",
   "execution_count": 5,
   "id": "de30c01d",
   "metadata": {},
   "outputs": [
    {
     "data": {
      "text/plain": [
       "'Mob Psycho 100 IIITV (12 eps)Oct 2022 - Dec 2022600,098 members'"
      ]
     },
     "execution_count": 5,
     "metadata": {},
     "output_type": "execute_result"
    }
   ],
   "source": [
    "df.loc[48]['Title'] "
   ]
  },
  {
   "cell_type": "code",
   "execution_count": 6,
   "id": "da3294d1",
   "metadata": {},
   "outputs": [],
   "source": [
    "def extt(t):\n",
    "    check= False\n",
    "    data= \"\"\n",
    "    \n",
    "    for i in t:\n",
    "        if i ==\")\":\n",
    "            check = False;\n",
    "            break;\n",
    "        if i =='(':\n",
    "            check=True\n",
    "            continue;\n",
    "            \n",
    "        if check ==True:\n",
    "            data+=i;\n",
    "    \n",
    "    return data"
   ]
  },
  {
   "cell_type": "code",
   "execution_count": 7,
   "id": "04572659",
   "metadata": {},
   "outputs": [],
   "source": [
    "df['episode'] =df['Title'].apply(extt)"
   ]
  },
  {
   "cell_type": "code",
   "execution_count": 8,
   "id": "3bc7a96c",
   "metadata": {},
   "outputs": [
    {
     "data": {
      "text/html": [
       "<div>\n",
       "<style scoped>\n",
       "    .dataframe tbody tr th:only-of-type {\n",
       "        vertical-align: middle;\n",
       "    }\n",
       "\n",
       "    .dataframe tbody tr th {\n",
       "        vertical-align: top;\n",
       "    }\n",
       "\n",
       "    .dataframe thead th {\n",
       "        text-align: right;\n",
       "    }\n",
       "</style>\n",
       "<table border=\"1\" class=\"dataframe\">\n",
       "  <thead>\n",
       "    <tr style=\"text-align: right;\">\n",
       "      <th></th>\n",
       "      <th>Rank</th>\n",
       "      <th>Title</th>\n",
       "      <th>Score</th>\n",
       "      <th>episode</th>\n",
       "    </tr>\n",
       "  </thead>\n",
       "  <tbody>\n",
       "    <tr>\n",
       "      <th>0</th>\n",
       "      <td>1</td>\n",
       "      <td>Fullmetal Alchemist: BrotherhoodTV (64 eps)Apr...</td>\n",
       "      <td>9.10</td>\n",
       "      <td>64 eps</td>\n",
       "    </tr>\n",
       "    <tr>\n",
       "      <th>1</th>\n",
       "      <td>2</td>\n",
       "      <td>Steins;GateTV (24 eps)Apr 2011 - Sep 20112,473...</td>\n",
       "      <td>9.07</td>\n",
       "      <td>24 eps</td>\n",
       "    </tr>\n",
       "    <tr>\n",
       "      <th>2</th>\n",
       "      <td>3</td>\n",
       "      <td>Bleach: Sennen Kessen-henTV (13 eps)Oct 2022 -...</td>\n",
       "      <td>9.06</td>\n",
       "      <td>13 eps</td>\n",
       "    </tr>\n",
       "    <tr>\n",
       "      <th>3</th>\n",
       "      <td>4</td>\n",
       "      <td>Gintama°TV (51 eps)Apr 2015 - Mar 2016605,113 ...</td>\n",
       "      <td>9.06</td>\n",
       "      <td>51 eps</td>\n",
       "    </tr>\n",
       "    <tr>\n",
       "      <th>4</th>\n",
       "      <td>5</td>\n",
       "      <td>Shingeki no Kyojin Season 3 Part 2TV (10 eps)A...</td>\n",
       "      <td>9.05</td>\n",
       "      <td>10 eps</td>\n",
       "    </tr>\n",
       "  </tbody>\n",
       "</table>\n",
       "</div>"
      ],
      "text/plain": [
       "   Rank                                              Title  Score episode\n",
       "0     1  Fullmetal Alchemist: BrotherhoodTV (64 eps)Apr...   9.10  64 eps\n",
       "1     2  Steins;GateTV (24 eps)Apr 2011 - Sep 20112,473...   9.07  24 eps\n",
       "2     3  Bleach: Sennen Kessen-henTV (13 eps)Oct 2022 -...   9.06  13 eps\n",
       "3     4  Gintama°TV (51 eps)Apr 2015 - Mar 2016605,113 ...   9.06  51 eps\n",
       "4     5  Shingeki no Kyojin Season 3 Part 2TV (10 eps)A...   9.05  10 eps"
      ]
     },
     "execution_count": 8,
     "metadata": {},
     "output_type": "execute_result"
    }
   ],
   "source": [
    "df.head()"
   ]
  },
  {
   "cell_type": "code",
   "execution_count": 9,
   "id": "ebfa9f99",
   "metadata": {},
   "outputs": [],
   "source": [
    "df['episode'] =df['episode'].str.replace('eps',\"\")"
   ]
  },
  {
   "cell_type": "code",
   "execution_count": 10,
   "id": "3b31bad2",
   "metadata": {},
   "outputs": [],
   "source": [
    "df['episode']= df['episode'].astype(int)"
   ]
  },
  {
   "cell_type": "code",
   "execution_count": 11,
   "id": "60e99ebc",
   "metadata": {},
   "outputs": [
    {
     "data": {
      "text/plain": [
       "numpy.int64"
      ]
     },
     "execution_count": 11,
     "metadata": {},
     "output_type": "execute_result"
    }
   ],
   "source": [
    "type(df.loc[0]['episode'])"
   ]
  },
  {
   "cell_type": "markdown",
   "id": "90910003",
   "metadata": {},
   "source": [
    "extract date from title"
   ]
  },
  {
   "cell_type": "code",
   "execution_count": 12,
   "id": "342a87b5",
   "metadata": {},
   "outputs": [],
   "source": [
    "def extract_time(txt):\n",
    "    check = False;\n",
    "    data=\"\"\n",
    "    \n",
    "    for i in range(len(txt)):\n",
    "        if txt[i] ==\")\":\n",
    "            for j in range(i+1,i+20):\n",
    "                data +=txt[j]\n",
    "                \n",
    "            return data"
   ]
  },
  {
   "cell_type": "code",
   "execution_count": 13,
   "id": "4ebae62b",
   "metadata": {},
   "outputs": [
    {
     "data": {
      "text/plain": [
       "0     Apr 2009 - Jul 2010\n",
       "1     Apr 2011 - Sep 2011\n",
       "2     Oct 2022 - Dec 2022\n",
       "3     Apr 2015 - Mar 2016\n",
       "4     Apr 2019 - Jul 2019\n",
       "5     Apr 2011 - Mar 2012\n",
       "6     Jan 2021 - Jan 2021\n",
       "7     Oct 2011 - Sep 2014\n",
       "8     Apr 2022 - Jun 2022\n",
       "9     Oct 2012 - Mar 2013\n",
       "10    Mar 2023 - May 2023\n",
       "11    Jan 1988 - Mar 1997\n",
       "12    Jul 2023 - Aug 2023\n",
       "13    Apr 2021 - Jun 2021\n",
       "14    Jan 2017 - Mar 2017\n",
       "15    Apr 2006 - Mar 2010\n",
       "16    Sep 2016 - Sep 2016\n",
       "17    Oct 2017 - Mar 2018\n",
       "18    Oct 2008 - Mar 2009\n",
       "19    Apr 2008 - Sep 2008\n",
       "20    Jul 2013 - Jul 2013\n",
       "21    Sep 2020 - Sep 2020\n",
       "22    Aug 2017 - Aug 2017\n",
       "23    Jul 2018 - Oct 2018\n",
       "24    Apr 2004 - Sep 2005\n",
       "25    Aug 2016 - Aug 2016\n",
       "26    Dec 2022 - Dec 2022\n",
       "27    Oct 2022 - Dec 2022\n",
       "28    Dec 2022 - Dec 2022\n",
       "29    Jan 2023 - Jun 2023\n",
       "30    Jul 2023 - Aug 2023\n",
       "31    Jan 2018 - Mar 2018\n",
       "32    Apr 2020 - Oct 2021\n",
       "33    Jan 2019 - Apr 2019\n",
       "34    Dec 2020 - Mar 2021\n",
       "35    Dec 2021 - Feb 2022\n",
       "36    Jan 2017 - Jan 2017\n",
       "37    Apr 2023 - Jun 2023\n",
       "38    Oct 2016 - Dec 2016\n",
       "39    Jul 2001 - Jul 2001\n",
       "40    Jul 2013 - Dec 2013\n",
       "41    Jan 2022 - Apr 2022\n",
       "42    Oct 2000 - Mar 2002\n",
       "43    Apr 1998 - Apr 1999\n",
       "44    Apr 2022 - Oct 2022\n",
       "45    Jul 2019 - Dec 2019\n",
       "46    Oct 2014 - Dec 2014\n",
       "47    Jan 2017 - Mar 2017\n",
       "48    Oct 2022 - Dec 2022\n",
       "49    Feb 1999 - Sep 1999\n",
       "Name: Title, dtype: object"
      ]
     },
     "execution_count": 13,
     "metadata": {},
     "output_type": "execute_result"
    }
   ],
   "source": [
    "df['Title'].apply(extract_time)"
   ]
  },
  {
   "cell_type": "code",
   "execution_count": 14,
   "id": "9a742518",
   "metadata": {},
   "outputs": [],
   "source": [
    "df['total time'] = df['Title'].apply(extract_time)"
   ]
  },
  {
   "cell_type": "code",
   "execution_count": 15,
   "id": "2e38518c",
   "metadata": {},
   "outputs": [
    {
     "data": {
      "text/html": [
       "<div>\n",
       "<style scoped>\n",
       "    .dataframe tbody tr th:only-of-type {\n",
       "        vertical-align: middle;\n",
       "    }\n",
       "\n",
       "    .dataframe tbody tr th {\n",
       "        vertical-align: top;\n",
       "    }\n",
       "\n",
       "    .dataframe thead th {\n",
       "        text-align: right;\n",
       "    }\n",
       "</style>\n",
       "<table border=\"1\" class=\"dataframe\">\n",
       "  <thead>\n",
       "    <tr style=\"text-align: right;\">\n",
       "      <th></th>\n",
       "      <th>Rank</th>\n",
       "      <th>Title</th>\n",
       "      <th>Score</th>\n",
       "      <th>episode</th>\n",
       "      <th>total time</th>\n",
       "    </tr>\n",
       "  </thead>\n",
       "  <tbody>\n",
       "    <tr>\n",
       "      <th>0</th>\n",
       "      <td>1</td>\n",
       "      <td>Fullmetal Alchemist: BrotherhoodTV (64 eps)Apr...</td>\n",
       "      <td>9.10</td>\n",
       "      <td>64</td>\n",
       "      <td>Apr 2009 - Jul 2010</td>\n",
       "    </tr>\n",
       "    <tr>\n",
       "      <th>1</th>\n",
       "      <td>2</td>\n",
       "      <td>Steins;GateTV (24 eps)Apr 2011 - Sep 20112,473...</td>\n",
       "      <td>9.07</td>\n",
       "      <td>24</td>\n",
       "      <td>Apr 2011 - Sep 2011</td>\n",
       "    </tr>\n",
       "    <tr>\n",
       "      <th>2</th>\n",
       "      <td>3</td>\n",
       "      <td>Bleach: Sennen Kessen-henTV (13 eps)Oct 2022 -...</td>\n",
       "      <td>9.06</td>\n",
       "      <td>13</td>\n",
       "      <td>Oct 2022 - Dec 2022</td>\n",
       "    </tr>\n",
       "    <tr>\n",
       "      <th>3</th>\n",
       "      <td>4</td>\n",
       "      <td>Gintama°TV (51 eps)Apr 2015 - Mar 2016605,113 ...</td>\n",
       "      <td>9.06</td>\n",
       "      <td>51</td>\n",
       "      <td>Apr 2015 - Mar 2016</td>\n",
       "    </tr>\n",
       "    <tr>\n",
       "      <th>4</th>\n",
       "      <td>5</td>\n",
       "      <td>Shingeki no Kyojin Season 3 Part 2TV (10 eps)A...</td>\n",
       "      <td>9.05</td>\n",
       "      <td>10</td>\n",
       "      <td>Apr 2019 - Jul 2019</td>\n",
       "    </tr>\n",
       "  </tbody>\n",
       "</table>\n",
       "</div>"
      ],
      "text/plain": [
       "   Rank                                              Title  Score  episode  \\\n",
       "0     1  Fullmetal Alchemist: BrotherhoodTV (64 eps)Apr...   9.10       64   \n",
       "1     2  Steins;GateTV (24 eps)Apr 2011 - Sep 20112,473...   9.07       24   \n",
       "2     3  Bleach: Sennen Kessen-henTV (13 eps)Oct 2022 -...   9.06       13   \n",
       "3     4  Gintama°TV (51 eps)Apr 2015 - Mar 2016605,113 ...   9.06       51   \n",
       "4     5  Shingeki no Kyojin Season 3 Part 2TV (10 eps)A...   9.05       10   \n",
       "\n",
       "            total time  \n",
       "0  Apr 2009 - Jul 2010  \n",
       "1  Apr 2011 - Sep 2011  \n",
       "2  Oct 2022 - Dec 2022  \n",
       "3  Apr 2015 - Mar 2016  \n",
       "4  Apr 2019 - Jul 2019  "
      ]
     },
     "execution_count": 15,
     "metadata": {},
     "output_type": "execute_result"
    }
   ],
   "source": [
    "df.head()"
   ]
  },
  {
   "cell_type": "code",
   "execution_count": 16,
   "id": "45b90543",
   "metadata": {},
   "outputs": [
    {
     "data": {
      "text/plain": [
       "Rank                                                          1\n",
       "Title         Fullmetal Alchemist: BrotherhoodTV (64 eps)Apr...\n",
       "Score                                                       9.1\n",
       "episode                                                      64\n",
       "total time                                  Apr 2009 - Jul 2010\n",
       "Name: 0, dtype: object"
      ]
     },
     "execution_count": 16,
     "metadata": {},
     "output_type": "execute_result"
    }
   ],
   "source": [
    "df.loc[0]"
   ]
  },
  {
   "cell_type": "code",
   "execution_count": 17,
   "id": "f62f756f",
   "metadata": {},
   "outputs": [
    {
     "data": {
      "text/plain": [
       "np.float64(9.1)"
      ]
     },
     "execution_count": 17,
     "metadata": {},
     "output_type": "execute_result"
    }
   ],
   "source": [
    "df['Score'].max()"
   ]
  },
  {
   "cell_type": "code",
   "execution_count": 18,
   "id": "c3f6d288",
   "metadata": {},
   "outputs": [
    {
     "data": {
      "text/html": [
       "<div>\n",
       "<style scoped>\n",
       "    .dataframe tbody tr th:only-of-type {\n",
       "        vertical-align: middle;\n",
       "    }\n",
       "\n",
       "    .dataframe tbody tr th {\n",
       "        vertical-align: top;\n",
       "    }\n",
       "\n",
       "    .dataframe thead th {\n",
       "        text-align: right;\n",
       "    }\n",
       "</style>\n",
       "<table border=\"1\" class=\"dataframe\">\n",
       "  <thead>\n",
       "    <tr style=\"text-align: right;\">\n",
       "      <th></th>\n",
       "      <th>Rank</th>\n",
       "      <th>Title</th>\n",
       "      <th>Score</th>\n",
       "      <th>episode</th>\n",
       "      <th>total time</th>\n",
       "    </tr>\n",
       "  </thead>\n",
       "  <tbody>\n",
       "    <tr>\n",
       "      <th>0</th>\n",
       "      <td>1</td>\n",
       "      <td>Fullmetal Alchemist: BrotherhoodTV (64 eps)Apr...</td>\n",
       "      <td>9.1</td>\n",
       "      <td>64</td>\n",
       "      <td>Apr 2009 - Jul 2010</td>\n",
       "    </tr>\n",
       "  </tbody>\n",
       "</table>\n",
       "</div>"
      ],
      "text/plain": [
       "   Rank                                              Title  Score  episode  \\\n",
       "0     1  Fullmetal Alchemist: BrotherhoodTV (64 eps)Apr...    9.1       64   \n",
       "\n",
       "            total time  \n",
       "0  Apr 2009 - Jul 2010  "
      ]
     },
     "execution_count": 18,
     "metadata": {},
     "output_type": "execute_result"
    }
   ],
   "source": [
    "df[df['Score']==df['Score'].max()]\n"
   ]
  },
  {
   "cell_type": "code",
   "execution_count": 19,
   "id": "cba99364",
   "metadata": {},
   "outputs": [],
   "source": [
    "# top 5 score anime\n",
    "top5 =df.nlargest(5,'Score')"
   ]
  },
  {
   "cell_type": "code",
   "execution_count": 20,
   "id": "c3066ca3",
   "metadata": {},
   "outputs": [
    {
     "data": {
      "text/html": [
       "<div>\n",
       "<style scoped>\n",
       "    .dataframe tbody tr th:only-of-type {\n",
       "        vertical-align: middle;\n",
       "    }\n",
       "\n",
       "    .dataframe tbody tr th {\n",
       "        vertical-align: top;\n",
       "    }\n",
       "\n",
       "    .dataframe thead th {\n",
       "        text-align: right;\n",
       "    }\n",
       "</style>\n",
       "<table border=\"1\" class=\"dataframe\">\n",
       "  <thead>\n",
       "    <tr style=\"text-align: right;\">\n",
       "      <th></th>\n",
       "      <th>Rank</th>\n",
       "      <th>Title</th>\n",
       "      <th>Score</th>\n",
       "      <th>episode</th>\n",
       "      <th>total time</th>\n",
       "    </tr>\n",
       "  </thead>\n",
       "  <tbody>\n",
       "    <tr>\n",
       "      <th>0</th>\n",
       "      <td>1</td>\n",
       "      <td>Fullmetal Alchemist: BrotherhoodTV (64 eps)Apr...</td>\n",
       "      <td>9.10</td>\n",
       "      <td>64</td>\n",
       "      <td>Apr 2009 - Jul 2010</td>\n",
       "    </tr>\n",
       "    <tr>\n",
       "      <th>1</th>\n",
       "      <td>2</td>\n",
       "      <td>Steins;GateTV (24 eps)Apr 2011 - Sep 20112,473...</td>\n",
       "      <td>9.07</td>\n",
       "      <td>24</td>\n",
       "      <td>Apr 2011 - Sep 2011</td>\n",
       "    </tr>\n",
       "    <tr>\n",
       "      <th>2</th>\n",
       "      <td>3</td>\n",
       "      <td>Bleach: Sennen Kessen-henTV (13 eps)Oct 2022 -...</td>\n",
       "      <td>9.06</td>\n",
       "      <td>13</td>\n",
       "      <td>Oct 2022 - Dec 2022</td>\n",
       "    </tr>\n",
       "    <tr>\n",
       "      <th>3</th>\n",
       "      <td>4</td>\n",
       "      <td>Gintama°TV (51 eps)Apr 2015 - Mar 2016605,113 ...</td>\n",
       "      <td>9.06</td>\n",
       "      <td>51</td>\n",
       "      <td>Apr 2015 - Mar 2016</td>\n",
       "    </tr>\n",
       "    <tr>\n",
       "      <th>4</th>\n",
       "      <td>5</td>\n",
       "      <td>Shingeki no Kyojin Season 3 Part 2TV (10 eps)A...</td>\n",
       "      <td>9.05</td>\n",
       "      <td>10</td>\n",
       "      <td>Apr 2019 - Jul 2019</td>\n",
       "    </tr>\n",
       "  </tbody>\n",
       "</table>\n",
       "</div>"
      ],
      "text/plain": [
       "   Rank                                              Title  Score  episode  \\\n",
       "0     1  Fullmetal Alchemist: BrotherhoodTV (64 eps)Apr...   9.10       64   \n",
       "1     2  Steins;GateTV (24 eps)Apr 2011 - Sep 20112,473...   9.07       24   \n",
       "2     3  Bleach: Sennen Kessen-henTV (13 eps)Oct 2022 -...   9.06       13   \n",
       "3     4  Gintama°TV (51 eps)Apr 2015 - Mar 2016605,113 ...   9.06       51   \n",
       "4     5  Shingeki no Kyojin Season 3 Part 2TV (10 eps)A...   9.05       10   \n",
       "\n",
       "            total time  \n",
       "0  Apr 2009 - Jul 2010  \n",
       "1  Apr 2011 - Sep 2011  \n",
       "2  Oct 2022 - Dec 2022  \n",
       "3  Apr 2015 - Mar 2016  \n",
       "4  Apr 2019 - Jul 2019  "
      ]
     },
     "execution_count": 20,
     "metadata": {},
     "output_type": "execute_result"
    }
   ],
   "source": [
    "top5"
   ]
  },
  {
   "cell_type": "code",
   "execution_count": 21,
   "id": "09cf9dd2",
   "metadata": {},
   "outputs": [
    {
     "data": {
      "text/html": [
       "<div>\n",
       "<style scoped>\n",
       "    .dataframe tbody tr th:only-of-type {\n",
       "        vertical-align: middle;\n",
       "    }\n",
       "\n",
       "    .dataframe tbody tr th {\n",
       "        vertical-align: top;\n",
       "    }\n",
       "\n",
       "    .dataframe thead th {\n",
       "        text-align: right;\n",
       "    }\n",
       "</style>\n",
       "<table border=\"1\" class=\"dataframe\">\n",
       "  <thead>\n",
       "    <tr style=\"text-align: right;\">\n",
       "      <th></th>\n",
       "      <th>Rank</th>\n",
       "      <th>Title</th>\n",
       "      <th>Score</th>\n",
       "      <th>episode</th>\n",
       "      <th>total time</th>\n",
       "    </tr>\n",
       "  </thead>\n",
       "  <tbody>\n",
       "    <tr>\n",
       "      <th>15</th>\n",
       "      <td>16</td>\n",
       "      <td>GintamaTV (201 eps)Apr 2006 - Mar 20101,034,41...</td>\n",
       "      <td>8.94</td>\n",
       "      <td>201</td>\n",
       "      <td>Apr 2006 - Mar 2010</td>\n",
       "    </tr>\n",
       "  </tbody>\n",
       "</table>\n",
       "</div>"
      ],
      "text/plain": [
       "    Rank                                              Title  Score  episode  \\\n",
       "15    16  GintamaTV (201 eps)Apr 2006 - Mar 20101,034,41...   8.94      201   \n",
       "\n",
       "             total time  \n",
       "15  Apr 2006 - Mar 2010  "
      ]
     },
     "execution_count": 21,
     "metadata": {},
     "output_type": "execute_result"
    }
   ],
   "source": [
    "df[df['episode'] ==df['episode'].max()]"
   ]
  },
  {
   "cell_type": "code",
   "execution_count": 22,
   "id": "5843f393",
   "metadata": {},
   "outputs": [],
   "source": [
    "top_epi_5 =df.nlargest(5,'episode')"
   ]
  },
  {
   "cell_type": "code",
   "execution_count": 23,
   "id": "15e6b683",
   "metadata": {},
   "outputs": [
    {
     "data": {
      "text/html": [
       "<div>\n",
       "<style scoped>\n",
       "    .dataframe tbody tr th:only-of-type {\n",
       "        vertical-align: middle;\n",
       "    }\n",
       "\n",
       "    .dataframe tbody tr th {\n",
       "        vertical-align: top;\n",
       "    }\n",
       "\n",
       "    .dataframe thead th {\n",
       "        text-align: right;\n",
       "    }\n",
       "</style>\n",
       "<table border=\"1\" class=\"dataframe\">\n",
       "  <thead>\n",
       "    <tr style=\"text-align: right;\">\n",
       "      <th></th>\n",
       "      <th>Rank</th>\n",
       "      <th>Title</th>\n",
       "      <th>Score</th>\n",
       "      <th>episode</th>\n",
       "      <th>total time</th>\n",
       "    </tr>\n",
       "  </thead>\n",
       "  <tbody>\n",
       "    <tr>\n",
       "      <th>15</th>\n",
       "      <td>16</td>\n",
       "      <td>GintamaTV (201 eps)Apr 2006 - Mar 20101,034,41...</td>\n",
       "      <td>8.94</td>\n",
       "      <td>201</td>\n",
       "      <td>Apr 2006 - Mar 2010</td>\n",
       "    </tr>\n",
       "    <tr>\n",
       "      <th>7</th>\n",
       "      <td>8</td>\n",
       "      <td>Hunter x Hunter TV (148 eps)Oct 2011 - Sep 201...</td>\n",
       "      <td>9.04</td>\n",
       "      <td>148</td>\n",
       "      <td>Oct 2011 - Sep 2014</td>\n",
       "    </tr>\n",
       "    <tr>\n",
       "      <th>11</th>\n",
       "      <td>12</td>\n",
       "      <td>Ginga Eiyuu DensetsuOVA (110 eps)Jan 1988 - Ma...</td>\n",
       "      <td>9.02</td>\n",
       "      <td>110</td>\n",
       "      <td>Jan 1988 - Mar 1997</td>\n",
       "    </tr>\n",
       "    <tr>\n",
       "      <th>42</th>\n",
       "      <td>43</td>\n",
       "      <td>Hajime no IppoTV (75 eps)Oct 2000 - Mar 200255...</td>\n",
       "      <td>8.76</td>\n",
       "      <td>75</td>\n",
       "      <td>Oct 2000 - Mar 2002</td>\n",
       "    </tr>\n",
       "    <tr>\n",
       "      <th>24</th>\n",
       "      <td>25</td>\n",
       "      <td>MonsterTV (74 eps)Apr 2004 - Sep 20051,041,081...</td>\n",
       "      <td>8.87</td>\n",
       "      <td>74</td>\n",
       "      <td>Apr 2004 - Sep 2005</td>\n",
       "    </tr>\n",
       "  </tbody>\n",
       "</table>\n",
       "</div>"
      ],
      "text/plain": [
       "    Rank                                              Title  Score  episode  \\\n",
       "15    16  GintamaTV (201 eps)Apr 2006 - Mar 20101,034,41...   8.94      201   \n",
       "7      8  Hunter x Hunter TV (148 eps)Oct 2011 - Sep 201...   9.04      148   \n",
       "11    12  Ginga Eiyuu DensetsuOVA (110 eps)Jan 1988 - Ma...   9.02      110   \n",
       "42    43  Hajime no IppoTV (75 eps)Oct 2000 - Mar 200255...   8.76       75   \n",
       "24    25  MonsterTV (74 eps)Apr 2004 - Sep 20051,041,081...   8.87       74   \n",
       "\n",
       "             total time  \n",
       "15  Apr 2006 - Mar 2010  \n",
       "7   Oct 2011 - Sep 2014  \n",
       "11  Jan 1988 - Mar 1997  \n",
       "42  Oct 2000 - Mar 2002  \n",
       "24  Apr 2004 - Sep 2005  "
      ]
     },
     "execution_count": 23,
     "metadata": {},
     "output_type": "execute_result"
    }
   ],
   "source": [
    "top_epi_5"
   ]
  },
  {
   "cell_type": "code",
   "execution_count": 24,
   "id": "452282dd",
   "metadata": {},
   "outputs": [],
   "source": [
    "#month \n",
    "# from model"
   ]
  },
  {
   "cell_type": "code",
   "execution_count": 25,
   "id": "46b197aa",
   "metadata": {},
   "outputs": [],
   "source": [
    "df[['start_str', 'end_str']] = df['total time'].str.extract(r'([A-Za-z]{3} \\d{4})\\s*-\\s*([A-Za-z]{3} \\d{4})')\n"
   ]
  },
  {
   "cell_type": "code",
   "execution_count": 26,
   "id": "8822500d",
   "metadata": {},
   "outputs": [],
   "source": [
    "df['start_date'] = pd.to_datetime(df['start_str'], format='%b %Y')\n",
    "df['end_date'] = pd.to_datetime(df['end_str'], format='%b %Y')\n"
   ]
  },
  {
   "cell_type": "code",
   "execution_count": 27,
   "id": "42406606",
   "metadata": {},
   "outputs": [],
   "source": [
    "df['duration_months'] = (df['end_date'].dt.year - df['start_date'].dt.year) * 12 + (df['end_date'].dt.month - df['start_date'].dt.month) + 1\n"
   ]
  },
  {
   "cell_type": "code",
   "execution_count": 28,
   "id": "7ed7688b",
   "metadata": {},
   "outputs": [],
   "source": [
    "df.drop(['start_date','end_date','start_str','end_str'],axis=1,inplace=True)"
   ]
  },
  {
   "cell_type": "code",
   "execution_count": 29,
   "id": "7b24227d",
   "metadata": {},
   "outputs": [
    {
     "data": {
      "text/html": [
       "<div>\n",
       "<style scoped>\n",
       "    .dataframe tbody tr th:only-of-type {\n",
       "        vertical-align: middle;\n",
       "    }\n",
       "\n",
       "    .dataframe tbody tr th {\n",
       "        vertical-align: top;\n",
       "    }\n",
       "\n",
       "    .dataframe thead th {\n",
       "        text-align: right;\n",
       "    }\n",
       "</style>\n",
       "<table border=\"1\" class=\"dataframe\">\n",
       "  <thead>\n",
       "    <tr style=\"text-align: right;\">\n",
       "      <th></th>\n",
       "      <th>Rank</th>\n",
       "      <th>Title</th>\n",
       "      <th>Score</th>\n",
       "      <th>episode</th>\n",
       "      <th>total time</th>\n",
       "      <th>duration_months</th>\n",
       "    </tr>\n",
       "  </thead>\n",
       "  <tbody>\n",
       "    <tr>\n",
       "      <th>0</th>\n",
       "      <td>1</td>\n",
       "      <td>Fullmetal Alchemist: BrotherhoodTV (64 eps)Apr...</td>\n",
       "      <td>9.10</td>\n",
       "      <td>64</td>\n",
       "      <td>Apr 2009 - Jul 2010</td>\n",
       "      <td>16</td>\n",
       "    </tr>\n",
       "    <tr>\n",
       "      <th>1</th>\n",
       "      <td>2</td>\n",
       "      <td>Steins;GateTV (24 eps)Apr 2011 - Sep 20112,473...</td>\n",
       "      <td>9.07</td>\n",
       "      <td>24</td>\n",
       "      <td>Apr 2011 - Sep 2011</td>\n",
       "      <td>6</td>\n",
       "    </tr>\n",
       "    <tr>\n",
       "      <th>2</th>\n",
       "      <td>3</td>\n",
       "      <td>Bleach: Sennen Kessen-henTV (13 eps)Oct 2022 -...</td>\n",
       "      <td>9.06</td>\n",
       "      <td>13</td>\n",
       "      <td>Oct 2022 - Dec 2022</td>\n",
       "      <td>3</td>\n",
       "    </tr>\n",
       "    <tr>\n",
       "      <th>3</th>\n",
       "      <td>4</td>\n",
       "      <td>Gintama°TV (51 eps)Apr 2015 - Mar 2016605,113 ...</td>\n",
       "      <td>9.06</td>\n",
       "      <td>51</td>\n",
       "      <td>Apr 2015 - Mar 2016</td>\n",
       "      <td>12</td>\n",
       "    </tr>\n",
       "    <tr>\n",
       "      <th>4</th>\n",
       "      <td>5</td>\n",
       "      <td>Shingeki no Kyojin Season 3 Part 2TV (10 eps)A...</td>\n",
       "      <td>9.05</td>\n",
       "      <td>10</td>\n",
       "      <td>Apr 2019 - Jul 2019</td>\n",
       "      <td>4</td>\n",
       "    </tr>\n",
       "  </tbody>\n",
       "</table>\n",
       "</div>"
      ],
      "text/plain": [
       "   Rank                                              Title  Score  episode  \\\n",
       "0     1  Fullmetal Alchemist: BrotherhoodTV (64 eps)Apr...   9.10       64   \n",
       "1     2  Steins;GateTV (24 eps)Apr 2011 - Sep 20112,473...   9.07       24   \n",
       "2     3  Bleach: Sennen Kessen-henTV (13 eps)Oct 2022 -...   9.06       13   \n",
       "3     4  Gintama°TV (51 eps)Apr 2015 - Mar 2016605,113 ...   9.06       51   \n",
       "4     5  Shingeki no Kyojin Season 3 Part 2TV (10 eps)A...   9.05       10   \n",
       "\n",
       "            total time  duration_months  \n",
       "0  Apr 2009 - Jul 2010               16  \n",
       "1  Apr 2011 - Sep 2011                6  \n",
       "2  Oct 2022 - Dec 2022                3  \n",
       "3  Apr 2015 - Mar 2016               12  \n",
       "4  Apr 2019 - Jul 2019                4  "
      ]
     },
     "execution_count": 29,
     "metadata": {},
     "output_type": "execute_result"
    }
   ],
   "source": [
    "df.head()"
   ]
  },
  {
   "cell_type": "code",
   "execution_count": 30,
   "id": "0796a1c3",
   "metadata": {},
   "outputs": [
    {
     "data": {
      "text/html": [
       "<div>\n",
       "<style scoped>\n",
       "    .dataframe tbody tr th:only-of-type {\n",
       "        vertical-align: middle;\n",
       "    }\n",
       "\n",
       "    .dataframe tbody tr th {\n",
       "        vertical-align: top;\n",
       "    }\n",
       "\n",
       "    .dataframe thead th {\n",
       "        text-align: right;\n",
       "    }\n",
       "</style>\n",
       "<table border=\"1\" class=\"dataframe\">\n",
       "  <thead>\n",
       "    <tr style=\"text-align: right;\">\n",
       "      <th></th>\n",
       "      <th>Rank</th>\n",
       "      <th>Title</th>\n",
       "      <th>Score</th>\n",
       "      <th>episode</th>\n",
       "      <th>total time</th>\n",
       "      <th>duration_months</th>\n",
       "    </tr>\n",
       "  </thead>\n",
       "  <tbody>\n",
       "    <tr>\n",
       "      <th>11</th>\n",
       "      <td>12</td>\n",
       "      <td>Ginga Eiyuu DensetsuOVA (110 eps)Jan 1988 - Ma...</td>\n",
       "      <td>9.02</td>\n",
       "      <td>110</td>\n",
       "      <td>Jan 1988 - Mar 1997</td>\n",
       "      <td>111</td>\n",
       "    </tr>\n",
       "  </tbody>\n",
       "</table>\n",
       "</div>"
      ],
      "text/plain": [
       "    Rank                                              Title  Score  episode  \\\n",
       "11    12  Ginga Eiyuu DensetsuOVA (110 eps)Jan 1988 - Ma...   9.02      110   \n",
       "\n",
       "             total time  duration_months  \n",
       "11  Jan 1988 - Mar 1997              111  "
      ]
     },
     "execution_count": 30,
     "metadata": {},
     "output_type": "execute_result"
    }
   ],
   "source": [
    "df[df['duration_months']==df['duration_months'].max()]"
   ]
  },
  {
   "cell_type": "code",
   "execution_count": 31,
   "id": "28463252",
   "metadata": {},
   "outputs": [
    {
     "ename": "FileNotFoundError",
     "evalue": "[Errno 2] No such file or directory: 'athlete_events.csv'",
     "output_type": "error",
     "traceback": [
      "\u001b[31m---------------------------------------------------------------------------\u001b[39m",
      "\u001b[31mFileNotFoundError\u001b[39m                         Traceback (most recent call last)",
      "\u001b[36mCell\u001b[39m\u001b[36m \u001b[39m\u001b[32mIn[31]\u001b[39m\u001b[32m, line 1\u001b[39m\n\u001b[32m----> \u001b[39m\u001b[32m1\u001b[39m df= \u001b[43mpd\u001b[49m\u001b[43m.\u001b[49m\u001b[43mread_csv\u001b[49m\u001b[43m(\u001b[49m\u001b[33;43m'\u001b[39;49m\u001b[33;43mathlete_events.csv\u001b[39;49m\u001b[33;43m'\u001b[39;49m\u001b[43m)\u001b[49m\n",
      "\u001b[36mFile \u001b[39m\u001b[32m~\\AppData\\Roaming\\Python\\Python313\\site-packages\\pandas\\io\\parsers\\readers.py:1026\u001b[39m, in \u001b[36mread_csv\u001b[39m\u001b[34m(filepath_or_buffer, sep, delimiter, header, names, index_col, usecols, dtype, engine, converters, true_values, false_values, skipinitialspace, skiprows, skipfooter, nrows, na_values, keep_default_na, na_filter, verbose, skip_blank_lines, parse_dates, infer_datetime_format, keep_date_col, date_parser, date_format, dayfirst, cache_dates, iterator, chunksize, compression, thousands, decimal, lineterminator, quotechar, quoting, doublequote, escapechar, comment, encoding, encoding_errors, dialect, on_bad_lines, delim_whitespace, low_memory, memory_map, float_precision, storage_options, dtype_backend)\u001b[39m\n\u001b[32m   1013\u001b[39m kwds_defaults = _refine_defaults_read(\n\u001b[32m   1014\u001b[39m     dialect,\n\u001b[32m   1015\u001b[39m     delimiter,\n\u001b[32m   (...)\u001b[39m\u001b[32m   1022\u001b[39m     dtype_backend=dtype_backend,\n\u001b[32m   1023\u001b[39m )\n\u001b[32m   1024\u001b[39m kwds.update(kwds_defaults)\n\u001b[32m-> \u001b[39m\u001b[32m1026\u001b[39m \u001b[38;5;28;01mreturn\u001b[39;00m \u001b[43m_read\u001b[49m\u001b[43m(\u001b[49m\u001b[43mfilepath_or_buffer\u001b[49m\u001b[43m,\u001b[49m\u001b[43m \u001b[49m\u001b[43mkwds\u001b[49m\u001b[43m)\u001b[49m\n",
      "\u001b[36mFile \u001b[39m\u001b[32m~\\AppData\\Roaming\\Python\\Python313\\site-packages\\pandas\\io\\parsers\\readers.py:620\u001b[39m, in \u001b[36m_read\u001b[39m\u001b[34m(filepath_or_buffer, kwds)\u001b[39m\n\u001b[32m    617\u001b[39m _validate_names(kwds.get(\u001b[33m\"\u001b[39m\u001b[33mnames\u001b[39m\u001b[33m\"\u001b[39m, \u001b[38;5;28;01mNone\u001b[39;00m))\n\u001b[32m    619\u001b[39m \u001b[38;5;66;03m# Create the parser.\u001b[39;00m\n\u001b[32m--> \u001b[39m\u001b[32m620\u001b[39m parser = \u001b[43mTextFileReader\u001b[49m\u001b[43m(\u001b[49m\u001b[43mfilepath_or_buffer\u001b[49m\u001b[43m,\u001b[49m\u001b[43m \u001b[49m\u001b[43m*\u001b[49m\u001b[43m*\u001b[49m\u001b[43mkwds\u001b[49m\u001b[43m)\u001b[49m\n\u001b[32m    622\u001b[39m \u001b[38;5;28;01mif\u001b[39;00m chunksize \u001b[38;5;129;01mor\u001b[39;00m iterator:\n\u001b[32m    623\u001b[39m     \u001b[38;5;28;01mreturn\u001b[39;00m parser\n",
      "\u001b[36mFile \u001b[39m\u001b[32m~\\AppData\\Roaming\\Python\\Python313\\site-packages\\pandas\\io\\parsers\\readers.py:1620\u001b[39m, in \u001b[36mTextFileReader.__init__\u001b[39m\u001b[34m(self, f, engine, **kwds)\u001b[39m\n\u001b[32m   1617\u001b[39m     \u001b[38;5;28mself\u001b[39m.options[\u001b[33m\"\u001b[39m\u001b[33mhas_index_names\u001b[39m\u001b[33m\"\u001b[39m] = kwds[\u001b[33m\"\u001b[39m\u001b[33mhas_index_names\u001b[39m\u001b[33m\"\u001b[39m]\n\u001b[32m   1619\u001b[39m \u001b[38;5;28mself\u001b[39m.handles: IOHandles | \u001b[38;5;28;01mNone\u001b[39;00m = \u001b[38;5;28;01mNone\u001b[39;00m\n\u001b[32m-> \u001b[39m\u001b[32m1620\u001b[39m \u001b[38;5;28mself\u001b[39m._engine = \u001b[38;5;28;43mself\u001b[39;49m\u001b[43m.\u001b[49m\u001b[43m_make_engine\u001b[49m\u001b[43m(\u001b[49m\u001b[43mf\u001b[49m\u001b[43m,\u001b[49m\u001b[43m \u001b[49m\u001b[38;5;28;43mself\u001b[39;49m\u001b[43m.\u001b[49m\u001b[43mengine\u001b[49m\u001b[43m)\u001b[49m\n",
      "\u001b[36mFile \u001b[39m\u001b[32m~\\AppData\\Roaming\\Python\\Python313\\site-packages\\pandas\\io\\parsers\\readers.py:1880\u001b[39m, in \u001b[36mTextFileReader._make_engine\u001b[39m\u001b[34m(self, f, engine)\u001b[39m\n\u001b[32m   1878\u001b[39m     \u001b[38;5;28;01mif\u001b[39;00m \u001b[33m\"\u001b[39m\u001b[33mb\u001b[39m\u001b[33m\"\u001b[39m \u001b[38;5;129;01mnot\u001b[39;00m \u001b[38;5;129;01min\u001b[39;00m mode:\n\u001b[32m   1879\u001b[39m         mode += \u001b[33m\"\u001b[39m\u001b[33mb\u001b[39m\u001b[33m\"\u001b[39m\n\u001b[32m-> \u001b[39m\u001b[32m1880\u001b[39m \u001b[38;5;28mself\u001b[39m.handles = \u001b[43mget_handle\u001b[49m\u001b[43m(\u001b[49m\n\u001b[32m   1881\u001b[39m \u001b[43m    \u001b[49m\u001b[43mf\u001b[49m\u001b[43m,\u001b[49m\n\u001b[32m   1882\u001b[39m \u001b[43m    \u001b[49m\u001b[43mmode\u001b[49m\u001b[43m,\u001b[49m\n\u001b[32m   1883\u001b[39m \u001b[43m    \u001b[49m\u001b[43mencoding\u001b[49m\u001b[43m=\u001b[49m\u001b[38;5;28;43mself\u001b[39;49m\u001b[43m.\u001b[49m\u001b[43moptions\u001b[49m\u001b[43m.\u001b[49m\u001b[43mget\u001b[49m\u001b[43m(\u001b[49m\u001b[33;43m\"\u001b[39;49m\u001b[33;43mencoding\u001b[39;49m\u001b[33;43m\"\u001b[39;49m\u001b[43m,\u001b[49m\u001b[43m \u001b[49m\u001b[38;5;28;43;01mNone\u001b[39;49;00m\u001b[43m)\u001b[49m\u001b[43m,\u001b[49m\n\u001b[32m   1884\u001b[39m \u001b[43m    \u001b[49m\u001b[43mcompression\u001b[49m\u001b[43m=\u001b[49m\u001b[38;5;28;43mself\u001b[39;49m\u001b[43m.\u001b[49m\u001b[43moptions\u001b[49m\u001b[43m.\u001b[49m\u001b[43mget\u001b[49m\u001b[43m(\u001b[49m\u001b[33;43m\"\u001b[39;49m\u001b[33;43mcompression\u001b[39;49m\u001b[33;43m\"\u001b[39;49m\u001b[43m,\u001b[49m\u001b[43m \u001b[49m\u001b[38;5;28;43;01mNone\u001b[39;49;00m\u001b[43m)\u001b[49m\u001b[43m,\u001b[49m\n\u001b[32m   1885\u001b[39m \u001b[43m    \u001b[49m\u001b[43mmemory_map\u001b[49m\u001b[43m=\u001b[49m\u001b[38;5;28;43mself\u001b[39;49m\u001b[43m.\u001b[49m\u001b[43moptions\u001b[49m\u001b[43m.\u001b[49m\u001b[43mget\u001b[49m\u001b[43m(\u001b[49m\u001b[33;43m\"\u001b[39;49m\u001b[33;43mmemory_map\u001b[39;49m\u001b[33;43m\"\u001b[39;49m\u001b[43m,\u001b[49m\u001b[43m \u001b[49m\u001b[38;5;28;43;01mFalse\u001b[39;49;00m\u001b[43m)\u001b[49m\u001b[43m,\u001b[49m\n\u001b[32m   1886\u001b[39m \u001b[43m    \u001b[49m\u001b[43mis_text\u001b[49m\u001b[43m=\u001b[49m\u001b[43mis_text\u001b[49m\u001b[43m,\u001b[49m\n\u001b[32m   1887\u001b[39m \u001b[43m    \u001b[49m\u001b[43merrors\u001b[49m\u001b[43m=\u001b[49m\u001b[38;5;28;43mself\u001b[39;49m\u001b[43m.\u001b[49m\u001b[43moptions\u001b[49m\u001b[43m.\u001b[49m\u001b[43mget\u001b[49m\u001b[43m(\u001b[49m\u001b[33;43m\"\u001b[39;49m\u001b[33;43mencoding_errors\u001b[39;49m\u001b[33;43m\"\u001b[39;49m\u001b[43m,\u001b[49m\u001b[43m \u001b[49m\u001b[33;43m\"\u001b[39;49m\u001b[33;43mstrict\u001b[39;49m\u001b[33;43m\"\u001b[39;49m\u001b[43m)\u001b[49m\u001b[43m,\u001b[49m\n\u001b[32m   1888\u001b[39m \u001b[43m    \u001b[49m\u001b[43mstorage_options\u001b[49m\u001b[43m=\u001b[49m\u001b[38;5;28;43mself\u001b[39;49m\u001b[43m.\u001b[49m\u001b[43moptions\u001b[49m\u001b[43m.\u001b[49m\u001b[43mget\u001b[49m\u001b[43m(\u001b[49m\u001b[33;43m\"\u001b[39;49m\u001b[33;43mstorage_options\u001b[39;49m\u001b[33;43m\"\u001b[39;49m\u001b[43m,\u001b[49m\u001b[43m \u001b[49m\u001b[38;5;28;43;01mNone\u001b[39;49;00m\u001b[43m)\u001b[49m\u001b[43m,\u001b[49m\n\u001b[32m   1889\u001b[39m \u001b[43m\u001b[49m\u001b[43m)\u001b[49m\n\u001b[32m   1890\u001b[39m \u001b[38;5;28;01massert\u001b[39;00m \u001b[38;5;28mself\u001b[39m.handles \u001b[38;5;129;01mis\u001b[39;00m \u001b[38;5;129;01mnot\u001b[39;00m \u001b[38;5;28;01mNone\u001b[39;00m\n\u001b[32m   1891\u001b[39m f = \u001b[38;5;28mself\u001b[39m.handles.handle\n",
      "\u001b[36mFile \u001b[39m\u001b[32m~\\AppData\\Roaming\\Python\\Python313\\site-packages\\pandas\\io\\common.py:873\u001b[39m, in \u001b[36mget_handle\u001b[39m\u001b[34m(path_or_buf, mode, encoding, compression, memory_map, is_text, errors, storage_options)\u001b[39m\n\u001b[32m    868\u001b[39m \u001b[38;5;28;01melif\u001b[39;00m \u001b[38;5;28misinstance\u001b[39m(handle, \u001b[38;5;28mstr\u001b[39m):\n\u001b[32m    869\u001b[39m     \u001b[38;5;66;03m# Check whether the filename is to be opened in binary mode.\u001b[39;00m\n\u001b[32m    870\u001b[39m     \u001b[38;5;66;03m# Binary mode does not support 'encoding' and 'newline'.\u001b[39;00m\n\u001b[32m    871\u001b[39m     \u001b[38;5;28;01mif\u001b[39;00m ioargs.encoding \u001b[38;5;129;01mand\u001b[39;00m \u001b[33m\"\u001b[39m\u001b[33mb\u001b[39m\u001b[33m\"\u001b[39m \u001b[38;5;129;01mnot\u001b[39;00m \u001b[38;5;129;01min\u001b[39;00m ioargs.mode:\n\u001b[32m    872\u001b[39m         \u001b[38;5;66;03m# Encoding\u001b[39;00m\n\u001b[32m--> \u001b[39m\u001b[32m873\u001b[39m         handle = \u001b[38;5;28;43mopen\u001b[39;49m\u001b[43m(\u001b[49m\n\u001b[32m    874\u001b[39m \u001b[43m            \u001b[49m\u001b[43mhandle\u001b[49m\u001b[43m,\u001b[49m\n\u001b[32m    875\u001b[39m \u001b[43m            \u001b[49m\u001b[43mioargs\u001b[49m\u001b[43m.\u001b[49m\u001b[43mmode\u001b[49m\u001b[43m,\u001b[49m\n\u001b[32m    876\u001b[39m \u001b[43m            \u001b[49m\u001b[43mencoding\u001b[49m\u001b[43m=\u001b[49m\u001b[43mioargs\u001b[49m\u001b[43m.\u001b[49m\u001b[43mencoding\u001b[49m\u001b[43m,\u001b[49m\n\u001b[32m    877\u001b[39m \u001b[43m            \u001b[49m\u001b[43merrors\u001b[49m\u001b[43m=\u001b[49m\u001b[43merrors\u001b[49m\u001b[43m,\u001b[49m\n\u001b[32m    878\u001b[39m \u001b[43m            \u001b[49m\u001b[43mnewline\u001b[49m\u001b[43m=\u001b[49m\u001b[33;43m\"\u001b[39;49m\u001b[33;43m\"\u001b[39;49m\u001b[43m,\u001b[49m\n\u001b[32m    879\u001b[39m \u001b[43m        \u001b[49m\u001b[43m)\u001b[49m\n\u001b[32m    880\u001b[39m     \u001b[38;5;28;01melse\u001b[39;00m:\n\u001b[32m    881\u001b[39m         \u001b[38;5;66;03m# Binary mode\u001b[39;00m\n\u001b[32m    882\u001b[39m         handle = \u001b[38;5;28mopen\u001b[39m(handle, ioargs.mode)\n",
      "\u001b[31mFileNotFoundError\u001b[39m: [Errno 2] No such file or directory: 'athlete_events.csv'"
     ]
    }
   ],
   "source": [
    "df= pd.read_csv('athlete_events.csv')"
   ]
  },
  {
   "cell_type": "code",
   "execution_count": null,
   "id": "5e5244aa",
   "metadata": {},
   "outputs": [
    {
     "data": {
      "text/plain": [
       "ID        False\n",
       "Name      False\n",
       "Sex       False\n",
       "Age        True\n",
       "Height     True\n",
       "Weight     True\n",
       "Team      False\n",
       "NOC       False\n",
       "Games     False\n",
       "Year      False\n",
       "Season    False\n",
       "City      False\n",
       "Sport     False\n",
       "Event     False\n",
       "Medal      True\n",
       "dtype: bool"
      ]
     },
     "execution_count": 62,
     "metadata": {},
     "output_type": "execute_result"
    }
   ],
   "source": [
    "df.isna().any()"
   ]
  },
  {
   "cell_type": "code",
   "execution_count": null,
   "id": "f494e427",
   "metadata": {},
   "outputs": [
    {
     "data": {
      "text/plain": [
       "ID      Name                                 Sex  Age   Height  Weight  Team          NOC  Games        Year  Season  City       Sport       Event                                   Medal \n",
       "16      Juhamatti Tapio Aaltonen             M    28.0  184.0   85.0    Finland       FIN  2014 Winter  2014  Winter  Sochi      Ice Hockey  Ice Hockey Men's Ice Hockey             Bronze    1\n",
       "17      Paavo Johannes Aaltonen              M    28.0  175.0   64.0    Finland       FIN  1948 Summer  1948  Summer  London     Gymnastics  Gymnastics Men's Horse Vault            Gold      1\n",
       "                                                                                                                                             Gymnastics Men's Individual All-Around  Bronze    1\n",
       "                                                                                                                                             Gymnastics Men's Pommelled Horse        Gold      1\n",
       "                                                                                                                                             Gymnastics Men's Team All-Around        Gold      1\n",
       "                                                                                                                                                                                              ..\n",
       "135553  Galina Ivanovna Zybina (-Fyodorova)  F    25.0  168.0   80.0    Soviet Union  URS  1956 Summer  1956  Summer  Melbourne  Athletics   Athletics Women's Shot Put              Silver    1\n",
       "                                                  33.0  168.0   80.0    Soviet Union  URS  1964 Summer  1964  Summer  Tokyo      Athletics   Athletics Women's Shot Put              Bronze    1\n",
       "135554  Bogusaw Zych                         M    28.0  182.0   82.0    Poland        POL  1980 Summer  1980  Summer  Moskva     Fencing     Fencing Men's Foil, Team                Bronze    1\n",
       "135563  Olesya Nikolayevna Zykina            F    19.0  171.0   64.0    Russia        RUS  2000 Summer  2000  Summer  Sydney     Athletics   Athletics Women's 4 x 400 metres Relay  Bronze    1\n",
       "                                                  23.0  171.0   64.0    Russia        RUS  2004 Summer  2004  Summer  Athina     Athletics   Athletics Women's 4 x 400 metres Relay  Silver    1\n",
       "Name: count, Length: 30181, dtype: int64"
      ]
     },
     "execution_count": 77,
     "metadata": {},
     "output_type": "execute_result"
    }
   ],
   "source": [
    "df.value_counts(ascending=False)"
   ]
  },
  {
   "cell_type": "code",
   "execution_count": null,
   "id": "cffed5b0",
   "metadata": {},
   "outputs": [],
   "source": []
  }
 ],
 "metadata": {
  "kernelspec": {
   "display_name": "Python 3",
   "language": "python",
   "name": "python3"
  },
  "language_info": {
   "codemirror_mode": {
    "name": "ipython",
    "version": 3
   },
   "file_extension": ".py",
   "mimetype": "text/x-python",
   "name": "python",
   "nbconvert_exporter": "python",
   "pygments_lexer": "ipython3",
   "version": "3.13.5"
  }
 },
 "nbformat": 4,
 "nbformat_minor": 5
}
