{
 "cells": [
  {
   "cell_type": "markdown",
   "id": "03826a24",
   "metadata": {},
   "source": [
    "feature extraction project in python pandas"
   ]
  },
  {
   "cell_type": "code",
   "execution_count": 34,
   "id": "77408e35",
   "metadata": {},
   "outputs": [],
   "source": [
    "import numpy as np\n",
    "import pandas as pd"
   ]
  },
  {
   "cell_type": "code",
   "execution_count": 35,
   "id": "6a3b35f2",
   "metadata": {},
   "outputs": [],
   "source": [
    "df = pd.read_csv(r'anime.csv')"
   ]
  },
  {
   "cell_type": "code",
   "execution_count": 36,
   "id": "74032930",
   "metadata": {},
   "outputs": [
    {
     "data": {
      "text/html": [
       "<div>\n",
       "<style scoped>\n",
       "    .dataframe tbody tr th:only-of-type {\n",
       "        vertical-align: middle;\n",
       "    }\n",
       "\n",
       "    .dataframe tbody tr th {\n",
       "        vertical-align: top;\n",
       "    }\n",
       "\n",
       "    .dataframe thead th {\n",
       "        text-align: right;\n",
       "    }\n",
       "</style>\n",
       "<table border=\"1\" class=\"dataframe\">\n",
       "  <thead>\n",
       "    <tr style=\"text-align: right;\">\n",
       "      <th></th>\n",
       "      <th>Rank</th>\n",
       "      <th>Title</th>\n",
       "      <th>Score</th>\n",
       "    </tr>\n",
       "  </thead>\n",
       "  <tbody>\n",
       "    <tr>\n",
       "      <th>45</th>\n",
       "      <td>46</td>\n",
       "      <td>Vinland SagaTV (24 eps)Jul 2019 - Dec 20191,40...</td>\n",
       "      <td>8.74</td>\n",
       "    </tr>\n",
       "    <tr>\n",
       "      <th>46</th>\n",
       "      <td>47</td>\n",
       "      <td>Mushishi Zoku Shou 2nd SeasonTV (10 eps)Oct 20...</td>\n",
       "      <td>8.73</td>\n",
       "    </tr>\n",
       "    <tr>\n",
       "      <th>47</th>\n",
       "      <td>48</td>\n",
       "      <td>Shouwa Genroku Rakugo Shinjuu: Sukeroku Futata...</td>\n",
       "      <td>8.72</td>\n",
       "    </tr>\n",
       "    <tr>\n",
       "      <th>48</th>\n",
       "      <td>49</td>\n",
       "      <td>Mob Psycho 100 IIITV (12 eps)Oct 2022 - Dec 20...</td>\n",
       "      <td>8.71</td>\n",
       "    </tr>\n",
       "    <tr>\n",
       "      <th>49</th>\n",
       "      <td>50</td>\n",
       "      <td>Rurouni Kenshin: Meiji Kenkaku Romantan - Tsui...</td>\n",
       "      <td>8.71</td>\n",
       "    </tr>\n",
       "  </tbody>\n",
       "</table>\n",
       "</div>"
      ],
      "text/plain": [
       "    Rank                                              Title  Score\n",
       "45    46  Vinland SagaTV (24 eps)Jul 2019 - Dec 20191,40...   8.74\n",
       "46    47  Mushishi Zoku Shou 2nd SeasonTV (10 eps)Oct 20...   8.73\n",
       "47    48  Shouwa Genroku Rakugo Shinjuu: Sukeroku Futata...   8.72\n",
       "48    49  Mob Psycho 100 IIITV (12 eps)Oct 2022 - Dec 20...   8.71\n",
       "49    50  Rurouni Kenshin: Meiji Kenkaku Romantan - Tsui...   8.71"
      ]
     },
     "execution_count": 36,
     "metadata": {},
     "output_type": "execute_result"
    }
   ],
   "source": [
    "df.tail()"
   ]
  },
  {
   "cell_type": "code",
   "execution_count": 37,
   "id": "de30c01d",
   "metadata": {},
   "outputs": [
    {
     "data": {
      "text/plain": [
       "'Mob Psycho 100 IIITV (12 eps)Oct 2022 - Dec 2022600,098 members'"
      ]
     },
     "execution_count": 37,
     "metadata": {},
     "output_type": "execute_result"
    }
   ],
   "source": [
    "df.loc[48]['Title'] "
   ]
  },
  {
   "cell_type": "code",
   "execution_count": 38,
   "id": "da3294d1",
   "metadata": {},
   "outputs": [],
   "source": [
    "def extt(t):\n",
    "    check= False\n",
    "    data= \"\"\n",
    "    \n",
    "    for i in t:\n",
    "        if i ==\")\":\n",
    "            check = False;\n",
    "            break;\n",
    "        if i =='(':\n",
    "            check=True\n",
    "            continue;\n",
    "            \n",
    "        if check ==True:\n",
    "            data+=i;\n",
    "    \n",
    "    return data"
   ]
  },
  {
   "cell_type": "code",
   "execution_count": 39,
   "id": "04572659",
   "metadata": {},
   "outputs": [],
   "source": [
    "df['episode'] =df['Title'].apply(extt)"
   ]
  },
  {
   "cell_type": "code",
   "execution_count": 40,
   "id": "3bc7a96c",
   "metadata": {},
   "outputs": [
    {
     "data": {
      "text/html": [
       "<div>\n",
       "<style scoped>\n",
       "    .dataframe tbody tr th:only-of-type {\n",
       "        vertical-align: middle;\n",
       "    }\n",
       "\n",
       "    .dataframe tbody tr th {\n",
       "        vertical-align: top;\n",
       "    }\n",
       "\n",
       "    .dataframe thead th {\n",
       "        text-align: right;\n",
       "    }\n",
       "</style>\n",
       "<table border=\"1\" class=\"dataframe\">\n",
       "  <thead>\n",
       "    <tr style=\"text-align: right;\">\n",
       "      <th></th>\n",
       "      <th>Rank</th>\n",
       "      <th>Title</th>\n",
       "      <th>Score</th>\n",
       "      <th>episode</th>\n",
       "    </tr>\n",
       "  </thead>\n",
       "  <tbody>\n",
       "    <tr>\n",
       "      <th>0</th>\n",
       "      <td>1</td>\n",
       "      <td>Fullmetal Alchemist: BrotherhoodTV (64 eps)Apr...</td>\n",
       "      <td>9.10</td>\n",
       "      <td>64 eps</td>\n",
       "    </tr>\n",
       "    <tr>\n",
       "      <th>1</th>\n",
       "      <td>2</td>\n",
       "      <td>Steins;GateTV (24 eps)Apr 2011 - Sep 20112,473...</td>\n",
       "      <td>9.07</td>\n",
       "      <td>24 eps</td>\n",
       "    </tr>\n",
       "    <tr>\n",
       "      <th>2</th>\n",
       "      <td>3</td>\n",
       "      <td>Bleach: Sennen Kessen-henTV (13 eps)Oct 2022 -...</td>\n",
       "      <td>9.06</td>\n",
       "      <td>13 eps</td>\n",
       "    </tr>\n",
       "    <tr>\n",
       "      <th>3</th>\n",
       "      <td>4</td>\n",
       "      <td>Gintama°TV (51 eps)Apr 2015 - Mar 2016605,113 ...</td>\n",
       "      <td>9.06</td>\n",
       "      <td>51 eps</td>\n",
       "    </tr>\n",
       "    <tr>\n",
       "      <th>4</th>\n",
       "      <td>5</td>\n",
       "      <td>Shingeki no Kyojin Season 3 Part 2TV (10 eps)A...</td>\n",
       "      <td>9.05</td>\n",
       "      <td>10 eps</td>\n",
       "    </tr>\n",
       "  </tbody>\n",
       "</table>\n",
       "</div>"
      ],
      "text/plain": [
       "   Rank                                              Title  Score episode\n",
       "0     1  Fullmetal Alchemist: BrotherhoodTV (64 eps)Apr...   9.10  64 eps\n",
       "1     2  Steins;GateTV (24 eps)Apr 2011 - Sep 20112,473...   9.07  24 eps\n",
       "2     3  Bleach: Sennen Kessen-henTV (13 eps)Oct 2022 -...   9.06  13 eps\n",
       "3     4  Gintama°TV (51 eps)Apr 2015 - Mar 2016605,113 ...   9.06  51 eps\n",
       "4     5  Shingeki no Kyojin Season 3 Part 2TV (10 eps)A...   9.05  10 eps"
      ]
     },
     "execution_count": 40,
     "metadata": {},
     "output_type": "execute_result"
    }
   ],
   "source": [
    "df.head()"
   ]
  },
  {
   "cell_type": "code",
   "execution_count": 41,
   "id": "ebfa9f99",
   "metadata": {},
   "outputs": [],
   "source": [
    "df['episode'] =df['episode'].str.replace('eps',\"\")"
   ]
  },
  {
   "cell_type": "code",
   "execution_count": 42,
   "id": "3b31bad2",
   "metadata": {},
   "outputs": [],
   "source": [
    "df['episode']= df['episode'].astype(int)"
   ]
  },
  {
   "cell_type": "code",
   "execution_count": 43,
   "id": "60e99ebc",
   "metadata": {},
   "outputs": [
    {
     "data": {
      "text/plain": [
       "numpy.int64"
      ]
     },
     "execution_count": 43,
     "metadata": {},
     "output_type": "execute_result"
    }
   ],
   "source": [
    "type(df.loc[0]['episode'])"
   ]
  },
  {
   "cell_type": "markdown",
   "id": "90910003",
   "metadata": {},
   "source": [
    "extract date from title"
   ]
  },
  {
   "cell_type": "code",
   "execution_count": 44,
   "id": "342a87b5",
   "metadata": {},
   "outputs": [],
   "source": [
    "def extract_time(txt):\n",
    "    check = False;\n",
    "    data=\"\"\n",
    "    \n",
    "    for i in range(len(txt)):\n",
    "        if txt[i] ==\")\":\n",
    "            for j in range(i+1,i+20):\n",
    "                data +=txt[j]\n",
    "                \n",
    "            return data"
   ]
  },
  {
   "cell_type": "code",
   "execution_count": 45,
   "id": "4ebae62b",
   "metadata": {},
   "outputs": [
    {
     "data": {
      "text/plain": [
       "0     Apr 2009 - Jul 2010\n",
       "1     Apr 2011 - Sep 2011\n",
       "2     Oct 2022 - Dec 2022\n",
       "3     Apr 2015 - Mar 2016\n",
       "4     Apr 2019 - Jul 2019\n",
       "5     Apr 2011 - Mar 2012\n",
       "6     Jan 2021 - Jan 2021\n",
       "7     Oct 2011 - Sep 2014\n",
       "8     Apr 2022 - Jun 2022\n",
       "9     Oct 2012 - Mar 2013\n",
       "10    Mar 2023 - May 2023\n",
       "11    Jan 1988 - Mar 1997\n",
       "12    Jul 2023 - Aug 2023\n",
       "13    Apr 2021 - Jun 2021\n",
       "14    Jan 2017 - Mar 2017\n",
       "15    Apr 2006 - Mar 2010\n",
       "16    Sep 2016 - Sep 2016\n",
       "17    Oct 2017 - Mar 2018\n",
       "18    Oct 2008 - Mar 2009\n",
       "19    Apr 2008 - Sep 2008\n",
       "20    Jul 2013 - Jul 2013\n",
       "21    Sep 2020 - Sep 2020\n",
       "22    Aug 2017 - Aug 2017\n",
       "23    Jul 2018 - Oct 2018\n",
       "24    Apr 2004 - Sep 2005\n",
       "25    Aug 2016 - Aug 2016\n",
       "26    Dec 2022 - Dec 2022\n",
       "27    Oct 2022 - Dec 2022\n",
       "28    Dec 2022 - Dec 2022\n",
       "29    Jan 2023 - Jun 2023\n",
       "30    Jul 2023 - Aug 2023\n",
       "31    Jan 2018 - Mar 2018\n",
       "32    Apr 2020 - Oct 2021\n",
       "33    Jan 2019 - Apr 2019\n",
       "34    Dec 2020 - Mar 2021\n",
       "35    Dec 2021 - Feb 2022\n",
       "36    Jan 2017 - Jan 2017\n",
       "37    Apr 2023 - Jun 2023\n",
       "38    Oct 2016 - Dec 2016\n",
       "39    Jul 2001 - Jul 2001\n",
       "40    Jul 2013 - Dec 2013\n",
       "41    Jan 2022 - Apr 2022\n",
       "42    Oct 2000 - Mar 2002\n",
       "43    Apr 1998 - Apr 1999\n",
       "44    Apr 2022 - Oct 2022\n",
       "45    Jul 2019 - Dec 2019\n",
       "46    Oct 2014 - Dec 2014\n",
       "47    Jan 2017 - Mar 2017\n",
       "48    Oct 2022 - Dec 2022\n",
       "49    Feb 1999 - Sep 1999\n",
       "Name: Title, dtype: object"
      ]
     },
     "execution_count": 45,
     "metadata": {},
     "output_type": "execute_result"
    }
   ],
   "source": [
    "df['Title'].apply(extract_time)"
   ]
  },
  {
   "cell_type": "code",
   "execution_count": 46,
   "id": "9a742518",
   "metadata": {},
   "outputs": [],
   "source": [
    "df['total time'] = df['Title'].apply(extract_time)"
   ]
  },
  {
   "cell_type": "code",
   "execution_count": 47,
   "id": "2e38518c",
   "metadata": {},
   "outputs": [
    {
     "data": {
      "text/html": [
       "<div>\n",
       "<style scoped>\n",
       "    .dataframe tbody tr th:only-of-type {\n",
       "        vertical-align: middle;\n",
       "    }\n",
       "\n",
       "    .dataframe tbody tr th {\n",
       "        vertical-align: top;\n",
       "    }\n",
       "\n",
       "    .dataframe thead th {\n",
       "        text-align: right;\n",
       "    }\n",
       "</style>\n",
       "<table border=\"1\" class=\"dataframe\">\n",
       "  <thead>\n",
       "    <tr style=\"text-align: right;\">\n",
       "      <th></th>\n",
       "      <th>Rank</th>\n",
       "      <th>Title</th>\n",
       "      <th>Score</th>\n",
       "      <th>episode</th>\n",
       "      <th>total time</th>\n",
       "    </tr>\n",
       "  </thead>\n",
       "  <tbody>\n",
       "    <tr>\n",
       "      <th>0</th>\n",
       "      <td>1</td>\n",
       "      <td>Fullmetal Alchemist: BrotherhoodTV (64 eps)Apr...</td>\n",
       "      <td>9.10</td>\n",
       "      <td>64</td>\n",
       "      <td>Apr 2009 - Jul 2010</td>\n",
       "    </tr>\n",
       "    <tr>\n",
       "      <th>1</th>\n",
       "      <td>2</td>\n",
       "      <td>Steins;GateTV (24 eps)Apr 2011 - Sep 20112,473...</td>\n",
       "      <td>9.07</td>\n",
       "      <td>24</td>\n",
       "      <td>Apr 2011 - Sep 2011</td>\n",
       "    </tr>\n",
       "    <tr>\n",
       "      <th>2</th>\n",
       "      <td>3</td>\n",
       "      <td>Bleach: Sennen Kessen-henTV (13 eps)Oct 2022 -...</td>\n",
       "      <td>9.06</td>\n",
       "      <td>13</td>\n",
       "      <td>Oct 2022 - Dec 2022</td>\n",
       "    </tr>\n",
       "    <tr>\n",
       "      <th>3</th>\n",
       "      <td>4</td>\n",
       "      <td>Gintama°TV (51 eps)Apr 2015 - Mar 2016605,113 ...</td>\n",
       "      <td>9.06</td>\n",
       "      <td>51</td>\n",
       "      <td>Apr 2015 - Mar 2016</td>\n",
       "    </tr>\n",
       "    <tr>\n",
       "      <th>4</th>\n",
       "      <td>5</td>\n",
       "      <td>Shingeki no Kyojin Season 3 Part 2TV (10 eps)A...</td>\n",
       "      <td>9.05</td>\n",
       "      <td>10</td>\n",
       "      <td>Apr 2019 - Jul 2019</td>\n",
       "    </tr>\n",
       "  </tbody>\n",
       "</table>\n",
       "</div>"
      ],
      "text/plain": [
       "   Rank                                              Title  Score  episode  \\\n",
       "0     1  Fullmetal Alchemist: BrotherhoodTV (64 eps)Apr...   9.10       64   \n",
       "1     2  Steins;GateTV (24 eps)Apr 2011 - Sep 20112,473...   9.07       24   \n",
       "2     3  Bleach: Sennen Kessen-henTV (13 eps)Oct 2022 -...   9.06       13   \n",
       "3     4  Gintama°TV (51 eps)Apr 2015 - Mar 2016605,113 ...   9.06       51   \n",
       "4     5  Shingeki no Kyojin Season 3 Part 2TV (10 eps)A...   9.05       10   \n",
       "\n",
       "            total time  \n",
       "0  Apr 2009 - Jul 2010  \n",
       "1  Apr 2011 - Sep 2011  \n",
       "2  Oct 2022 - Dec 2022  \n",
       "3  Apr 2015 - Mar 2016  \n",
       "4  Apr 2019 - Jul 2019  "
      ]
     },
     "execution_count": 47,
     "metadata": {},
     "output_type": "execute_result"
    }
   ],
   "source": [
    "df.head()"
   ]
  },
  {
   "cell_type": "code",
   "execution_count": 48,
   "id": "45b90543",
   "metadata": {},
   "outputs": [
    {
     "data": {
      "text/plain": [
       "Rank                                                          1\n",
       "Title         Fullmetal Alchemist: BrotherhoodTV (64 eps)Apr...\n",
       "Score                                                       9.1\n",
       "episode                                                      64\n",
       "total time                                  Apr 2009 - Jul 2010\n",
       "Name: 0, dtype: object"
      ]
     },
     "execution_count": 48,
     "metadata": {},
     "output_type": "execute_result"
    }
   ],
   "source": [
    "df.loc[0]"
   ]
  },
  {
   "cell_type": "code",
   "execution_count": 49,
   "id": "f62f756f",
   "metadata": {},
   "outputs": [
    {
     "data": {
      "text/plain": [
       "np.float64(9.9)"
      ]
     },
     "execution_count": 49,
     "metadata": {},
     "output_type": "execute_result"
    }
   ],
   "source": [
    "df['Score'].max()"
   ]
  },
  {
   "cell_type": "code",
   "execution_count": 50,
   "id": "c3f6d288",
   "metadata": {},
   "outputs": [
    {
     "data": {
      "text/html": [
       "<div>\n",
       "<style scoped>\n",
       "    .dataframe tbody tr th:only-of-type {\n",
       "        vertical-align: middle;\n",
       "    }\n",
       "\n",
       "    .dataframe tbody tr th {\n",
       "        vertical-align: top;\n",
       "    }\n",
       "\n",
       "    .dataframe thead th {\n",
       "        text-align: right;\n",
       "    }\n",
       "</style>\n",
       "<table border=\"1\" class=\"dataframe\">\n",
       "  <thead>\n",
       "    <tr style=\"text-align: right;\">\n",
       "      <th></th>\n",
       "      <th>Rank</th>\n",
       "      <th>Title</th>\n",
       "      <th>Score</th>\n",
       "      <th>episode</th>\n",
       "      <th>total time</th>\n",
       "    </tr>\n",
       "  </thead>\n",
       "  <tbody>\n",
       "    <tr>\n",
       "      <th>11</th>\n",
       "      <td>12</td>\n",
       "      <td>Ginga Eiyuu DensetsuOVA (110 eps)Jan 1988 - Ma...</td>\n",
       "      <td>9.9</td>\n",
       "      <td>110</td>\n",
       "      <td>Jan 1988 - Mar 1997</td>\n",
       "    </tr>\n",
       "  </tbody>\n",
       "</table>\n",
       "</div>"
      ],
      "text/plain": [
       "    Rank                                              Title  Score  episode  \\\n",
       "11    12  Ginga Eiyuu DensetsuOVA (110 eps)Jan 1988 - Ma...    9.9      110   \n",
       "\n",
       "             total time  \n",
       "11  Jan 1988 - Mar 1997  "
      ]
     },
     "execution_count": 50,
     "metadata": {},
     "output_type": "execute_result"
    }
   ],
   "source": [
    "df[df['Score']==df['Score'].max()]\n"
   ]
  },
  {
   "cell_type": "code",
   "execution_count": 51,
   "id": "cba99364",
   "metadata": {},
   "outputs": [],
   "source": [
    "# top 5 score anime\n",
    "top5 =df.nlargest(5,'Score')"
   ]
  },
  {
   "cell_type": "code",
   "execution_count": 52,
   "id": "c3066ca3",
   "metadata": {},
   "outputs": [
    {
     "data": {
      "text/html": [
       "<div>\n",
       "<style scoped>\n",
       "    .dataframe tbody tr th:only-of-type {\n",
       "        vertical-align: middle;\n",
       "    }\n",
       "\n",
       "    .dataframe tbody tr th {\n",
       "        vertical-align: top;\n",
       "    }\n",
       "\n",
       "    .dataframe thead th {\n",
       "        text-align: right;\n",
       "    }\n",
       "</style>\n",
       "<table border=\"1\" class=\"dataframe\">\n",
       "  <thead>\n",
       "    <tr style=\"text-align: right;\">\n",
       "      <th></th>\n",
       "      <th>Rank</th>\n",
       "      <th>Title</th>\n",
       "      <th>Score</th>\n",
       "      <th>episode</th>\n",
       "      <th>total time</th>\n",
       "    </tr>\n",
       "  </thead>\n",
       "  <tbody>\n",
       "    <tr>\n",
       "      <th>11</th>\n",
       "      <td>12</td>\n",
       "      <td>Ginga Eiyuu DensetsuOVA (110 eps)Jan 1988 - Ma...</td>\n",
       "      <td>9.90</td>\n",
       "      <td>110</td>\n",
       "      <td>Jan 1988 - Mar 1997</td>\n",
       "    </tr>\n",
       "    <tr>\n",
       "      <th>0</th>\n",
       "      <td>1</td>\n",
       "      <td>Fullmetal Alchemist: BrotherhoodTV (64 eps)Apr...</td>\n",
       "      <td>9.10</td>\n",
       "      <td>64</td>\n",
       "      <td>Apr 2009 - Jul 2010</td>\n",
       "    </tr>\n",
       "    <tr>\n",
       "      <th>1</th>\n",
       "      <td>2</td>\n",
       "      <td>Steins;GateTV (24 eps)Apr 2011 - Sep 20112,473...</td>\n",
       "      <td>9.07</td>\n",
       "      <td>24</td>\n",
       "      <td>Apr 2011 - Sep 2011</td>\n",
       "    </tr>\n",
       "    <tr>\n",
       "      <th>2</th>\n",
       "      <td>3</td>\n",
       "      <td>Bleach: Sennen Kessen-henTV (13 eps)Oct 2022 -...</td>\n",
       "      <td>9.06</td>\n",
       "      <td>13</td>\n",
       "      <td>Oct 2022 - Dec 2022</td>\n",
       "    </tr>\n",
       "    <tr>\n",
       "      <th>3</th>\n",
       "      <td>4</td>\n",
       "      <td>Gintama°TV (51 eps)Apr 2015 - Mar 2016605,113 ...</td>\n",
       "      <td>9.06</td>\n",
       "      <td>51</td>\n",
       "      <td>Apr 2015 - Mar 2016</td>\n",
       "    </tr>\n",
       "  </tbody>\n",
       "</table>\n",
       "</div>"
      ],
      "text/plain": [
       "    Rank                                              Title  Score  episode  \\\n",
       "11    12  Ginga Eiyuu DensetsuOVA (110 eps)Jan 1988 - Ma...   9.90      110   \n",
       "0      1  Fullmetal Alchemist: BrotherhoodTV (64 eps)Apr...   9.10       64   \n",
       "1      2  Steins;GateTV (24 eps)Apr 2011 - Sep 20112,473...   9.07       24   \n",
       "2      3  Bleach: Sennen Kessen-henTV (13 eps)Oct 2022 -...   9.06       13   \n",
       "3      4  Gintama°TV (51 eps)Apr 2015 - Mar 2016605,113 ...   9.06       51   \n",
       "\n",
       "             total time  \n",
       "11  Jan 1988 - Mar 1997  \n",
       "0   Apr 2009 - Jul 2010  \n",
       "1   Apr 2011 - Sep 2011  \n",
       "2   Oct 2022 - Dec 2022  \n",
       "3   Apr 2015 - Mar 2016  "
      ]
     },
     "execution_count": 52,
     "metadata": {},
     "output_type": "execute_result"
    }
   ],
   "source": [
    "top5"
   ]
  },
  {
   "cell_type": "code",
   "execution_count": 57,
   "id": "09cf9dd2",
   "metadata": {},
   "outputs": [
    {
     "data": {
      "text/html": [
       "<div>\n",
       "<style scoped>\n",
       "    .dataframe tbody tr th:only-of-type {\n",
       "        vertical-align: middle;\n",
       "    }\n",
       "\n",
       "    .dataframe tbody tr th {\n",
       "        vertical-align: top;\n",
       "    }\n",
       "\n",
       "    .dataframe thead th {\n",
       "        text-align: right;\n",
       "    }\n",
       "</style>\n",
       "<table border=\"1\" class=\"dataframe\">\n",
       "  <thead>\n",
       "    <tr style=\"text-align: right;\">\n",
       "      <th></th>\n",
       "      <th>Rank</th>\n",
       "      <th>Title</th>\n",
       "      <th>Score</th>\n",
       "      <th>episode</th>\n",
       "      <th>total time</th>\n",
       "    </tr>\n",
       "  </thead>\n",
       "  <tbody>\n",
       "    <tr>\n",
       "      <th>15</th>\n",
       "      <td>16</td>\n",
       "      <td>GintamaTV (201 eps)Apr 2006 - Mar 20101,034,41...</td>\n",
       "      <td>8.94</td>\n",
       "      <td>201</td>\n",
       "      <td>Apr 2006 - Mar 2010</td>\n",
       "    </tr>\n",
       "  </tbody>\n",
       "</table>\n",
       "</div>"
      ],
      "text/plain": [
       "    Rank                                              Title  Score  episode  \\\n",
       "15    16  GintamaTV (201 eps)Apr 2006 - Mar 20101,034,41...   8.94      201   \n",
       "\n",
       "             total time  \n",
       "15  Apr 2006 - Mar 2010  "
      ]
     },
     "execution_count": 57,
     "metadata": {},
     "output_type": "execute_result"
    }
   ],
   "source": [
    "df[df['episode'] ==df['episode'].max()]"
   ]
  },
  {
   "cell_type": "code",
   "execution_count": 61,
   "id": "5843f393",
   "metadata": {},
   "outputs": [],
   "source": [
    "top_epi_5 =df.nlargest(5,'episode')"
   ]
  },
  {
   "cell_type": "code",
   "execution_count": 63,
   "id": "15e6b683",
   "metadata": {},
   "outputs": [
    {
     "data": {
      "text/html": [
       "<div>\n",
       "<style scoped>\n",
       "    .dataframe tbody tr th:only-of-type {\n",
       "        vertical-align: middle;\n",
       "    }\n",
       "\n",
       "    .dataframe tbody tr th {\n",
       "        vertical-align: top;\n",
       "    }\n",
       "\n",
       "    .dataframe thead th {\n",
       "        text-align: right;\n",
       "    }\n",
       "</style>\n",
       "<table border=\"1\" class=\"dataframe\">\n",
       "  <thead>\n",
       "    <tr style=\"text-align: right;\">\n",
       "      <th></th>\n",
       "      <th>Rank</th>\n",
       "      <th>Title</th>\n",
       "      <th>Score</th>\n",
       "      <th>episode</th>\n",
       "      <th>total time</th>\n",
       "    </tr>\n",
       "  </thead>\n",
       "  <tbody>\n",
       "    <tr>\n",
       "      <th>15</th>\n",
       "      <td>16</td>\n",
       "      <td>GintamaTV (201 eps)Apr 2006 - Mar 20101,034,41...</td>\n",
       "      <td>8.94</td>\n",
       "      <td>201</td>\n",
       "      <td>Apr 2006 - Mar 2010</td>\n",
       "    </tr>\n",
       "    <tr>\n",
       "      <th>7</th>\n",
       "      <td>8</td>\n",
       "      <td>Hunter x Hunter TV (148 eps)Oct 2011 - Sep 201...</td>\n",
       "      <td>9.04</td>\n",
       "      <td>148</td>\n",
       "      <td>Oct 2011 - Sep 2014</td>\n",
       "    </tr>\n",
       "    <tr>\n",
       "      <th>11</th>\n",
       "      <td>12</td>\n",
       "      <td>Ginga Eiyuu DensetsuOVA (110 eps)Jan 1988 - Ma...</td>\n",
       "      <td>9.90</td>\n",
       "      <td>110</td>\n",
       "      <td>Jan 1988 - Mar 1997</td>\n",
       "    </tr>\n",
       "    <tr>\n",
       "      <th>42</th>\n",
       "      <td>43</td>\n",
       "      <td>Hajime no IppoTV (75 eps)Oct 2000 - Mar 200255...</td>\n",
       "      <td>8.76</td>\n",
       "      <td>75</td>\n",
       "      <td>Oct 2000 - Mar 2002</td>\n",
       "    </tr>\n",
       "    <tr>\n",
       "      <th>24</th>\n",
       "      <td>25</td>\n",
       "      <td>MonsterTV (74 eps)Apr 2004 - Sep 20051,041,081...</td>\n",
       "      <td>8.87</td>\n",
       "      <td>74</td>\n",
       "      <td>Apr 2004 - Sep 2005</td>\n",
       "    </tr>\n",
       "  </tbody>\n",
       "</table>\n",
       "</div>"
      ],
      "text/plain": [
       "    Rank                                              Title  Score  episode  \\\n",
       "15    16  GintamaTV (201 eps)Apr 2006 - Mar 20101,034,41...   8.94      201   \n",
       "7      8  Hunter x Hunter TV (148 eps)Oct 2011 - Sep 201...   9.04      148   \n",
       "11    12  Ginga Eiyuu DensetsuOVA (110 eps)Jan 1988 - Ma...   9.90      110   \n",
       "42    43  Hajime no IppoTV (75 eps)Oct 2000 - Mar 200255...   8.76       75   \n",
       "24    25  MonsterTV (74 eps)Apr 2004 - Sep 20051,041,081...   8.87       74   \n",
       "\n",
       "             total time  \n",
       "15  Apr 2006 - Mar 2010  \n",
       "7   Oct 2011 - Sep 2014  \n",
       "11  Jan 1988 - Mar 1997  \n",
       "42  Oct 2000 - Mar 2002  \n",
       "24  Apr 2004 - Sep 2005  "
      ]
     },
     "execution_count": 63,
     "metadata": {},
     "output_type": "execute_result"
    }
   ],
   "source": [
    "top_epi_5"
   ]
  },
  {
   "cell_type": "code",
   "execution_count": null,
   "id": "452282dd",
   "metadata": {},
   "outputs": [],
   "source": [
    "#month \n",
    "# from model"
   ]
  },
  {
   "cell_type": "code",
   "execution_count": 64,
   "id": "46b197aa",
   "metadata": {},
   "outputs": [],
   "source": [
    "df[['start_str', 'end_str']] = df['total time'].str.extract(r'([A-Za-z]{3} \\d{4})\\s*-\\s*([A-Za-z]{3} \\d{4})')\n"
   ]
  },
  {
   "cell_type": "code",
   "execution_count": 65,
   "id": "8822500d",
   "metadata": {},
   "outputs": [],
   "source": [
    "df['start_date'] = pd.to_datetime(df['start_str'], format='%b %Y')\n",
    "df['end_date'] = pd.to_datetime(df['end_str'], format='%b %Y')\n"
   ]
  },
  {
   "cell_type": "code",
   "execution_count": 66,
   "id": "42406606",
   "metadata": {},
   "outputs": [],
   "source": [
    "df['duration_months'] = (df['end_date'].dt.year - df['start_date'].dt.year) * 12 + (df['end_date'].dt.month - df['start_date'].dt.month) + 1\n"
   ]
  },
  {
   "cell_type": "code",
   "execution_count": 72,
   "id": "7ed7688b",
   "metadata": {},
   "outputs": [],
   "source": [
    "df.drop(['start_date','end_date','start_str','end_str'],axis=1,inplace=True)"
   ]
  },
  {
   "cell_type": "code",
   "execution_count": 74,
   "id": "7b24227d",
   "metadata": {},
   "outputs": [
    {
     "data": {
      "text/html": [
       "<div>\n",
       "<style scoped>\n",
       "    .dataframe tbody tr th:only-of-type {\n",
       "        vertical-align: middle;\n",
       "    }\n",
       "\n",
       "    .dataframe tbody tr th {\n",
       "        vertical-align: top;\n",
       "    }\n",
       "\n",
       "    .dataframe thead th {\n",
       "        text-align: right;\n",
       "    }\n",
       "</style>\n",
       "<table border=\"1\" class=\"dataframe\">\n",
       "  <thead>\n",
       "    <tr style=\"text-align: right;\">\n",
       "      <th></th>\n",
       "      <th>Rank</th>\n",
       "      <th>Title</th>\n",
       "      <th>Score</th>\n",
       "      <th>episode</th>\n",
       "      <th>total time</th>\n",
       "      <th>duration_months</th>\n",
       "    </tr>\n",
       "  </thead>\n",
       "  <tbody>\n",
       "    <tr>\n",
       "      <th>0</th>\n",
       "      <td>1</td>\n",
       "      <td>Fullmetal Alchemist: BrotherhoodTV (64 eps)Apr...</td>\n",
       "      <td>9.10</td>\n",
       "      <td>64</td>\n",
       "      <td>Apr 2009 - Jul 2010</td>\n",
       "      <td>16</td>\n",
       "    </tr>\n",
       "    <tr>\n",
       "      <th>1</th>\n",
       "      <td>2</td>\n",
       "      <td>Steins;GateTV (24 eps)Apr 2011 - Sep 20112,473...</td>\n",
       "      <td>9.07</td>\n",
       "      <td>24</td>\n",
       "      <td>Apr 2011 - Sep 2011</td>\n",
       "      <td>6</td>\n",
       "    </tr>\n",
       "    <tr>\n",
       "      <th>2</th>\n",
       "      <td>3</td>\n",
       "      <td>Bleach: Sennen Kessen-henTV (13 eps)Oct 2022 -...</td>\n",
       "      <td>9.06</td>\n",
       "      <td>13</td>\n",
       "      <td>Oct 2022 - Dec 2022</td>\n",
       "      <td>3</td>\n",
       "    </tr>\n",
       "    <tr>\n",
       "      <th>3</th>\n",
       "      <td>4</td>\n",
       "      <td>Gintama°TV (51 eps)Apr 2015 - Mar 2016605,113 ...</td>\n",
       "      <td>9.06</td>\n",
       "      <td>51</td>\n",
       "      <td>Apr 2015 - Mar 2016</td>\n",
       "      <td>12</td>\n",
       "    </tr>\n",
       "    <tr>\n",
       "      <th>4</th>\n",
       "      <td>5</td>\n",
       "      <td>Shingeki no Kyojin Season 3 Part 2TV (10 eps)A...</td>\n",
       "      <td>9.05</td>\n",
       "      <td>10</td>\n",
       "      <td>Apr 2019 - Jul 2019</td>\n",
       "      <td>4</td>\n",
       "    </tr>\n",
       "  </tbody>\n",
       "</table>\n",
       "</div>"
      ],
      "text/plain": [
       "   Rank                                              Title  Score  episode  \\\n",
       "0     1  Fullmetal Alchemist: BrotherhoodTV (64 eps)Apr...   9.10       64   \n",
       "1     2  Steins;GateTV (24 eps)Apr 2011 - Sep 20112,473...   9.07       24   \n",
       "2     3  Bleach: Sennen Kessen-henTV (13 eps)Oct 2022 -...   9.06       13   \n",
       "3     4  Gintama°TV (51 eps)Apr 2015 - Mar 2016605,113 ...   9.06       51   \n",
       "4     5  Shingeki no Kyojin Season 3 Part 2TV (10 eps)A...   9.05       10   \n",
       "\n",
       "            total time  duration_months  \n",
       "0  Apr 2009 - Jul 2010               16  \n",
       "1  Apr 2011 - Sep 2011                6  \n",
       "2  Oct 2022 - Dec 2022                3  \n",
       "3  Apr 2015 - Mar 2016               12  \n",
       "4  Apr 2019 - Jul 2019                4  "
      ]
     },
     "execution_count": 74,
     "metadata": {},
     "output_type": "execute_result"
    }
   ],
   "source": [
    "df.head()"
   ]
  },
  {
   "cell_type": "code",
   "execution_count": 75,
   "id": "0796a1c3",
   "metadata": {},
   "outputs": [
    {
     "data": {
      "text/html": [
       "<div>\n",
       "<style scoped>\n",
       "    .dataframe tbody tr th:only-of-type {\n",
       "        vertical-align: middle;\n",
       "    }\n",
       "\n",
       "    .dataframe tbody tr th {\n",
       "        vertical-align: top;\n",
       "    }\n",
       "\n",
       "    .dataframe thead th {\n",
       "        text-align: right;\n",
       "    }\n",
       "</style>\n",
       "<table border=\"1\" class=\"dataframe\">\n",
       "  <thead>\n",
       "    <tr style=\"text-align: right;\">\n",
       "      <th></th>\n",
       "      <th>Rank</th>\n",
       "      <th>Title</th>\n",
       "      <th>Score</th>\n",
       "      <th>episode</th>\n",
       "      <th>total time</th>\n",
       "      <th>duration_months</th>\n",
       "    </tr>\n",
       "  </thead>\n",
       "  <tbody>\n",
       "    <tr>\n",
       "      <th>11</th>\n",
       "      <td>12</td>\n",
       "      <td>Ginga Eiyuu DensetsuOVA (110 eps)Jan 1988 - Ma...</td>\n",
       "      <td>9.9</td>\n",
       "      <td>110</td>\n",
       "      <td>Jan 1988 - Mar 1997</td>\n",
       "      <td>111</td>\n",
       "    </tr>\n",
       "  </tbody>\n",
       "</table>\n",
       "</div>"
      ],
      "text/plain": [
       "    Rank                                              Title  Score  episode  \\\n",
       "11    12  Ginga Eiyuu DensetsuOVA (110 eps)Jan 1988 - Ma...    9.9      110   \n",
       "\n",
       "             total time  duration_months  \n",
       "11  Jan 1988 - Mar 1997              111  "
      ]
     },
     "execution_count": 75,
     "metadata": {},
     "output_type": "execute_result"
    }
   ],
   "source": [
    "df[df['duration_months']==df['duration_months'].max()]"
   ]
  },
  {
   "cell_type": "code",
   "execution_count": null,
   "id": "28463252",
   "metadata": {},
   "outputs": [],
   "source": []
  }
 ],
 "metadata": {
  "kernelspec": {
   "display_name": "Python 3",
   "language": "python",
   "name": "python3"
  },
  "language_info": {
   "codemirror_mode": {
    "name": "ipython",
    "version": 3
   },
   "file_extension": ".py",
   "mimetype": "text/x-python",
   "name": "python",
   "nbconvert_exporter": "python",
   "pygments_lexer": "ipython3",
   "version": "3.13.7"
  }
 },
 "nbformat": 4,
 "nbformat_minor": 5
}
