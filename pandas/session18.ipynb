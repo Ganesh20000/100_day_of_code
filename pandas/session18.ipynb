{
 "cells": [
  {
   "cell_type": "code",
   "execution_count": 2,
   "id": "0fad9500",
   "metadata": {},
   "outputs": [],
   "source": [
    "import pandas as pd\n",
    "import numpy as np"
   ]
  },
  {
   "cell_type": "code",
   "execution_count": 3,
   "id": "8e9ebaf5",
   "metadata": {},
   "outputs": [],
   "source": [
    "df =pd.read_csv(r'./datasets/ipl-matches.csv')"
   ]
  },
  {
   "cell_type": "code",
   "execution_count": 4,
   "id": "348fa0ea",
   "metadata": {},
   "outputs": [],
   "source": [
    "m =pd.read_csv(r'./datasets/movies.csv')"
   ]
  },
  {
   "cell_type": "code",
   "execution_count": 5,
   "id": "bc654e35",
   "metadata": {},
   "outputs": [
    {
     "data": {
      "text/html": [
       "<div>\n",
       "<style scoped>\n",
       "    .dataframe tbody tr th:only-of-type {\n",
       "        vertical-align: middle;\n",
       "    }\n",
       "\n",
       "    .dataframe tbody tr th {\n",
       "        vertical-align: top;\n",
       "    }\n",
       "\n",
       "    .dataframe thead th {\n",
       "        text-align: right;\n",
       "    }\n",
       "</style>\n",
       "<table border=\"1\" class=\"dataframe\">\n",
       "  <thead>\n",
       "    <tr style=\"text-align: right;\">\n",
       "      <th></th>\n",
       "      <th>ID</th>\n",
       "      <th>City</th>\n",
       "      <th>Date</th>\n",
       "      <th>Season</th>\n",
       "      <th>MatchNumber</th>\n",
       "      <th>Team1</th>\n",
       "      <th>Team2</th>\n",
       "      <th>Venue</th>\n",
       "      <th>TossWinner</th>\n",
       "      <th>TossDecision</th>\n",
       "      <th>SuperOver</th>\n",
       "      <th>WinningTeam</th>\n",
       "      <th>WonBy</th>\n",
       "      <th>Margin</th>\n",
       "      <th>method</th>\n",
       "      <th>Player_of_Match</th>\n",
       "      <th>Team1Players</th>\n",
       "      <th>Team2Players</th>\n",
       "      <th>Umpire1</th>\n",
       "      <th>Umpire2</th>\n",
       "    </tr>\n",
       "  </thead>\n",
       "  <tbody>\n",
       "    <tr>\n",
       "      <th>949</th>\n",
       "      <td>335982</td>\n",
       "      <td>Bangalore</td>\n",
       "      <td>2008-04-18</td>\n",
       "      <td>2007/08</td>\n",
       "      <td>1</td>\n",
       "      <td>Royal Challengers Bangalore</td>\n",
       "      <td>Kolkata Knight Riders</td>\n",
       "      <td>M Chinnaswamy Stadium</td>\n",
       "      <td>Royal Challengers Bangalore</td>\n",
       "      <td>field</td>\n",
       "      <td>N</td>\n",
       "      <td>Kolkata Knight Riders</td>\n",
       "      <td>Runs</td>\n",
       "      <td>140.0</td>\n",
       "      <td>NaN</td>\n",
       "      <td>BB McCullum</td>\n",
       "      <td>['R Dravid', 'W Jaffer', 'V Kohli', 'JH Kallis...</td>\n",
       "      <td>['SC Ganguly', 'BB McCullum', 'RT Ponting', 'D...</td>\n",
       "      <td>Asad Rauf</td>\n",
       "      <td>RE Koertzen</td>\n",
       "    </tr>\n",
       "  </tbody>\n",
       "</table>\n",
       "</div>"
      ],
      "text/plain": [
       "         ID       City        Date   Season MatchNumber  \\\n",
       "949  335982  Bangalore  2008-04-18  2007/08           1   \n",
       "\n",
       "                           Team1                  Team2  \\\n",
       "949  Royal Challengers Bangalore  Kolkata Knight Riders   \n",
       "\n",
       "                     Venue                   TossWinner TossDecision  \\\n",
       "949  M Chinnaswamy Stadium  Royal Challengers Bangalore        field   \n",
       "\n",
       "    SuperOver            WinningTeam WonBy  Margin method Player_of_Match  \\\n",
       "949         N  Kolkata Knight Riders  Runs   140.0    NaN     BB McCullum   \n",
       "\n",
       "                                          Team1Players  \\\n",
       "949  ['R Dravid', 'W Jaffer', 'V Kohli', 'JH Kallis...   \n",
       "\n",
       "                                          Team2Players    Umpire1      Umpire2  \n",
       "949  ['SC Ganguly', 'BB McCullum', 'RT Ponting', 'D...  Asad Rauf  RE Koertzen  "
      ]
     },
     "execution_count": 5,
     "metadata": {},
     "output_type": "execute_result"
    }
   ],
   "source": [
    "df.tail(1)"
   ]
  },
  {
   "cell_type": "code",
   "execution_count": 6,
   "id": "1cf0a63f",
   "metadata": {},
   "outputs": [
    {
     "name": "stdout",
     "output_type": "stream",
     "text": [
      "<class 'pandas.core.frame.DataFrame'>\n",
      "RangeIndex: 950 entries, 0 to 949\n",
      "Data columns (total 20 columns):\n",
      " #   Column           Non-Null Count  Dtype  \n",
      "---  ------           --------------  -----  \n",
      " 0   ID               950 non-null    int64  \n",
      " 1   City             899 non-null    object \n",
      " 2   Date             950 non-null    object \n",
      " 3   Season           950 non-null    object \n",
      " 4   MatchNumber      950 non-null    object \n",
      " 5   Team1            950 non-null    object \n",
      " 6   Team2            950 non-null    object \n",
      " 7   Venue            950 non-null    object \n",
      " 8   TossWinner       950 non-null    object \n",
      " 9   TossDecision     950 non-null    object \n",
      " 10  SuperOver        946 non-null    object \n",
      " 11  WinningTeam      946 non-null    object \n",
      " 12  WonBy            950 non-null    object \n",
      " 13  Margin           932 non-null    float64\n",
      " 14  method           19 non-null     object \n",
      " 15  Player_of_Match  946 non-null    object \n",
      " 16  Team1Players     950 non-null    object \n",
      " 17  Team2Players     950 non-null    object \n",
      " 18  Umpire1          950 non-null    object \n",
      " 19  Umpire2          950 non-null    object \n",
      "dtypes: float64(1), int64(1), object(18)\n",
      "memory usage: 148.6+ KB\n"
     ]
    }
   ],
   "source": [
    "df.info()"
   ]
  },
  {
   "cell_type": "code",
   "execution_count": 7,
   "id": "97454fdf",
   "metadata": {},
   "outputs": [
    {
     "name": "stdout",
     "output_type": "stream",
     "text": [
      "<class 'pandas.core.frame.DataFrame'>\n",
      "RangeIndex: 1629 entries, 0 to 1628\n",
      "Data columns (total 18 columns):\n",
      " #   Column            Non-Null Count  Dtype  \n",
      "---  ------            --------------  -----  \n",
      " 0   title_x           1629 non-null   object \n",
      " 1   imdb_id           1629 non-null   object \n",
      " 2   poster_path       1526 non-null   object \n",
      " 3   wiki_link         1629 non-null   object \n",
      " 4   title_y           1629 non-null   object \n",
      " 5   original_title    1629 non-null   object \n",
      " 6   is_adult          1629 non-null   int64  \n",
      " 7   year_of_release   1629 non-null   int64  \n",
      " 8   runtime           1629 non-null   object \n",
      " 9   genres            1629 non-null   object \n",
      " 10  imdb_rating       1629 non-null   float64\n",
      " 11  imdb_votes        1629 non-null   int64  \n",
      " 12  story             1609 non-null   object \n",
      " 13  summary           1629 non-null   object \n",
      " 14  tagline           557 non-null    object \n",
      " 15  actors            1624 non-null   object \n",
      " 16  wins_nominations  707 non-null    object \n",
      " 17  release_date      1522 non-null   object \n",
      "dtypes: float64(1), int64(3), object(14)\n",
      "memory usage: 229.2+ KB\n"
     ]
    }
   ],
   "source": [
    "m.info()"
   ]
  },
  {
   "cell_type": "code",
   "execution_count": 8,
   "id": "d2fe7112",
   "metadata": {},
   "outputs": [
    {
     "data": {
      "text/html": [
       "<div>\n",
       "<style scoped>\n",
       "    .dataframe tbody tr th:only-of-type {\n",
       "        vertical-align: middle;\n",
       "    }\n",
       "\n",
       "    .dataframe tbody tr th {\n",
       "        vertical-align: top;\n",
       "    }\n",
       "\n",
       "    .dataframe thead th {\n",
       "        text-align: right;\n",
       "    }\n",
       "</style>\n",
       "<table border=\"1\" class=\"dataframe\">\n",
       "  <thead>\n",
       "    <tr style=\"text-align: right;\">\n",
       "      <th></th>\n",
       "      <th>title_x</th>\n",
       "      <th>imdb_id</th>\n",
       "      <th>poster_path</th>\n",
       "      <th>wiki_link</th>\n",
       "      <th>title_y</th>\n",
       "      <th>original_title</th>\n",
       "      <th>is_adult</th>\n",
       "      <th>year_of_release</th>\n",
       "      <th>runtime</th>\n",
       "      <th>genres</th>\n",
       "      <th>imdb_rating</th>\n",
       "      <th>imdb_votes</th>\n",
       "      <th>story</th>\n",
       "      <th>summary</th>\n",
       "      <th>tagline</th>\n",
       "      <th>actors</th>\n",
       "      <th>wins_nominations</th>\n",
       "      <th>release_date</th>\n",
       "    </tr>\n",
       "  </thead>\n",
       "  <tbody>\n",
       "    <tr>\n",
       "      <th>1627</th>\n",
       "      <td>Daaka</td>\n",
       "      <td>tt10833860</td>\n",
       "      <td>https://upload.wikimedia.org/wikipedia/en/thum...</td>\n",
       "      <td>https://en.wikipedia.org/wiki/Daaka</td>\n",
       "      <td>Daaka</td>\n",
       "      <td>Daaka</td>\n",
       "      <td>0</td>\n",
       "      <td>2019</td>\n",
       "      <td>136</td>\n",
       "      <td>Action</td>\n",
       "      <td>7.4</td>\n",
       "      <td>38</td>\n",
       "      <td>Shinda tries robbing a bank so he can be wealt...</td>\n",
       "      <td>Shinda tries robbing a bank so he can be wealt...</td>\n",
       "      <td>NaN</td>\n",
       "      <td>Gippy Grewal|Zareen Khan|</td>\n",
       "      <td>NaN</td>\n",
       "      <td>1 November 2019 (USA)</td>\n",
       "    </tr>\n",
       "    <tr>\n",
       "      <th>1628</th>\n",
       "      <td>Humsafar</td>\n",
       "      <td>tt2403201</td>\n",
       "      <td>https://upload.wikimedia.org/wikipedia/en/thum...</td>\n",
       "      <td>https://en.wikipedia.org/wiki/Humsafar</td>\n",
       "      <td>Humsafar</td>\n",
       "      <td>Humsafar</td>\n",
       "      <td>0</td>\n",
       "      <td>2011</td>\n",
       "      <td>35</td>\n",
       "      <td>Drama|Romance</td>\n",
       "      <td>9.0</td>\n",
       "      <td>2968</td>\n",
       "      <td>Sara and Ashar are childhood friends who share...</td>\n",
       "      <td>Ashar and Khirad are forced to get married due...</td>\n",
       "      <td>NaN</td>\n",
       "      <td>Fawad Khan|</td>\n",
       "      <td>NaN</td>\n",
       "      <td>TV Series (2011–2012)</td>\n",
       "    </tr>\n",
       "  </tbody>\n",
       "</table>\n",
       "</div>"
      ],
      "text/plain": [
       "       title_x     imdb_id                                        poster_path  \\\n",
       "1627     Daaka  tt10833860  https://upload.wikimedia.org/wikipedia/en/thum...   \n",
       "1628  Humsafar   tt2403201  https://upload.wikimedia.org/wikipedia/en/thum...   \n",
       "\n",
       "                                   wiki_link   title_y original_title  \\\n",
       "1627     https://en.wikipedia.org/wiki/Daaka     Daaka          Daaka   \n",
       "1628  https://en.wikipedia.org/wiki/Humsafar  Humsafar       Humsafar   \n",
       "\n",
       "      is_adult  year_of_release runtime         genres  imdb_rating  \\\n",
       "1627         0             2019     136         Action          7.4   \n",
       "1628         0             2011      35  Drama|Romance          9.0   \n",
       "\n",
       "      imdb_votes                                              story  \\\n",
       "1627          38  Shinda tries robbing a bank so he can be wealt...   \n",
       "1628        2968  Sara and Ashar are childhood friends who share...   \n",
       "\n",
       "                                                summary tagline  \\\n",
       "1627  Shinda tries robbing a bank so he can be wealt...     NaN   \n",
       "1628  Ashar and Khirad are forced to get married due...     NaN   \n",
       "\n",
       "                         actors wins_nominations           release_date  \n",
       "1627  Gippy Grewal|Zareen Khan|              NaN  1 November 2019 (USA)  \n",
       "1628                Fawad Khan|              NaN  TV Series (2011–2012)  "
      ]
     },
     "execution_count": 8,
     "metadata": {},
     "output_type": "execute_result"
    }
   ],
   "source": [
    "m.tail(2)"
   ]
  },
  {
   "cell_type": "code",
   "execution_count": 9,
   "id": "5558b364",
   "metadata": {},
   "outputs": [],
   "source": [
    "m['actor'] =m['actors'].str.split(\"|\")"
   ]
  },
  {
   "cell_type": "code",
   "execution_count": 10,
   "id": "f08835b1",
   "metadata": {},
   "outputs": [
    {
     "data": {
      "text/plain": [
       "Player_of_Match\n",
       "AB de Villiers    25\n",
       "CH Gayle          22\n",
       "RG Sharma         18\n",
       "DA Warner         18\n",
       "MS Dhoni          17\n",
       "                  ..\n",
       "SA Asnodkar        1\n",
       "GD McGrath         1\n",
       "SM Katich          1\n",
       "JDP Oram           1\n",
       "MF Maharoof        1\n",
       "Name: count, Length: 262, dtype: int64"
      ]
     },
     "execution_count": 10,
     "metadata": {},
     "output_type": "execute_result"
    }
   ],
   "source": [
    "df['Player_of_Match'].value_counts()"
   ]
  },
  {
   "cell_type": "code",
   "execution_count": 11,
   "id": "2370ab07",
   "metadata": {},
   "outputs": [],
   "source": [
    "df['MatchNumber']='final'"
   ]
  },
  {
   "cell_type": "markdown",
   "id": "6ed5d500",
   "metadata": {},
   "source": [
    "toss decision plot"
   ]
  },
  {
   "cell_type": "code",
   "execution_count": 12,
   "id": "c5c9cc84",
   "metadata": {},
   "outputs": [
    {
     "data": {
      "text/plain": [
       "<Axes: xlabel='TossDecision'>"
      ]
     },
     "execution_count": 12,
     "metadata": {},
     "output_type": "execute_result"
    },
    {
     "data": {
      "image/png": "[encoded data removed]",
      "text/plain": [
       "<Figure size 640x480 with 1 Axes>"
      ]
     },
     "metadata": {},
     "output_type": "display_data"
    }
   ],
   "source": [
    "df['TossDecision'].value_counts().plot(kind='bar')"
   ]
  },
  {
   "cell_type": "markdown",
   "id": "e64bf08f",
   "metadata": {},
   "source": [
    "how many matches each team has played"
   ]
  },
  {
   "cell_type": "code",
   "execution_count": 13,
   "id": "563b5bae",
   "metadata": {},
   "outputs": [],
   "source": [
    "j = df['Team1'].value_counts() +df['Team2'].value_counts()"
   ]
  },
  {
   "cell_type": "code",
   "execution_count": 14,
   "id": "31ed6e06",
   "metadata": {},
   "outputs": [
    {
     "data": {
      "text/plain": [
       "Mumbai Indians                 231\n",
       "Royal Challengers Bangalore    226\n",
       "Kolkata Knight Riders          223\n",
       "Chennai Super Kings            208\n",
       "Rajasthan Royals               192\n",
       "Kings XI Punjab                190\n",
       "Delhi Daredevils               161\n",
       "Sunrisers Hyderabad            152\n",
       "Deccan Chargers                 75\n",
       "Delhi Capitals                  63\n",
       "Pune Warriors                   46\n",
       "Gujarat Lions                   30\n",
       "Punjab Kings                    28\n",
       "Gujarat Titans                  16\n",
       "Rising Pune Supergiant          16\n",
       "Lucknow Super Giants            15\n",
       "Kochi Tuskers Kerala            14\n",
       "Rising Pune Supergiants         14\n",
       "Name: count, dtype: int64"
      ]
     },
     "execution_count": 14,
     "metadata": {},
     "output_type": "execute_result"
    }
   ],
   "source": [
    "j.sort_values(ascending=False)"
   ]
  },
  {
   "cell_type": "code",
   "execution_count": 15,
   "id": "7b32dfe6",
   "metadata": {},
   "outputs": [
    {
     "data": {
      "text/plain": [
       "114      NaN\n",
       "158      NaN\n",
       "159      NaN\n",
       "184      NaN\n",
       "192      NaN\n",
       "       ...  \n",
       "597    130.0\n",
       "453    138.0\n",
       "949    140.0\n",
       "388    144.0\n",
       "329    146.0\n",
       "Name: Margin, Length: 950, dtype: float64"
      ]
     },
     "execution_count": 15,
     "metadata": {},
     "output_type": "execute_result"
    }
   ],
   "source": [
    "df['Margin'].sort_values(na_position='first')"
   ]
  },
  {
   "cell_type": "code",
   "execution_count": 16,
   "id": "37534bca",
   "metadata": {},
   "outputs": [
    {
     "data": {
      "text/plain": [
       "1                                                     NaN\n",
       "4                                                     NaN\n",
       "19                                                    NaN\n",
       "70                                                    NaN\n",
       "74                                                    NaN\n",
       "                              ...                        \n",
       "484     https://upload.wikimedia.org/wikipedia/en/thum...\n",
       "932     https://upload.wikimedia.org/wikipedia/en/thum...\n",
       "1167    https://upload.wikimedia.org/wikipedia/en/thum...\n",
       "390     https://upload.wikimedia.org/wikipedia/en/thum...\n",
       "292     https://upload.wikimedia.org/wikipedia/en/thum...\n",
       "Name: poster_path, Length: 1629, dtype: object"
      ]
     },
     "execution_count": 16,
     "metadata": {},
     "output_type": "execute_result"
    }
   ],
   "source": [
    "m['poster_path'].sort_values(na_position='first',ascending=True)"
   ]
  },
  {
   "cell_type": "code",
   "execution_count": 17,
   "id": "355b1d5d",
   "metadata": {},
   "outputs": [
    {
     "data": {
      "text/html": [
       "<div>\n",
       "<style scoped>\n",
       "    .dataframe tbody tr th:only-of-type {\n",
       "        vertical-align: middle;\n",
       "    }\n",
       "\n",
       "    .dataframe tbody tr th {\n",
       "        vertical-align: top;\n",
       "    }\n",
       "\n",
       "    .dataframe thead th {\n",
       "        text-align: right;\n",
       "    }\n",
       "</style>\n",
       "<table border=\"1\" class=\"dataframe\">\n",
       "  <thead>\n",
       "    <tr style=\"text-align: right;\">\n",
       "      <th></th>\n",
       "      <th>title_x</th>\n",
       "      <th>imdb_id</th>\n",
       "      <th>poster_path</th>\n",
       "      <th>wiki_link</th>\n",
       "      <th>title_y</th>\n",
       "      <th>original_title</th>\n",
       "      <th>is_adult</th>\n",
       "      <th>year_of_release</th>\n",
       "      <th>runtime</th>\n",
       "      <th>genres</th>\n",
       "      <th>imdb_rating</th>\n",
       "      <th>imdb_votes</th>\n",
       "      <th>story</th>\n",
       "      <th>summary</th>\n",
       "      <th>tagline</th>\n",
       "      <th>actors</th>\n",
       "      <th>wins_nominations</th>\n",
       "      <th>release_date</th>\n",
       "      <th>actor</th>\n",
       "    </tr>\n",
       "  </thead>\n",
       "  <tbody>\n",
       "    <tr>\n",
       "      <th>1301</th>\n",
       "      <td>Taj Mahal: An Eternal Love Story</td>\n",
       "      <td>tt0328503</td>\n",
       "      <td>https://upload.wikimedia.org/wikipedia/en/thum...</td>\n",
       "      <td>https://en.wikipedia.org/wiki/Taj_Mahal:_An_Et...</td>\n",
       "      <td>Taj Mahal: An Eternal Love Story</td>\n",
       "      <td>Taj Mahal: An Eternal Love Story</td>\n",
       "      <td>0</td>\n",
       "      <td>2005</td>\n",
       "      <td>164</td>\n",
       "      <td>Drama|History|Musical</td>\n",
       "      <td>5.2</td>\n",
       "      <td>154</td>\n",
       "      <td>The love of the great Moghul emperor Shah Jaha...</td>\n",
       "      <td>The story of Shah Jahan...the love of his life...</td>\n",
       "      <td>An eternal love story</td>\n",
       "      <td>Zulfi Sayed|Sonya Jehan|Kabir Bedi|Arbaaz Khan...</td>\n",
       "      <td>1 nomination</td>\n",
       "      <td>May 2006 (Pakistan)</td>\n",
       "      <td>[Zulfi Sayed, Sonya Jehan, Kabir Bedi, Arbaaz ...</td>\n",
       "    </tr>\n",
       "    <tr>\n",
       "      <th>257</th>\n",
       "      <td>Sallu Ki Shaadi</td>\n",
       "      <td>tt7722484</td>\n",
       "      <td>https://upload.wikimedia.org/wikipedia/en/thum...</td>\n",
       "      <td>https://en.wikipedia.org/wiki/Sallu_ki_Shaadi</td>\n",
       "      <td>Sallu Ki Shaadi</td>\n",
       "      <td>Sallu Ki Shaadi</td>\n",
       "      <td>0</td>\n",
       "      <td>2017</td>\n",
       "      <td>109</td>\n",
       "      <td>Romance</td>\n",
       "      <td>3.9</td>\n",
       "      <td>28</td>\n",
       "      <td>Zeenat and Shahnawaz were a match made in movi...</td>\n",
       "      <td>Zeenat and Shahnawaz were a match made in movi...</td>\n",
       "      <td>NaN</td>\n",
       "      <td>Zeenat Aman|Sandeep Anand|Asrani|Kashyap Barbh...</td>\n",
       "      <td>NaN</td>\n",
       "      <td>8 December 2017 (India)</td>\n",
       "      <td>[Zeenat Aman, Sandeep Anand, Asrani, Kashyap B...</td>\n",
       "    </tr>\n",
       "    <tr>\n",
       "      <th>306</th>\n",
       "      <td>Dil Toh Deewana Hai</td>\n",
       "      <td>tt5784778</td>\n",
       "      <td>https://upload.wikimedia.org/wikipedia/en/thum...</td>\n",
       "      <td>https://en.wikipedia.org/wiki/Dil_Toh_Deewana_Hai</td>\n",
       "      <td>Dil Toh Deewana Hai</td>\n",
       "      <td>Dil Toh Deewana Hai</td>\n",
       "      <td>0</td>\n",
       "      <td>2016</td>\n",
       "      <td>135</td>\n",
       "      <td>Drama|Romance</td>\n",
       "      <td>7.1</td>\n",
       "      <td>16</td>\n",
       "      <td>Raja(Haider Khan) is a guy who has always rema...</td>\n",
       "      <td>Raja(Haider Khan) is a guy who has always rema...</td>\n",
       "      <td>NaN</td>\n",
       "      <td>Zeenat Aman|Raj Babbar|Meenu Bhardwaj|Raja Bun...</td>\n",
       "      <td>NaN</td>\n",
       "      <td>24 June 2016 (India)</td>\n",
       "      <td>[Zeenat Aman, Raj Babbar, Meenu Bhardwaj, Raja...</td>\n",
       "    </tr>\n",
       "  </tbody>\n",
       "</table>\n",
       "</div>"
      ],
      "text/plain": [
       "                               title_x    imdb_id  \\\n",
       "1301  Taj Mahal: An Eternal Love Story  tt0328503   \n",
       "257                    Sallu Ki Shaadi  tt7722484   \n",
       "306                Dil Toh Deewana Hai  tt5784778   \n",
       "\n",
       "                                            poster_path  \\\n",
       "1301  https://upload.wikimedia.org/wikipedia/en/thum...   \n",
       "257   https://upload.wikimedia.org/wikipedia/en/thum...   \n",
       "306   https://upload.wikimedia.org/wikipedia/en/thum...   \n",
       "\n",
       "                                              wiki_link  \\\n",
       "1301  https://en.wikipedia.org/wiki/Taj_Mahal:_An_Et...   \n",
       "257       https://en.wikipedia.org/wiki/Sallu_ki_Shaadi   \n",
       "306   https://en.wikipedia.org/wiki/Dil_Toh_Deewana_Hai   \n",
       "\n",
       "                               title_y                    original_title  \\\n",
       "1301  Taj Mahal: An Eternal Love Story  Taj Mahal: An Eternal Love Story   \n",
       "257                    Sallu Ki Shaadi                   Sallu Ki Shaadi   \n",
       "306                Dil Toh Deewana Hai               Dil Toh Deewana Hai   \n",
       "\n",
       "      is_adult  year_of_release runtime                 genres  imdb_rating  \\\n",
       "1301         0             2005     164  Drama|History|Musical          5.2   \n",
       "257          0             2017     109                Romance          3.9   \n",
       "306          0             2016     135          Drama|Romance          7.1   \n",
       "\n",
       "      imdb_votes                                              story  \\\n",
       "1301         154  The love of the great Moghul emperor Shah Jaha...   \n",
       "257           28  Zeenat and Shahnawaz were a match made in movi...   \n",
       "306           16  Raja(Haider Khan) is a guy who has always rema...   \n",
       "\n",
       "                                                summary  \\\n",
       "1301  The story of Shah Jahan...the love of his life...   \n",
       "257   Zeenat and Shahnawaz were a match made in movi...   \n",
       "306   Raja(Haider Khan) is a guy who has always rema...   \n",
       "\n",
       "                    tagline  \\\n",
       "1301  An eternal love story   \n",
       "257                     NaN   \n",
       "306                     NaN   \n",
       "\n",
       "                                                 actors wins_nominations  \\\n",
       "1301  Zulfi Sayed|Sonya Jehan|Kabir Bedi|Arbaaz Khan...     1 nomination   \n",
       "257   Zeenat Aman|Sandeep Anand|Asrani|Kashyap Barbh...              NaN   \n",
       "306   Zeenat Aman|Raj Babbar|Meenu Bhardwaj|Raja Bun...              NaN   \n",
       "\n",
       "                 release_date  \\\n",
       "1301      May 2006 (Pakistan)   \n",
       "257   8 December 2017 (India)   \n",
       "306      24 June 2016 (India)   \n",
       "\n",
       "                                                  actor  \n",
       "1301  [Zulfi Sayed, Sonya Jehan, Kabir Bedi, Arbaaz ...  \n",
       "257   [Zeenat Aman, Sandeep Anand, Asrani, Kashyap B...  \n",
       "306   [Zeenat Aman, Raj Babbar, Meenu Bhardwaj, Raja...  "
      ]
     },
     "execution_count": 17,
     "metadata": {},
     "output_type": "execute_result"
    }
   ],
   "source": [
    "m.sort_values(['actors','imdb_rating'],ascending=[0,0]).head(3)"
   ]
  },
  {
   "cell_type": "code",
   "execution_count": null,
   "id": "e3b9a2a6",
   "metadata": {},
   "outputs": [],
   "source": []
  }
 ],
 "metadata": {
  "kernelspec": {
   "display_name": "Python 3",
   "language": "python",
   "name": "python3"
  },
  "language_info": {
   "codemirror_mode": {
    "name": "ipython",
    "version": 3
   },
   "file_extension": ".py",
   "mimetype": "text/x-python",
   "name": "python",
   "nbconvert_exporter": "python",
   "pygments_lexer": "ipython3",
   "version": "3.13.7"
  }
 },
 "nbformat": 4,
 "nbformat_minor": 5
}
