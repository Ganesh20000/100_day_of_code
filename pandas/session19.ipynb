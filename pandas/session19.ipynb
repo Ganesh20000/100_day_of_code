{
 "cells": [
  {
   "cell_type": "code",
   "execution_count": 20,
   "id": "5f18f5d8",
   "metadata": {},
   "outputs": [],
   "source": [
    "import pandas as pd\n",
    "import numpy as np"
   ]
  },
  {
   "cell_type": "code",
   "execution_count": null,
   "id": "4039a1f3",
   "metadata": {},
   "outputs": [],
   "source": [
    "# m= pd.read_csv(r'./datasets/movies.csv')"
   ]
  },
  {
   "cell_type": "code",
   "execution_count": 27,
   "id": "a4aaf13c",
   "metadata": {},
   "outputs": [],
   "source": [
    "m= pd.read_csv(r'./datasets/imdb-top-1000.csv')"
   ]
  },
  {
   "cell_type": "code",
   "execution_count": 36,
   "id": "340fa06c",
   "metadata": {},
   "outputs": [
    {
     "data": {
      "text/html": [
       "<div>\n",
       "<style scoped>\n",
       "    .dataframe tbody tr th:only-of-type {\n",
       "        vertical-align: middle;\n",
       "    }\n",
       "\n",
       "    .dataframe tbody tr th {\n",
       "        vertical-align: top;\n",
       "    }\n",
       "\n",
       "    .dataframe thead th {\n",
       "        text-align: right;\n",
       "    }\n",
       "</style>\n",
       "<table border=\"1\" class=\"dataframe\">\n",
       "  <thead>\n",
       "    <tr style=\"text-align: right;\">\n",
       "      <th></th>\n",
       "      <th>Series_Title</th>\n",
       "      <th>Released_Year</th>\n",
       "      <th>Runtime</th>\n",
       "      <th>Genre</th>\n",
       "      <th>IMDB_Rating</th>\n",
       "      <th>Director</th>\n",
       "      <th>Star1</th>\n",
       "      <th>No_of_Votes</th>\n",
       "      <th>Gross</th>\n",
       "      <th>Metascore</th>\n",
       "    </tr>\n",
       "  </thead>\n",
       "  <tbody>\n",
       "    <tr>\n",
       "      <th>0</th>\n",
       "      <td>The Shawshank Redemption</td>\n",
       "      <td>1994</td>\n",
       "      <td>142</td>\n",
       "      <td>Drama</td>\n",
       "      <td>9.3</td>\n",
       "      <td>Frank Darabont</td>\n",
       "      <td>Tim Robbins</td>\n",
       "      <td>2343110</td>\n",
       "      <td>28341469.0</td>\n",
       "      <td>80.0</td>\n",
       "    </tr>\n",
       "    <tr>\n",
       "      <th>1</th>\n",
       "      <td>The Godfather</td>\n",
       "      <td>1972</td>\n",
       "      <td>175</td>\n",
       "      <td>Crime</td>\n",
       "      <td>9.2</td>\n",
       "      <td>Francis Ford Coppola</td>\n",
       "      <td>Marlon Brando</td>\n",
       "      <td>1620367</td>\n",
       "      <td>134966411.0</td>\n",
       "      <td>100.0</td>\n",
       "    </tr>\n",
       "    <tr>\n",
       "      <th>2</th>\n",
       "      <td>The Dark Knight</td>\n",
       "      <td>2008</td>\n",
       "      <td>152</td>\n",
       "      <td>Action</td>\n",
       "      <td>9.0</td>\n",
       "      <td>Christopher Nolan</td>\n",
       "      <td>Christian Bale</td>\n",
       "      <td>2303232</td>\n",
       "      <td>534858444.0</td>\n",
       "      <td>84.0</td>\n",
       "    </tr>\n",
       "    <tr>\n",
       "      <th>3</th>\n",
       "      <td>The Godfather: Part II</td>\n",
       "      <td>1974</td>\n",
       "      <td>202</td>\n",
       "      <td>Crime</td>\n",
       "      <td>9.0</td>\n",
       "      <td>Francis Ford Coppola</td>\n",
       "      <td>Al Pacino</td>\n",
       "      <td>1129952</td>\n",
       "      <td>57300000.0</td>\n",
       "      <td>90.0</td>\n",
       "    </tr>\n",
       "    <tr>\n",
       "      <th>4</th>\n",
       "      <td>12 Angry Men</td>\n",
       "      <td>1957</td>\n",
       "      <td>96</td>\n",
       "      <td>Crime</td>\n",
       "      <td>9.0</td>\n",
       "      <td>Sidney Lumet</td>\n",
       "      <td>Henry Fonda</td>\n",
       "      <td>689845</td>\n",
       "      <td>4360000.0</td>\n",
       "      <td>96.0</td>\n",
       "    </tr>\n",
       "  </tbody>\n",
       "</table>\n",
       "</div>"
      ],
      "text/plain": [
       "               Series_Title Released_Year  Runtime   Genre  IMDB_Rating  \\\n",
       "0  The Shawshank Redemption          1994      142   Drama          9.3   \n",
       "1             The Godfather          1972      175   Crime          9.2   \n",
       "2           The Dark Knight          2008      152  Action          9.0   \n",
       "3    The Godfather: Part II          1974      202   Crime          9.0   \n",
       "4              12 Angry Men          1957       96   Crime          9.0   \n",
       "\n",
       "               Director           Star1  No_of_Votes        Gross  Metascore  \n",
       "0        Frank Darabont     Tim Robbins      2343110   28341469.0       80.0  \n",
       "1  Francis Ford Coppola   Marlon Brando      1620367  134966411.0      100.0  \n",
       "2     Christopher Nolan  Christian Bale      2303232  534858444.0       84.0  \n",
       "3  Francis Ford Coppola       Al Pacino      1129952   57300000.0       90.0  \n",
       "4          Sidney Lumet     Henry Fonda       689845    4360000.0       96.0  "
      ]
     },
     "execution_count": 36,
     "metadata": {},
     "output_type": "execute_result"
    }
   ],
   "source": [
    "m.head(5)"
   ]
  },
  {
   "cell_type": "code",
   "execution_count": 31,
   "id": "3f0e0bf1",
   "metadata": {},
   "outputs": [],
   "source": [
    "gen = m.groupby('Genre')"
   ]
  },
  {
   "cell_type": "code",
   "execution_count": 35,
   "id": "792dfad4",
   "metadata": {},
   "outputs": [
    {
     "data": {
      "text/html": [
       "<div>\n",
       "<style scoped>\n",
       "    .dataframe tbody tr th:only-of-type {\n",
       "        vertical-align: middle;\n",
       "    }\n",
       "\n",
       "    .dataframe tbody tr th {\n",
       "        vertical-align: top;\n",
       "    }\n",
       "\n",
       "    .dataframe thead th {\n",
       "        text-align: right;\n",
       "    }\n",
       "</style>\n",
       "<table border=\"1\" class=\"dataframe\">\n",
       "  <thead>\n",
       "    <tr style=\"text-align: right;\">\n",
       "      <th></th>\n",
       "      <th>Series_Title</th>\n",
       "      <th>Released_Year</th>\n",
       "      <th>Runtime</th>\n",
       "      <th>IMDB_Rating</th>\n",
       "      <th>Director</th>\n",
       "      <th>Star1</th>\n",
       "      <th>No_of_Votes</th>\n",
       "      <th>Gross</th>\n",
       "      <th>Metascore</th>\n",
       "    </tr>\n",
       "    <tr>\n",
       "      <th>Genre</th>\n",
       "      <th></th>\n",
       "      <th></th>\n",
       "      <th></th>\n",
       "      <th></th>\n",
       "      <th></th>\n",
       "      <th></th>\n",
       "      <th></th>\n",
       "      <th></th>\n",
       "      <th></th>\n",
       "    </tr>\n",
       "  </thead>\n",
       "  <tbody>\n",
       "    <tr>\n",
       "      <th>Action</th>\n",
       "      <td>300</td>\n",
       "      <td>1924</td>\n",
       "      <td>45</td>\n",
       "      <td>7.6</td>\n",
       "      <td>Abhishek Chaubey</td>\n",
       "      <td>Aamir Khan</td>\n",
       "      <td>25312</td>\n",
       "      <td>3296.0</td>\n",
       "      <td>33.0</td>\n",
       "    </tr>\n",
       "    <tr>\n",
       "      <th>Adventure</th>\n",
       "      <td>2001: A Space Odyssey</td>\n",
       "      <td>1925</td>\n",
       "      <td>88</td>\n",
       "      <td>7.6</td>\n",
       "      <td>Akira Kurosawa</td>\n",
       "      <td>Aamir Khan</td>\n",
       "      <td>29999</td>\n",
       "      <td>61001.0</td>\n",
       "      <td>41.0</td>\n",
       "    </tr>\n",
       "  </tbody>\n",
       "</table>\n",
       "</div>"
      ],
      "text/plain": [
       "                    Series_Title Released_Year  Runtime  IMDB_Rating  \\\n",
       "Genre                                                                  \n",
       "Action                       300          1924       45          7.6   \n",
       "Adventure  2001: A Space Odyssey          1925       88          7.6   \n",
       "\n",
       "                   Director       Star1  No_of_Votes    Gross  Metascore  \n",
       "Genre                                                                     \n",
       "Action     Abhishek Chaubey  Aamir Khan        25312   3296.0       33.0  \n",
       "Adventure    Akira Kurosawa  Aamir Khan        29999  61001.0       41.0  "
      ]
     },
     "execution_count": 35,
     "metadata": {},
     "output_type": "execute_result"
    }
   ],
   "source": [
    "gen.min().head(2)"
   ]
  },
  {
   "cell_type": "markdown",
   "id": "b9be36b5",
   "metadata": {},
   "source": [
    "find the top 3 generes by total earnings"
   ]
  },
  {
   "cell_type": "code",
   "execution_count": 47,
   "id": "270592c5",
   "metadata": {},
   "outputs": [
    {
     "data": {
      "text/plain": [
       "Genre\n",
       "Drama        3.540997e+10\n",
       "Action       3.263226e+10\n",
       "Comedy       1.566387e+10\n",
       "Animation    1.463147e+10\n",
       "Name: Gross, dtype: float64"
      ]
     },
     "execution_count": 47,
     "metadata": {},
     "output_type": "execute_result"
    }
   ],
   "source": [
    "m.groupby('Genre')['Gross'].sum().sort_values(ascending=False).head(4)"
   ]
  },
  {
   "cell_type": "markdown",
   "id": "f35bf33b",
   "metadata": {},
   "source": [
    "find the genre with highest avg imbd rating"
   ]
  },
  {
   "cell_type": "code",
   "execution_count": 54,
   "id": "a4e072e9",
   "metadata": {},
   "outputs": [
    {
     "data": {
      "text/plain": [
       "Genre\n",
       "Western      8.350000\n",
       "Crime        8.016822\n",
       "Fantasy      8.000000\n",
       "Mystery      7.975000\n",
       "Film-Noir    7.966667\n",
       "Name: IMDB_Rating, dtype: float64"
      ]
     },
     "execution_count": 54,
     "metadata": {},
     "output_type": "execute_result"
    }
   ],
   "source": [
    "m.groupby('Genre')['IMDB_Rating'].mean().sort_values(ascending=False).head(5)"
   ]
  },
  {
   "cell_type": "markdown",
   "id": "c63f42d4",
   "metadata": {},
   "source": [
    "find the director with most popularity"
   ]
  },
  {
   "cell_type": "code",
   "execution_count": 59,
   "id": "e4b54b0c",
   "metadata": {},
   "outputs": [
    {
     "data": {
      "text/plain": [
       "Director\n",
       "Christopher Nolan    11578345\n",
       "Quentin Tarantino     8123208\n",
       "Steven Spielberg      7817166\n",
       "David Fincher         6607859\n",
       "Martin Scorsese       6513530\n",
       "                       ...   \n",
       "J. Lee Thompson         26457\n",
       "Peter Mullan            25938\n",
       "René Laloux             25229\n",
       "Francis Lee             25198\n",
       "Kaige Chen              25088\n",
       "Name: No_of_Votes, Length: 548, dtype: int64"
      ]
     },
     "execution_count": 59,
     "metadata": {},
     "output_type": "execute_result"
    }
   ],
   "source": [
    "m.groupby('Director')['No_of_Votes'].sum().sort_values(ascending=False)"
   ]
  },
  {
   "cell_type": "markdown",
   "id": "c740e2f3",
   "metadata": {},
   "source": [
    "find highest rated movies of each genre"
   ]
  },
  {
   "cell_type": "code",
   "execution_count": 91,
   "id": "ef1c493c",
   "metadata": {},
   "outputs": [
    {
     "data": {
      "text/html": [
       "<div>\n",
       "<style scoped>\n",
       "    .dataframe tbody tr th:only-of-type {\n",
       "        vertical-align: middle;\n",
       "    }\n",
       "\n",
       "    .dataframe tbody tr th {\n",
       "        vertical-align: top;\n",
       "    }\n",
       "\n",
       "    .dataframe thead th {\n",
       "        text-align: right;\n",
       "    }\n",
       "</style>\n",
       "<table border=\"1\" class=\"dataframe\">\n",
       "  <thead>\n",
       "    <tr style=\"text-align: right;\">\n",
       "      <th></th>\n",
       "      <th>Genre</th>\n",
       "      <th>IMDB_Rating</th>\n",
       "      <th>Series_Title</th>\n",
       "    </tr>\n",
       "  </thead>\n",
       "  <tbody>\n",
       "    <tr>\n",
       "      <th>2</th>\n",
       "      <td>Action</td>\n",
       "      <td>9.0</td>\n",
       "      <td>The Dark Knight</td>\n",
       "    </tr>\n",
       "    <tr>\n",
       "      <th>21</th>\n",
       "      <td>Adventure</td>\n",
       "      <td>8.6</td>\n",
       "      <td>Interstellar</td>\n",
       "    </tr>\n",
       "    <tr>\n",
       "      <th>23</th>\n",
       "      <td>Animation</td>\n",
       "      <td>8.6</td>\n",
       "      <td>Sen to Chihiro no kamikakushi</td>\n",
       "    </tr>\n",
       "    <tr>\n",
       "      <th>7</th>\n",
       "      <td>Biography</td>\n",
       "      <td>8.9</td>\n",
       "      <td>Schindler's List</td>\n",
       "    </tr>\n",
       "    <tr>\n",
       "      <th>19</th>\n",
       "      <td>Comedy</td>\n",
       "      <td>8.6</td>\n",
       "      <td>Gisaengchung</td>\n",
       "    </tr>\n",
       "  </tbody>\n",
       "</table>\n",
       "</div>"
      ],
      "text/plain": [
       "        Genre  IMDB_Rating                   Series_Title\n",
       "2      Action          9.0                The Dark Knight\n",
       "21  Adventure          8.6                   Interstellar\n",
       "23  Animation          8.6  Sen to Chihiro no kamikakushi\n",
       "7   Biography          8.9               Schindler's List\n",
       "19     Comedy          8.6                   Gisaengchung"
      ]
     },
     "execution_count": 91,
     "metadata": {},
     "output_type": "execute_result"
    }
   ],
   "source": [
    "m.loc[m.groupby('Genre')['IMDB_Rating'].idxmax(),['Genre','IMDB_Rating','Series_Title']].head(5)"
   ]
  },
  {
   "cell_type": "code",
   "execution_count": 90,
   "id": "9ce41141",
   "metadata": {},
   "outputs": [
    {
     "data": {
      "text/html": [
       "<div>\n",
       "<style scoped>\n",
       "    .dataframe tbody tr th:only-of-type {\n",
       "        vertical-align: middle;\n",
       "    }\n",
       "\n",
       "    .dataframe tbody tr th {\n",
       "        vertical-align: top;\n",
       "    }\n",
       "\n",
       "    .dataframe thead th {\n",
       "        text-align: right;\n",
       "    }\n",
       "</style>\n",
       "<table border=\"1\" class=\"dataframe\">\n",
       "  <thead>\n",
       "    <tr style=\"text-align: right;\">\n",
       "      <th></th>\n",
       "      <th>Genre</th>\n",
       "      <th>IMDB_Rating</th>\n",
       "      <th>Director</th>\n",
       "    </tr>\n",
       "  </thead>\n",
       "  <tbody>\n",
       "    <tr>\n",
       "      <th>2</th>\n",
       "      <td>Action</td>\n",
       "      <td>9.0</td>\n",
       "      <td>Christopher Nolan</td>\n",
       "    </tr>\n",
       "    <tr>\n",
       "      <th>21</th>\n",
       "      <td>Adventure</td>\n",
       "      <td>8.6</td>\n",
       "      <td>Christopher Nolan</td>\n",
       "    </tr>\n",
       "    <tr>\n",
       "      <th>23</th>\n",
       "      <td>Animation</td>\n",
       "      <td>8.6</td>\n",
       "      <td>Hayao Miyazaki</td>\n",
       "    </tr>\n",
       "    <tr>\n",
       "      <th>7</th>\n",
       "      <td>Biography</td>\n",
       "      <td>8.9</td>\n",
       "      <td>Steven Spielberg</td>\n",
       "    </tr>\n",
       "    <tr>\n",
       "      <th>19</th>\n",
       "      <td>Comedy</td>\n",
       "      <td>8.6</td>\n",
       "      <td>Bong Joon Ho</td>\n",
       "    </tr>\n",
       "  </tbody>\n",
       "</table>\n",
       "</div>"
      ],
      "text/plain": [
       "        Genre  IMDB_Rating           Director\n",
       "2      Action          9.0  Christopher Nolan\n",
       "21  Adventure          8.6  Christopher Nolan\n",
       "23  Animation          8.6     Hayao Miyazaki\n",
       "7   Biography          8.9   Steven Spielberg\n",
       "19     Comedy          8.6       Bong Joon Ho"
      ]
     },
     "execution_count": 90,
     "metadata": {},
     "output_type": "execute_result"
    }
   ],
   "source": [
    "m.loc[m.groupby('Genre')['IMDB_Rating'].idxmax(),['Genre','IMDB_Rating','Director']].head(5)"
   ]
  },
  {
   "cell_type": "markdown",
   "id": "a1d2ad3c",
   "metadata": {},
   "source": [
    "find no of movies done by each actors"
   ]
  },
  {
   "cell_type": "code",
   "execution_count": 95,
   "id": "339dd1cd",
   "metadata": {},
   "outputs": [
    {
     "data": {
      "text/plain": [
       "Star1\n",
       "Tom Hanks            12\n",
       "Robert De Niro       11\n",
       "Al Pacino            10\n",
       "Clint Eastwood       10\n",
       "Humphrey Bogart       9\n",
       "                     ..\n",
       "Phil Harris           1\n",
       "David Hemmings        1\n",
       "John Lennon           1\n",
       "Tallulah Bankhead     1\n",
       "Bruce Lee             1\n",
       "Name: count, Length: 660, dtype: int64"
      ]
     },
     "execution_count": 95,
     "metadata": {},
     "output_type": "execute_result"
    }
   ],
   "source": [
    "m['Star1'].value_counts(ascending=False)"
   ]
  },
  {
   "cell_type": "code",
   "execution_count": 102,
   "id": "6d4c7c84",
   "metadata": {},
   "outputs": [
    {
     "data": {
      "text/plain": [
       "Star1\n",
       "Aamir Khan              7\n",
       "Aaron Taylor-Johnson    1\n",
       "Abhay Deol              1\n",
       "Abraham Attah           1\n",
       "Adam Driver             1\n",
       "                       ..\n",
       "Zbigniew Zamachowski    1\n",
       "Zooey Deschanel         1\n",
       "Çetin Tekindor          1\n",
       "Éric Toledano           1\n",
       "Ömer Faruk Sorak        1\n",
       "Name: Series_Title, Length: 660, dtype: int64"
      ]
     },
     "execution_count": 102,
     "metadata": {},
     "output_type": "execute_result"
    }
   ],
   "source": [
    "m.groupby('Star1')['Series_Title'].count()"
   ]
  },
  {
   "cell_type": "code",
   "execution_count": null,
   "id": "a97eaff9",
   "metadata": {},
   "outputs": [],
   "source": []
  }
 ],
 "metadata": {
  "kernelspec": {
   "display_name": "Python 3",
   "language": "python",
   "name": "python3"
  },
  "language_info": {
   "codemirror_mode": {
    "name": "ipython",
    "version": 3
   },
   "file_extension": ".py",
   "mimetype": "text/x-python",
   "name": "python",
   "nbconvert_exporter": "python",
   "pygments_lexer": "ipython3",
   "version": "3.13.7"
  }
 },
 "nbformat": 4,
 "nbformat_minor": 5
}
