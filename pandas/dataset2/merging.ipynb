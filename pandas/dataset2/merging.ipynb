{
 "cells": [
  {
   "cell_type": "code",
   "execution_count": 1,
   "id": "cf9809a9",
   "metadata": {},
   "outputs": [],
   "source": [
    "import pandas as pd\n",
    "import numpy as np\n",
    "import matplotlib.pyplot as plt\n",
    "plt.style.use('ggplot')"
   ]
  },
  {
   "cell_type": "code",
   "execution_count": 2,
   "id": "9851c0ba",
   "metadata": {},
   "outputs": [],
   "source": [
    "cou =pd.read_csv('courses.csv')\n",
    "\n",
    "nov =pd.read_csv('reg-month1.csv')\n",
    "dec =pd.read_csv('reg-month2.csv')\n",
    "stu =pd.read_csv('students.csv')\n",
    "match =pd.read_csv('matches.csv')\n",
    "deli = pd.read_csv('deliveries.csv')"
   ]
  },
  {
   "cell_type": "markdown",
   "id": "f5ccca52",
   "metadata": {},
   "source": [
    "pd.concat\n",
    "df.concat\n",
    "ignore index\n",
    "multindex\n",
    "concat dataframes"
   ]
  },
  {
   "cell_type": "code",
   "execution_count": 3,
   "id": "9dd9a671",
   "metadata": {},
   "outputs": [],
   "source": [
    "Regi =pd.concat([nov,dec],axis=0)"
   ]
  },
  {
   "cell_type": "code",
   "execution_count": 4,
   "id": "ef5380bf",
   "metadata": {},
   "outputs": [
    {
     "data": {
      "application/vnd.microsoft.datawrangler.viewer.v0+json": {
       "columns": [
        {
         "name": "index",
         "rawType": "int64",
         "type": "integer"
        },
        {
         "name": "student_id",
         "rawType": "int64",
         "type": "integer"
        },
        {
         "name": "course_id",
         "rawType": "int64",
         "type": "integer"
        }
       ],
       "ref": "70744418-ef4a-4f9f-a838-b952d3784ce5",
       "rows": [
        [
         "25",
         "42",
         "9"
        ],
        [
         "26",
         "50",
         "8"
        ],
        [
         "27",
         "38",
         "1"
        ]
       ],
       "shape": {
        "columns": 2,
        "rows": 3
       }
      },
      "text/html": [
       "<div>\n",
       "<style scoped>\n",
       "    .dataframe tbody tr th:only-of-type {\n",
       "        vertical-align: middle;\n",
       "    }\n",
       "\n",
       "    .dataframe tbody tr th {\n",
       "        vertical-align: top;\n",
       "    }\n",
       "\n",
       "    .dataframe thead th {\n",
       "        text-align: right;\n",
       "    }\n",
       "</style>\n",
       "<table border=\"1\" class=\"dataframe\">\n",
       "  <thead>\n",
       "    <tr style=\"text-align: right;\">\n",
       "      <th></th>\n",
       "      <th>student_id</th>\n",
       "      <th>course_id</th>\n",
       "    </tr>\n",
       "  </thead>\n",
       "  <tbody>\n",
       "    <tr>\n",
       "      <th>25</th>\n",
       "      <td>42</td>\n",
       "      <td>9</td>\n",
       "    </tr>\n",
       "    <tr>\n",
       "      <th>26</th>\n",
       "      <td>50</td>\n",
       "      <td>8</td>\n",
       "    </tr>\n",
       "    <tr>\n",
       "      <th>27</th>\n",
       "      <td>38</td>\n",
       "      <td>1</td>\n",
       "    </tr>\n",
       "  </tbody>\n",
       "</table>\n",
       "</div>"
      ],
      "text/plain": [
       "    student_id  course_id\n",
       "25          42          9\n",
       "26          50          8\n",
       "27          38          1"
      ]
     },
     "execution_count": 4,
     "metadata": {},
     "output_type": "execute_result"
    }
   ],
   "source": [
    "Regi.tail(3)"
   ]
  },
  {
   "cell_type": "markdown",
   "id": "5885d0c4",
   "metadata": {},
   "source": [
    "multiindex keys \n"
   ]
  },
  {
   "cell_type": "code",
   "execution_count": 5,
   "id": "2661b8fe",
   "metadata": {},
   "outputs": [],
   "source": [
    "multi =pd.concat((nov,dec),keys=['nov','dec'],axis=0)"
   ]
  },
  {
   "cell_type": "code",
   "execution_count": 6,
   "id": "de4cd94f",
   "metadata": {},
   "outputs": [
    {
     "data": {
      "application/vnd.microsoft.datawrangler.viewer.v0+json": {
       "columns": [
        {
         "name": "(None, None)",
         "rawType": "object",
         "type": "unknown"
        },
        {
         "name": "student_id",
         "rawType": "int64",
         "type": "integer"
        },
        {
         "name": "course_id",
         "rawType": "int64",
         "type": "integer"
        }
       ],
       "ref": "15b29c2c-f54a-4335-9f55-c480847ce923",
       "rows": [
        [
         "('nov', np.int64(0))",
         "23",
         "1"
        ],
        [
         "('nov', np.int64(1))",
         "15",
         "5"
        ]
       ],
       "shape": {
        "columns": 2,
        "rows": 2
       }
      },
      "text/html": [
       "<div>\n",
       "<style scoped>\n",
       "    .dataframe tbody tr th:only-of-type {\n",
       "        vertical-align: middle;\n",
       "    }\n",
       "\n",
       "    .dataframe tbody tr th {\n",
       "        vertical-align: top;\n",
       "    }\n",
       "\n",
       "    .dataframe thead th {\n",
       "        text-align: right;\n",
       "    }\n",
       "</style>\n",
       "<table border=\"1\" class=\"dataframe\">\n",
       "  <thead>\n",
       "    <tr style=\"text-align: right;\">\n",
       "      <th></th>\n",
       "      <th></th>\n",
       "      <th>student_id</th>\n",
       "      <th>course_id</th>\n",
       "    </tr>\n",
       "  </thead>\n",
       "  <tbody>\n",
       "    <tr>\n",
       "      <th rowspan=\"2\" valign=\"top\">nov</th>\n",
       "      <th>0</th>\n",
       "      <td>23</td>\n",
       "      <td>1</td>\n",
       "    </tr>\n",
       "    <tr>\n",
       "      <th>1</th>\n",
       "      <td>15</td>\n",
       "      <td>5</td>\n",
       "    </tr>\n",
       "  </tbody>\n",
       "</table>\n",
       "</div>"
      ],
      "text/plain": [
       "       student_id  course_id\n",
       "nov 0          23          1\n",
       "    1          15          5"
      ]
     },
     "execution_count": 6,
     "metadata": {},
     "output_type": "execute_result"
    }
   ],
   "source": [
    "multi.head(2)"
   ]
  },
  {
   "cell_type": "code",
   "execution_count": 7,
   "id": "c50183e8",
   "metadata": {},
   "outputs": [
    {
     "data": {
      "application/vnd.microsoft.datawrangler.viewer.v0+json": {
       "columns": [
        {
         "name": "index",
         "rawType": "object",
         "type": "string"
        },
        {
         "name": "('nov', 1)",
         "rawType": "int64",
         "type": "integer"
        }
       ],
       "ref": "f79f6ca3-ef7b-4c5d-bf22-660176077fa3",
       "rows": [
        [
         "student_id",
         "15"
        ],
        [
         "course_id",
         "5"
        ]
       ],
       "shape": {
        "columns": 1,
        "rows": 2
       }
      },
      "text/plain": [
       "student_id    15\n",
       "course_id      5\n",
       "Name: (nov, 1), dtype: int64"
      ]
     },
     "execution_count": 7,
     "metadata": {},
     "output_type": "execute_result"
    }
   ],
   "source": [
    "multi.loc[('nov',1)]"
   ]
  },
  {
   "cell_type": "code",
   "execution_count": 8,
   "id": "029e0690",
   "metadata": {},
   "outputs": [
    {
     "data": {
      "application/vnd.microsoft.datawrangler.viewer.v0+json": {
       "columns": [
        {
         "name": "index",
         "rawType": "object",
         "type": "string"
        },
        {
         "name": "('dec', 0)",
         "rawType": "int64",
         "type": "integer"
        }
       ],
       "ref": "bb036a92-7fe4-4344-b7e7-c3d7ed5b1856",
       "rows": [
        [
         "student_id",
         "3"
        ],
        [
         "course_id",
         "5"
        ]
       ],
       "shape": {
        "columns": 1,
        "rows": 2
       }
      },
      "text/plain": [
       "student_id    3\n",
       "course_id     5\n",
       "Name: (dec, 0), dtype: int64"
      ]
     },
     "execution_count": 8,
     "metadata": {},
     "output_type": "execute_result"
    }
   ],
   "source": [
    "multi.loc[('dec',0)]"
   ]
  },
  {
   "cell_type": "markdown",
   "id": "61644407",
   "metadata": {},
   "source": [
    "\n",
    "merging"
   ]
  },
  {
   "cell_type": "markdown",
   "id": "87ae4ed6",
   "metadata": {},
   "source": [
    "INNER Join"
   ]
  },
  {
   "cell_type": "code",
   "execution_count": 9,
   "id": "9b8f84d8",
   "metadata": {},
   "outputs": [
    {
     "data": {
      "application/vnd.microsoft.datawrangler.viewer.v0+json": {
       "columns": [
        {
         "name": "index",
         "rawType": "int64",
         "type": "integer"
        },
        {
         "name": "student_id",
         "rawType": "int64",
         "type": "integer"
        },
        {
         "name": "name",
         "rawType": "object",
         "type": "string"
        },
        {
         "name": "partner",
         "rawType": "int64",
         "type": "integer"
        },
        {
         "name": "course_id",
         "rawType": "int64",
         "type": "integer"
        }
       ],
       "ref": "0a4b3bc5-b514-48fe-af40-c70e0a42381c",
       "rows": [
        [
         "45",
         "23",
         "Chhavi Lachman",
         "18",
         "9"
        ],
        [
         "46",
         "23",
         "Chhavi Lachman",
         "18",
         "5"
        ],
        [
         "47",
         "24",
         "Radhika Suri",
         "17",
         "4"
        ],
        [
         "48",
         "25",
         "Shashank D’Alia",
         "2",
         "1"
        ],
        [
         "49",
         "25",
         "Shashank D’Alia",
         "2",
         "10"
        ]
       ],
       "shape": {
        "columns": 4,
        "rows": 5
       }
      },
      "text/html": [
       "<div>\n",
       "<style scoped>\n",
       "    .dataframe tbody tr th:only-of-type {\n",
       "        vertical-align: middle;\n",
       "    }\n",
       "\n",
       "    .dataframe tbody tr th {\n",
       "        vertical-align: top;\n",
       "    }\n",
       "\n",
       "    .dataframe thead th {\n",
       "        text-align: right;\n",
       "    }\n",
       "</style>\n",
       "<table border=\"1\" class=\"dataframe\">\n",
       "  <thead>\n",
       "    <tr style=\"text-align: right;\">\n",
       "      <th></th>\n",
       "      <th>student_id</th>\n",
       "      <th>name</th>\n",
       "      <th>partner</th>\n",
       "      <th>course_id</th>\n",
       "    </tr>\n",
       "  </thead>\n",
       "  <tbody>\n",
       "    <tr>\n",
       "      <th>45</th>\n",
       "      <td>23</td>\n",
       "      <td>Chhavi Lachman</td>\n",
       "      <td>18</td>\n",
       "      <td>9</td>\n",
       "    </tr>\n",
       "    <tr>\n",
       "      <th>46</th>\n",
       "      <td>23</td>\n",
       "      <td>Chhavi Lachman</td>\n",
       "      <td>18</td>\n",
       "      <td>5</td>\n",
       "    </tr>\n",
       "    <tr>\n",
       "      <th>47</th>\n",
       "      <td>24</td>\n",
       "      <td>Radhika Suri</td>\n",
       "      <td>17</td>\n",
       "      <td>4</td>\n",
       "    </tr>\n",
       "    <tr>\n",
       "      <th>48</th>\n",
       "      <td>25</td>\n",
       "      <td>Shashank D’Alia</td>\n",
       "      <td>2</td>\n",
       "      <td>1</td>\n",
       "    </tr>\n",
       "    <tr>\n",
       "      <th>49</th>\n",
       "      <td>25</td>\n",
       "      <td>Shashank D’Alia</td>\n",
       "      <td>2</td>\n",
       "      <td>10</td>\n",
       "    </tr>\n",
       "  </tbody>\n",
       "</table>\n",
       "</div>"
      ],
      "text/plain": [
       "    student_id             name  partner  course_id\n",
       "45          23   Chhavi Lachman       18          9\n",
       "46          23   Chhavi Lachman       18          5\n",
       "47          24     Radhika Suri       17          4\n",
       "48          25  Shashank D’Alia        2          1\n",
       "49          25  Shashank D’Alia        2         10"
      ]
     },
     "execution_count": 9,
     "metadata": {},
     "output_type": "execute_result"
    }
   ],
   "source": [
    "stu.merge(multi,how='inner',on='student_id').tail(5)"
   ]
  },
  {
   "cell_type": "markdown",
   "id": "01118fa3",
   "metadata": {},
   "source": [
    "find total revenu generated by company"
   ]
  },
  {
   "cell_type": "code",
   "execution_count": 10,
   "id": "e1e9529e",
   "metadata": {},
   "outputs": [],
   "source": [
    "total = multi.merge(cou,how='inner',on='course_id')['price']"
   ]
  },
  {
   "cell_type": "code",
   "execution_count": 11,
   "id": "f8ab495a",
   "metadata": {},
   "outputs": [
    {
     "data": {
      "application/vnd.microsoft.datawrangler.viewer.v0+json": {
       "columns": [
        {
         "name": "index",
         "rawType": "int64",
         "type": "integer"
        },
        {
         "name": "price",
         "rawType": "int64",
         "type": "integer"
        }
       ],
       "ref": "38d5a4bc-8e7f-49d0-bb9b-885233813805",
       "rows": [
        [
         "50",
         "699"
        ],
        [
         "51",
         "1099"
        ],
        [
         "52",
         "2499"
        ]
       ],
       "shape": {
        "columns": 1,
        "rows": 3
       }
      },
      "text/plain": [
       "50     699\n",
       "51    1099\n",
       "52    2499\n",
       "Name: price, dtype: int64"
      ]
     },
     "execution_count": 11,
     "metadata": {},
     "output_type": "execute_result"
    }
   ],
   "source": [
    "total.tail(3)"
   ]
  },
  {
   "cell_type": "code",
   "execution_count": 12,
   "id": "d7f7d711",
   "metadata": {},
   "outputs": [
    {
     "data": {
      "text/plain": [
       "np.int64(154247)"
      ]
     },
     "execution_count": 12,
     "metadata": {},
     "output_type": "execute_result"
    }
   ],
   "source": [
    "total.sum()"
   ]
  },
  {
   "cell_type": "markdown",
   "id": "082bcba4",
   "metadata": {},
   "source": [
    "find month by month revenue"
   ]
  },
  {
   "cell_type": "code",
   "execution_count": 13,
   "id": "7c8019ff",
   "metadata": {},
   "outputs": [],
   "source": [
    "temp = pd.concat([nov,dec],keys=['nov','dec']).reset_index()"
   ]
  },
  {
   "cell_type": "code",
   "execution_count": 14,
   "id": "0764d878",
   "metadata": {},
   "outputs": [
    {
     "data": {
      "application/vnd.microsoft.datawrangler.viewer.v0+json": {
       "columns": [
        {
         "name": "index",
         "rawType": "int64",
         "type": "integer"
        },
        {
         "name": "level_0",
         "rawType": "object",
         "type": "string"
        },
        {
         "name": "level_1",
         "rawType": "int64",
         "type": "integer"
        },
        {
         "name": "student_id",
         "rawType": "int64",
         "type": "integer"
        },
        {
         "name": "course_id",
         "rawType": "int64",
         "type": "integer"
        }
       ],
       "ref": "e89b191c-9bee-4d45-99b8-cd68f9589080",
       "rows": [
        [
         "48",
         "dec",
         "23",
         "14",
         "1"
        ],
        [
         "49",
         "dec",
         "24",
         "11",
         "10"
        ],
        [
         "50",
         "dec",
         "25",
         "42",
         "9"
        ],
        [
         "51",
         "dec",
         "26",
         "50",
         "8"
        ],
        [
         "52",
         "dec",
         "27",
         "38",
         "1"
        ]
       ],
       "shape": {
        "columns": 4,
        "rows": 5
       }
      },
      "text/html": [
       "<div>\n",
       "<style scoped>\n",
       "    .dataframe tbody tr th:only-of-type {\n",
       "        vertical-align: middle;\n",
       "    }\n",
       "\n",
       "    .dataframe tbody tr th {\n",
       "        vertical-align: top;\n",
       "    }\n",
       "\n",
       "    .dataframe thead th {\n",
       "        text-align: right;\n",
       "    }\n",
       "</style>\n",
       "<table border=\"1\" class=\"dataframe\">\n",
       "  <thead>\n",
       "    <tr style=\"text-align: right;\">\n",
       "      <th></th>\n",
       "      <th>level_0</th>\n",
       "      <th>level_1</th>\n",
       "      <th>student_id</th>\n",
       "      <th>course_id</th>\n",
       "    </tr>\n",
       "  </thead>\n",
       "  <tbody>\n",
       "    <tr>\n",
       "      <th>48</th>\n",
       "      <td>dec</td>\n",
       "      <td>23</td>\n",
       "      <td>14</td>\n",
       "      <td>1</td>\n",
       "    </tr>\n",
       "    <tr>\n",
       "      <th>49</th>\n",
       "      <td>dec</td>\n",
       "      <td>24</td>\n",
       "      <td>11</td>\n",
       "      <td>10</td>\n",
       "    </tr>\n",
       "    <tr>\n",
       "      <th>50</th>\n",
       "      <td>dec</td>\n",
       "      <td>25</td>\n",
       "      <td>42</td>\n",
       "      <td>9</td>\n",
       "    </tr>\n",
       "    <tr>\n",
       "      <th>51</th>\n",
       "      <td>dec</td>\n",
       "      <td>26</td>\n",
       "      <td>50</td>\n",
       "      <td>8</td>\n",
       "    </tr>\n",
       "    <tr>\n",
       "      <th>52</th>\n",
       "      <td>dec</td>\n",
       "      <td>27</td>\n",
       "      <td>38</td>\n",
       "      <td>1</td>\n",
       "    </tr>\n",
       "  </tbody>\n",
       "</table>\n",
       "</div>"
      ],
      "text/plain": [
       "   level_0  level_1  student_id  course_id\n",
       "48     dec       23          14          1\n",
       "49     dec       24          11         10\n",
       "50     dec       25          42          9\n",
       "51     dec       26          50          8\n",
       "52     dec       27          38          1"
      ]
     },
     "execution_count": 14,
     "metadata": {},
     "output_type": "execute_result"
    }
   ],
   "source": [
    "temp.tail(5)"
   ]
  },
  {
   "cell_type": "code",
   "execution_count": 15,
   "id": "b2d7a719",
   "metadata": {},
   "outputs": [
    {
     "data": {
      "application/vnd.microsoft.datawrangler.viewer.v0+json": {
       "columns": [
        {
         "name": "level_0",
         "rawType": "object",
         "type": "string"
        },
        {
         "name": "price",
         "rawType": "int64",
         "type": "integer"
        }
       ],
       "ref": "2b041f5d-6161-4f43-93fe-897a1239956b",
       "rows": [
        [
         "dec",
         "65072"
        ],
        [
         "nov",
         "89175"
        ]
       ],
       "shape": {
        "columns": 1,
        "rows": 2
       }
      },
      "text/plain": [
       "level_0\n",
       "dec    65072\n",
       "nov    89175\n",
       "Name: price, dtype: int64"
      ]
     },
     "execution_count": 15,
     "metadata": {},
     "output_type": "execute_result"
    }
   ],
   "source": [
    "temp.merge(cou,how=\"inner\",on='course_id').groupby('level_0')['price'].sum()"
   ]
  },
  {
   "cell_type": "markdown",
   "id": "ab764b8a",
   "metadata": {},
   "source": [
    "cols -> name -> course-> price"
   ]
  },
  {
   "cell_type": "code",
   "execution_count": 16,
   "id": "36a50bc1",
   "metadata": {},
   "outputs": [
    {
     "data": {
      "application/vnd.microsoft.datawrangler.viewer.v0+json": {
       "columns": [
        {
         "name": "index",
         "rawType": "int64",
         "type": "integer"
        },
        {
         "name": "name",
         "rawType": "object",
         "type": "string"
        },
        {
         "name": "course_name",
         "rawType": "object",
         "type": "string"
        },
        {
         "name": "price",
         "rawType": "int64",
         "type": "integer"
        }
       ],
       "ref": "6fbabba3-4a9d-44a2-9700-622db8f62da2",
       "rows": [
        [
         "0",
         "Chhavi Lachman",
         "python",
         "2499"
        ],
        [
         "1",
         "Preet Sha",
         "tableau",
         "2499"
        ],
        [
         "2",
         "Fardeen Mahabir",
         "power bi",
         "1899"
        ],
        [
         "3",
         "Chhavi Lachman",
         "machine learning",
         "9999"
        ],
        [
         "4",
         "Elias Dodiya",
         "plotly",
         "699"
        ],
        [
         "5",
         "Fardeen Mahabir",
         "python",
         "2499"
        ],
        [
         "6",
         "Kailash Harjo",
         "python",
         "2499"
        ],
        [
         "7",
         "Tarun Thaker",
         "pandas",
         "1099"
        ],
        [
         "8",
         "Yash Sethi",
         "data analysis",
         "4999"
        ],
        [
         "9",
         "Preet Sha",
         "python",
         "2499"
        ],
        [
         "10",
         "Qabeel Raman",
         "machine learning",
         "9999"
        ],
        [
         "11",
         "Kailash Harjo",
         "power bi",
         "1899"
        ],
        [
         "12",
         "Tarun Thaker",
         "pyspark",
         "2499"
        ],
        [
         "13",
         "David Mukhopadhyay",
         "ms sxcel",
         "1599"
        ],
        [
         "14",
         "Munni Varghese",
         "data analysis",
         "4999"
        ],
        [
         "15",
         "Radhika Suri",
         "machine learning",
         "9999"
        ],
        [
         "16",
         "Seema Kota",
         "python",
         "2499"
        ],
        [
         "17",
         "Elias Dodiya",
         "tableau",
         "2499"
        ],
        [
         "18",
         "Chhavi Lachman",
         "data analysis",
         "4999"
        ],
        [
         "19",
         "Yasmin Palan",
         "ms sxcel",
         "1599"
        ],
        [
         "20",
         "Chhavi Lachman",
         "power bi",
         "1899"
        ],
        [
         "21",
         "Shashank D’Alia",
         "python",
         "2499"
        ],
        [
         "22",
         "Qabeel Raman",
         "sql",
         "3499"
        ],
        [
         "23",
         "Shashank D’Alia",
         "pyspark",
         "2499"
        ],
        [
         "24",
         "Parveen Bhalla",
         "data analysis",
         "4999"
        ],
        [
         "25",
         "Parveen Bhalla",
         "tableau",
         "2499"
        ],
        [
         "26",
         "Elias Dodiya",
         "ms sxcel",
         "1599"
        ],
        [
         "27",
         "Radha Dutt",
         "pyspark",
         "2499"
        ],
        [
         "28",
         "Radha Dutt",
         "python",
         "2499"
        ],
        [
         "29",
         "Pranab Natarajan",
         "plotly",
         "699"
        ],
        [
         "30",
         "Tarun Thaker",
         "ms sxcel",
         "1599"
        ],
        [
         "31",
         "Tarun Thaker",
         "sql",
         "3499"
        ],
        [
         "32",
         "Elias Dodiya",
         "data analysis",
         "4999"
        ],
        [
         "33",
         "Yasmin Palan",
         "pyspark",
         "2499"
        ],
        [
         "34",
         "David Mukhopadhyay",
         "pandas",
         "1099"
        ],
        [
         "35",
         "Pranab Natarajan",
         "power bi",
         "1899"
        ],
        [
         "36",
         "Radha Dutt",
         "tableau",
         "2499"
        ],
        [
         "37",
         "Radha Dutt",
         "ms sxcel",
         "1599"
        ],
        [
         "38",
         "Fardeen Mahabir",
         "pandas",
         "1099"
        ],
        [
         "39",
         "Kailash Harjo",
         "pyspark",
         "2499"
        ],
        [
         "40",
         "Kailash Harjo",
         "plotly",
         "699"
        ],
        [
         "41",
         "Esha Butala",
         "tableau",
         "2499"
        ],
        [
         "42",
         "Tarun Thaker",
         "power bi",
         "1899"
        ],
        [
         "43",
         "Yash Sethi",
         "tableau",
         "2499"
        ],
        [
         "44",
         "Yash Sethi",
         "power bi",
         "1899"
        ],
        [
         "45",
         "Chhavi Lachman",
         "plotly",
         "699"
        ],
        [
         "46",
         "Chhavi Lachman",
         "tableau",
         "2499"
        ],
        [
         "47",
         "Pranab Natarajan",
         "machine learning",
         "9999"
        ],
        [
         "48",
         "Pranab Natarajan",
         "python",
         "2499"
        ],
        [
         "49",
         "David Mukhopadhyay",
         "pyspark",
         "2499"
        ]
       ],
       "shape": {
        "columns": 3,
        "rows": 50
       }
      },
      "text/html": [
       "<div>\n",
       "<style scoped>\n",
       "    .dataframe tbody tr th:only-of-type {\n",
       "        vertical-align: middle;\n",
       "    }\n",
       "\n",
       "    .dataframe tbody tr th {\n",
       "        vertical-align: top;\n",
       "    }\n",
       "\n",
       "    .dataframe thead th {\n",
       "        text-align: right;\n",
       "    }\n",
       "</style>\n",
       "<table border=\"1\" class=\"dataframe\">\n",
       "  <thead>\n",
       "    <tr style=\"text-align: right;\">\n",
       "      <th></th>\n",
       "      <th>name</th>\n",
       "      <th>course_name</th>\n",
       "      <th>price</th>\n",
       "    </tr>\n",
       "  </thead>\n",
       "  <tbody>\n",
       "    <tr>\n",
       "      <th>0</th>\n",
       "      <td>Chhavi Lachman</td>\n",
       "      <td>python</td>\n",
       "      <td>2499</td>\n",
       "    </tr>\n",
       "    <tr>\n",
       "      <th>1</th>\n",
       "      <td>Preet Sha</td>\n",
       "      <td>tableau</td>\n",
       "      <td>2499</td>\n",
       "    </tr>\n",
       "    <tr>\n",
       "      <th>2</th>\n",
       "      <td>Fardeen Mahabir</td>\n",
       "      <td>power bi</td>\n",
       "      <td>1899</td>\n",
       "    </tr>\n",
       "    <tr>\n",
       "      <th>3</th>\n",
       "      <td>Chhavi Lachman</td>\n",
       "      <td>machine learning</td>\n",
       "      <td>9999</td>\n",
       "    </tr>\n",
       "    <tr>\n",
       "      <th>4</th>\n",
       "      <td>Elias Dodiya</td>\n",
       "      <td>plotly</td>\n",
       "      <td>699</td>\n",
       "    </tr>\n",
       "    <tr>\n",
       "      <th>5</th>\n",
       "      <td>Fardeen Mahabir</td>\n",
       "      <td>python</td>\n",
       "      <td>2499</td>\n",
       "    </tr>\n",
       "    <tr>\n",
       "      <th>6</th>\n",
       "      <td>Kailash Harjo</td>\n",
       "      <td>python</td>\n",
       "      <td>2499</td>\n",
       "    </tr>\n",
       "    <tr>\n",
       "      <th>7</th>\n",
       "      <td>Tarun Thaker</td>\n",
       "      <td>pandas</td>\n",
       "      <td>1099</td>\n",
       "    </tr>\n",
       "    <tr>\n",
       "      <th>8</th>\n",
       "      <td>Yash Sethi</td>\n",
       "      <td>data analysis</td>\n",
       "      <td>4999</td>\n",
       "    </tr>\n",
       "    <tr>\n",
       "      <th>9</th>\n",
       "      <td>Preet Sha</td>\n",
       "      <td>python</td>\n",
       "      <td>2499</td>\n",
       "    </tr>\n",
       "    <tr>\n",
       "      <th>10</th>\n",
       "      <td>Qabeel Raman</td>\n",
       "      <td>machine learning</td>\n",
       "      <td>9999</td>\n",
       "    </tr>\n",
       "    <tr>\n",
       "      <th>11</th>\n",
       "      <td>Kailash Harjo</td>\n",
       "      <td>power bi</td>\n",
       "      <td>1899</td>\n",
       "    </tr>\n",
       "    <tr>\n",
       "      <th>12</th>\n",
       "      <td>Tarun Thaker</td>\n",
       "      <td>pyspark</td>\n",
       "      <td>2499</td>\n",
       "    </tr>\n",
       "    <tr>\n",
       "      <th>13</th>\n",
       "      <td>David Mukhopadhyay</td>\n",
       "      <td>ms sxcel</td>\n",
       "      <td>1599</td>\n",
       "    </tr>\n",
       "    <tr>\n",
       "      <th>14</th>\n",
       "      <td>Munni Varghese</td>\n",
       "      <td>data analysis</td>\n",
       "      <td>4999</td>\n",
       "    </tr>\n",
       "    <tr>\n",
       "      <th>15</th>\n",
       "      <td>Radhika Suri</td>\n",
       "      <td>machine learning</td>\n",
       "      <td>9999</td>\n",
       "    </tr>\n",
       "    <tr>\n",
       "      <th>16</th>\n",
       "      <td>Seema Kota</td>\n",
       "      <td>python</td>\n",
       "      <td>2499</td>\n",
       "    </tr>\n",
       "    <tr>\n",
       "      <th>17</th>\n",
       "      <td>Elias Dodiya</td>\n",
       "      <td>tableau</td>\n",
       "      <td>2499</td>\n",
       "    </tr>\n",
       "    <tr>\n",
       "      <th>18</th>\n",
       "      <td>Chhavi Lachman</td>\n",
       "      <td>data analysis</td>\n",
       "      <td>4999</td>\n",
       "    </tr>\n",
       "    <tr>\n",
       "      <th>19</th>\n",
       "      <td>Yasmin Palan</td>\n",
       "      <td>ms sxcel</td>\n",
       "      <td>1599</td>\n",
       "    </tr>\n",
       "    <tr>\n",
       "      <th>20</th>\n",
       "      <td>Chhavi Lachman</td>\n",
       "      <td>power bi</td>\n",
       "      <td>1899</td>\n",
       "    </tr>\n",
       "    <tr>\n",
       "      <th>21</th>\n",
       "      <td>Shashank D’Alia</td>\n",
       "      <td>python</td>\n",
       "      <td>2499</td>\n",
       "    </tr>\n",
       "    <tr>\n",
       "      <th>22</th>\n",
       "      <td>Qabeel Raman</td>\n",
       "      <td>sql</td>\n",
       "      <td>3499</td>\n",
       "    </tr>\n",
       "    <tr>\n",
       "      <th>23</th>\n",
       "      <td>Shashank D’Alia</td>\n",
       "      <td>pyspark</td>\n",
       "      <td>2499</td>\n",
       "    </tr>\n",
       "    <tr>\n",
       "      <th>24</th>\n",
       "      <td>Parveen Bhalla</td>\n",
       "      <td>data analysis</td>\n",
       "      <td>4999</td>\n",
       "    </tr>\n",
       "    <tr>\n",
       "      <th>25</th>\n",
       "      <td>Parveen Bhalla</td>\n",
       "      <td>tableau</td>\n",
       "      <td>2499</td>\n",
       "    </tr>\n",
       "    <tr>\n",
       "      <th>26</th>\n",
       "      <td>Elias Dodiya</td>\n",
       "      <td>ms sxcel</td>\n",
       "      <td>1599</td>\n",
       "    </tr>\n",
       "    <tr>\n",
       "      <th>27</th>\n",
       "      <td>Radha Dutt</td>\n",
       "      <td>pyspark</td>\n",
       "      <td>2499</td>\n",
       "    </tr>\n",
       "    <tr>\n",
       "      <th>28</th>\n",
       "      <td>Radha Dutt</td>\n",
       "      <td>python</td>\n",
       "      <td>2499</td>\n",
       "    </tr>\n",
       "    <tr>\n",
       "      <th>29</th>\n",
       "      <td>Pranab Natarajan</td>\n",
       "      <td>plotly</td>\n",
       "      <td>699</td>\n",
       "    </tr>\n",
       "    <tr>\n",
       "      <th>30</th>\n",
       "      <td>Tarun Thaker</td>\n",
       "      <td>ms sxcel</td>\n",
       "      <td>1599</td>\n",
       "    </tr>\n",
       "    <tr>\n",
       "      <th>31</th>\n",
       "      <td>Tarun Thaker</td>\n",
       "      <td>sql</td>\n",
       "      <td>3499</td>\n",
       "    </tr>\n",
       "    <tr>\n",
       "      <th>32</th>\n",
       "      <td>Elias Dodiya</td>\n",
       "      <td>data analysis</td>\n",
       "      <td>4999</td>\n",
       "    </tr>\n",
       "    <tr>\n",
       "      <th>33</th>\n",
       "      <td>Yasmin Palan</td>\n",
       "      <td>pyspark</td>\n",
       "      <td>2499</td>\n",
       "    </tr>\n",
       "    <tr>\n",
       "      <th>34</th>\n",
       "      <td>David Mukhopadhyay</td>\n",
       "      <td>pandas</td>\n",
       "      <td>1099</td>\n",
       "    </tr>\n",
       "    <tr>\n",
       "      <th>35</th>\n",
       "      <td>Pranab Natarajan</td>\n",
       "      <td>power bi</td>\n",
       "      <td>1899</td>\n",
       "    </tr>\n",
       "    <tr>\n",
       "      <th>36</th>\n",
       "      <td>Radha Dutt</td>\n",
       "      <td>tableau</td>\n",
       "      <td>2499</td>\n",
       "    </tr>\n",
       "    <tr>\n",
       "      <th>37</th>\n",
       "      <td>Radha Dutt</td>\n",
       "      <td>ms sxcel</td>\n",
       "      <td>1599</td>\n",
       "    </tr>\n",
       "    <tr>\n",
       "      <th>38</th>\n",
       "      <td>Fardeen Mahabir</td>\n",
       "      <td>pandas</td>\n",
       "      <td>1099</td>\n",
       "    </tr>\n",
       "    <tr>\n",
       "      <th>39</th>\n",
       "      <td>Kailash Harjo</td>\n",
       "      <td>pyspark</td>\n",
       "      <td>2499</td>\n",
       "    </tr>\n",
       "    <tr>\n",
       "      <th>40</th>\n",
       "      <td>Kailash Harjo</td>\n",
       "      <td>plotly</td>\n",
       "      <td>699</td>\n",
       "    </tr>\n",
       "    <tr>\n",
       "      <th>41</th>\n",
       "      <td>Esha Butala</td>\n",
       "      <td>tableau</td>\n",
       "      <td>2499</td>\n",
       "    </tr>\n",
       "    <tr>\n",
       "      <th>42</th>\n",
       "      <td>Tarun Thaker</td>\n",
       "      <td>power bi</td>\n",
       "      <td>1899</td>\n",
       "    </tr>\n",
       "    <tr>\n",
       "      <th>43</th>\n",
       "      <td>Yash Sethi</td>\n",
       "      <td>tableau</td>\n",
       "      <td>2499</td>\n",
       "    </tr>\n",
       "    <tr>\n",
       "      <th>44</th>\n",
       "      <td>Yash Sethi</td>\n",
       "      <td>power bi</td>\n",
       "      <td>1899</td>\n",
       "    </tr>\n",
       "    <tr>\n",
       "      <th>45</th>\n",
       "      <td>Chhavi Lachman</td>\n",
       "      <td>plotly</td>\n",
       "      <td>699</td>\n",
       "    </tr>\n",
       "    <tr>\n",
       "      <th>46</th>\n",
       "      <td>Chhavi Lachman</td>\n",
       "      <td>tableau</td>\n",
       "      <td>2499</td>\n",
       "    </tr>\n",
       "    <tr>\n",
       "      <th>47</th>\n",
       "      <td>Pranab Natarajan</td>\n",
       "      <td>machine learning</td>\n",
       "      <td>9999</td>\n",
       "    </tr>\n",
       "    <tr>\n",
       "      <th>48</th>\n",
       "      <td>Pranab Natarajan</td>\n",
       "      <td>python</td>\n",
       "      <td>2499</td>\n",
       "    </tr>\n",
       "    <tr>\n",
       "      <th>49</th>\n",
       "      <td>David Mukhopadhyay</td>\n",
       "      <td>pyspark</td>\n",
       "      <td>2499</td>\n",
       "    </tr>\n",
       "  </tbody>\n",
       "</table>\n",
       "</div>"
      ],
      "text/plain": [
       "                  name       course_name  price\n",
       "0       Chhavi Lachman            python   2499\n",
       "1            Preet Sha           tableau   2499\n",
       "2      Fardeen Mahabir          power bi   1899\n",
       "3       Chhavi Lachman  machine learning   9999\n",
       "4         Elias Dodiya            plotly    699\n",
       "5      Fardeen Mahabir            python   2499\n",
       "6        Kailash Harjo            python   2499\n",
       "7         Tarun Thaker            pandas   1099\n",
       "8           Yash Sethi     data analysis   4999\n",
       "9            Preet Sha            python   2499\n",
       "10        Qabeel Raman  machine learning   9999\n",
       "11       Kailash Harjo          power bi   1899\n",
       "12        Tarun Thaker           pyspark   2499\n",
       "13  David Mukhopadhyay          ms sxcel   1599\n",
       "14      Munni Varghese     data analysis   4999\n",
       "15        Radhika Suri  machine learning   9999\n",
       "16          Seema Kota            python   2499\n",
       "17        Elias Dodiya           tableau   2499\n",
       "18      Chhavi Lachman     data analysis   4999\n",
       "19        Yasmin Palan          ms sxcel   1599\n",
       "20      Chhavi Lachman          power bi   1899\n",
       "21     Shashank D’Alia            python   2499\n",
       "22        Qabeel Raman               sql   3499\n",
       "23     Shashank D’Alia           pyspark   2499\n",
       "24      Parveen Bhalla     data analysis   4999\n",
       "25      Parveen Bhalla           tableau   2499\n",
       "26        Elias Dodiya          ms sxcel   1599\n",
       "27          Radha Dutt           pyspark   2499\n",
       "28          Radha Dutt            python   2499\n",
       "29    Pranab Natarajan            plotly    699\n",
       "30        Tarun Thaker          ms sxcel   1599\n",
       "31        Tarun Thaker               sql   3499\n",
       "32        Elias Dodiya     data analysis   4999\n",
       "33        Yasmin Palan           pyspark   2499\n",
       "34  David Mukhopadhyay            pandas   1099\n",
       "35    Pranab Natarajan          power bi   1899\n",
       "36          Radha Dutt           tableau   2499\n",
       "37          Radha Dutt          ms sxcel   1599\n",
       "38     Fardeen Mahabir            pandas   1099\n",
       "39       Kailash Harjo           pyspark   2499\n",
       "40       Kailash Harjo            plotly    699\n",
       "41         Esha Butala           tableau   2499\n",
       "42        Tarun Thaker          power bi   1899\n",
       "43          Yash Sethi           tableau   2499\n",
       "44          Yash Sethi          power bi   1899\n",
       "45      Chhavi Lachman            plotly    699\n",
       "46      Chhavi Lachman           tableau   2499\n",
       "47    Pranab Natarajan  machine learning   9999\n",
       "48    Pranab Natarajan            python   2499\n",
       "49  David Mukhopadhyay           pyspark   2499"
      ]
     },
     "execution_count": 16,
     "metadata": {},
     "output_type": "execute_result"
    }
   ],
   "source": [
    "multi.merge(stu,on='student_id').merge(cou,on='course_id').reset_index()[['name','course_name','price']]"
   ]
  },
  {
   "cell_type": "markdown",
   "id": "595b39a0",
   "metadata": {},
   "source": [
    "find course per revenu generated"
   ]
  },
  {
   "cell_type": "code",
   "execution_count": 17,
   "id": "5d697327",
   "metadata": {},
   "outputs": [
    {
     "data": {
      "application/vnd.microsoft.datawrangler.viewer.v0+json": {
       "columns": [
        {
         "name": "course_name",
         "rawType": "object",
         "type": "string"
        },
        {
         "name": "price",
         "rawType": "int64",
         "type": "integer"
        }
       ],
       "ref": "15fe3b4a-00f4-45ff-8005-e3b395ae6e9e",
       "rows": [
        [
         "data analysis",
         "24995"
        ],
        [
         "machine learning",
         "39996"
        ],
        [
         "ms sxcel",
         "7995"
        ],
        [
         "pandas",
         "4396"
        ],
        [
         "plotly",
         "3495"
        ],
        [
         "power bi",
         "11394"
        ],
        [
         "pyspark",
         "14994"
        ],
        [
         "python",
         "22491"
        ],
        [
         "sql",
         "6998"
        ],
        [
         "tableau",
         "17493"
        ]
       ],
       "shape": {
        "columns": 1,
        "rows": 10
       }
      },
      "text/plain": [
       "course_name\n",
       "data analysis       24995\n",
       "machine learning    39996\n",
       "ms sxcel             7995\n",
       "pandas               4396\n",
       "plotly               3495\n",
       "power bi            11394\n",
       "pyspark             14994\n",
       "python              22491\n",
       "sql                  6998\n",
       "tableau             17493\n",
       "Name: price, dtype: int64"
      ]
     },
     "execution_count": 17,
     "metadata": {},
     "output_type": "execute_result"
    }
   ],
   "source": [
    "multi.merge(cou,on='course_id').groupby('course_name')['price'].sum()"
   ]
  },
  {
   "cell_type": "code",
   "execution_count": 18,
   "id": "d7477b82",
   "metadata": {},
   "outputs": [
    {
     "data": {
      "text/plain": [
       "<Axes: xlabel='course_name'>"
      ]
     },
     "execution_count": 18,
     "metadata": {},
     "output_type": "execute_result"
    },
    {
     "data": {
      "image/png": "[encoded data removed]",
      "text/plain": [
       "<Figure size 640x480 with 1 Axes>"
      ]
     },
     "metadata": {},
     "output_type": "display_data"
    }
   ],
   "source": [
    "multi.merge(cou,on='course_id').groupby('course_name')['price'].sum().plot(kind='bar')"
   ]
  },
  {
   "cell_type": "markdown",
   "id": "3b3fa02d",
   "metadata": {},
   "source": [
    "find the student who entrolled in both the month"
   ]
  },
  {
   "cell_type": "code",
   "execution_count": 19,
   "id": "c14119c9",
   "metadata": {},
   "outputs": [],
   "source": [
    "both = np.intersect1d(dec['student_id'],nov['student_id'])"
   ]
  },
  {
   "cell_type": "code",
   "execution_count": 20,
   "id": "a5cb7df1",
   "metadata": {},
   "outputs": [
    {
     "data": {
      "text/plain": [
       "array([ 1,  3,  7, 11, 16, 17, 18, 22, 23])"
      ]
     },
     "execution_count": 20,
     "metadata": {},
     "output_type": "execute_result"
    }
   ],
   "source": [
    "both"
   ]
  },
  {
   "cell_type": "code",
   "execution_count": 21,
   "id": "a4ff927f",
   "metadata": {},
   "outputs": [
    {
     "data": {
      "application/vnd.microsoft.datawrangler.viewer.v0+json": {
       "columns": [
        {
         "name": "index",
         "rawType": "int64",
         "type": "integer"
        },
        {
         "name": "student_id",
         "rawType": "int64",
         "type": "integer"
        },
        {
         "name": "name",
         "rawType": "object",
         "type": "string"
        },
        {
         "name": "partner",
         "rawType": "int64",
         "type": "integer"
        }
       ],
       "ref": "47d128ce-2bff-4f91-b284-b57ae1b09465",
       "rows": [
        [
         "0",
         "1",
         "Kailash Harjo",
         "23"
        ],
        [
         "2",
         "3",
         "Parveen Bhalla",
         "3"
        ],
        [
         "6",
         "7",
         "Tarun Thaker",
         "9"
        ],
        [
         "10",
         "11",
         "David Mukhopadhyay",
         "20"
        ],
        [
         "15",
         "16",
         "Elias Dodiya",
         "25"
        ],
        [
         "16",
         "17",
         "Yasmin Palan",
         "7"
        ],
        [
         "17",
         "18",
         "Fardeen Mahabir",
         "13"
        ],
        [
         "21",
         "22",
         "Yash Sethi",
         "21"
        ],
        [
         "22",
         "23",
         "Chhavi Lachman",
         "18"
        ]
       ],
       "shape": {
        "columns": 3,
        "rows": 9
       }
      },
      "text/html": [
       "<div>\n",
       "<style scoped>\n",
       "    .dataframe tbody tr th:only-of-type {\n",
       "        vertical-align: middle;\n",
       "    }\n",
       "\n",
       "    .dataframe tbody tr th {\n",
       "        vertical-align: top;\n",
       "    }\n",
       "\n",
       "    .dataframe thead th {\n",
       "        text-align: right;\n",
       "    }\n",
       "</style>\n",
       "<table border=\"1\" class=\"dataframe\">\n",
       "  <thead>\n",
       "    <tr style=\"text-align: right;\">\n",
       "      <th></th>\n",
       "      <th>student_id</th>\n",
       "      <th>name</th>\n",
       "      <th>partner</th>\n",
       "    </tr>\n",
       "  </thead>\n",
       "  <tbody>\n",
       "    <tr>\n",
       "      <th>0</th>\n",
       "      <td>1</td>\n",
       "      <td>Kailash Harjo</td>\n",
       "      <td>23</td>\n",
       "    </tr>\n",
       "    <tr>\n",
       "      <th>2</th>\n",
       "      <td>3</td>\n",
       "      <td>Parveen Bhalla</td>\n",
       "      <td>3</td>\n",
       "    </tr>\n",
       "    <tr>\n",
       "      <th>6</th>\n",
       "      <td>7</td>\n",
       "      <td>Tarun Thaker</td>\n",
       "      <td>9</td>\n",
       "    </tr>\n",
       "    <tr>\n",
       "      <th>10</th>\n",
       "      <td>11</td>\n",
       "      <td>David Mukhopadhyay</td>\n",
       "      <td>20</td>\n",
       "    </tr>\n",
       "    <tr>\n",
       "      <th>15</th>\n",
       "      <td>16</td>\n",
       "      <td>Elias Dodiya</td>\n",
       "      <td>25</td>\n",
       "    </tr>\n",
       "    <tr>\n",
       "      <th>16</th>\n",
       "      <td>17</td>\n",
       "      <td>Yasmin Palan</td>\n",
       "      <td>7</td>\n",
       "    </tr>\n",
       "    <tr>\n",
       "      <th>17</th>\n",
       "      <td>18</td>\n",
       "      <td>Fardeen Mahabir</td>\n",
       "      <td>13</td>\n",
       "    </tr>\n",
       "    <tr>\n",
       "      <th>21</th>\n",
       "      <td>22</td>\n",
       "      <td>Yash Sethi</td>\n",
       "      <td>21</td>\n",
       "    </tr>\n",
       "    <tr>\n",
       "      <th>22</th>\n",
       "      <td>23</td>\n",
       "      <td>Chhavi Lachman</td>\n",
       "      <td>18</td>\n",
       "    </tr>\n",
       "  </tbody>\n",
       "</table>\n",
       "</div>"
      ],
      "text/plain": [
       "    student_id                name  partner\n",
       "0            1       Kailash Harjo       23\n",
       "2            3      Parveen Bhalla        3\n",
       "6            7        Tarun Thaker        9\n",
       "10          11  David Mukhopadhyay       20\n",
       "15          16        Elias Dodiya       25\n",
       "16          17        Yasmin Palan        7\n",
       "17          18     Fardeen Mahabir       13\n",
       "21          22          Yash Sethi       21\n",
       "22          23      Chhavi Lachman       18"
      ]
     },
     "execution_count": 21,
     "metadata": {},
     "output_type": "execute_result"
    }
   ],
   "source": [
    "stu[stu['student_id'].isin(both)]"
   ]
  },
  {
   "cell_type": "markdown",
   "id": "9ac7ae58",
   "metadata": {},
   "source": [
    "find course where not studenet enrooled"
   ]
  },
  {
   "cell_type": "code",
   "execution_count": 22,
   "id": "bb0c5fcf",
   "metadata": {},
   "outputs": [],
   "source": [
    "diff =np.setdiff1d(cou['course_id'],multi['course_id'])\n"
   ]
  },
  {
   "cell_type": "code",
   "execution_count": 23,
   "id": "f443474e",
   "metadata": {},
   "outputs": [
    {
     "data": {
      "text/plain": [
       "array([11, 12])"
      ]
     },
     "execution_count": 23,
     "metadata": {},
     "output_type": "execute_result"
    }
   ],
   "source": [
    "diff"
   ]
  },
  {
   "cell_type": "code",
   "execution_count": 24,
   "id": "a1ed031c",
   "metadata": {},
   "outputs": [
    {
     "data": {
      "application/vnd.microsoft.datawrangler.viewer.v0+json": {
       "columns": [
        {
         "name": "index",
         "rawType": "int64",
         "type": "integer"
        },
        {
         "name": "course_id",
         "rawType": "int64",
         "type": "integer"
        },
        {
         "name": "course_name",
         "rawType": "object",
         "type": "string"
        },
        {
         "name": "price",
         "rawType": "int64",
         "type": "integer"
        }
       ],
       "ref": "659d318b-5be7-49a1-a1d0-46ad9c18ebd0",
       "rows": [
        [
         "10",
         "11",
         "Numpy",
         "699"
        ],
        [
         "11",
         "12",
         "C++",
         "1299"
        ]
       ],
       "shape": {
        "columns": 3,
        "rows": 2
       }
      },
      "text/html": [
       "<div>\n",
       "<style scoped>\n",
       "    .dataframe tbody tr th:only-of-type {\n",
       "        vertical-align: middle;\n",
       "    }\n",
       "\n",
       "    .dataframe tbody tr th {\n",
       "        vertical-align: top;\n",
       "    }\n",
       "\n",
       "    .dataframe thead th {\n",
       "        text-align: right;\n",
       "    }\n",
       "</style>\n",
       "<table border=\"1\" class=\"dataframe\">\n",
       "  <thead>\n",
       "    <tr style=\"text-align: right;\">\n",
       "      <th></th>\n",
       "      <th>course_id</th>\n",
       "      <th>course_name</th>\n",
       "      <th>price</th>\n",
       "    </tr>\n",
       "  </thead>\n",
       "  <tbody>\n",
       "    <tr>\n",
       "      <th>10</th>\n",
       "      <td>11</td>\n",
       "      <td>Numpy</td>\n",
       "      <td>699</td>\n",
       "    </tr>\n",
       "    <tr>\n",
       "      <th>11</th>\n",
       "      <td>12</td>\n",
       "      <td>C++</td>\n",
       "      <td>1299</td>\n",
       "    </tr>\n",
       "  </tbody>\n",
       "</table>\n",
       "</div>"
      ],
      "text/plain": [
       "    course_id course_name  price\n",
       "10         11       Numpy    699\n",
       "11         12         C++   1299"
      ]
     },
     "execution_count": 24,
     "metadata": {},
     "output_type": "execute_result"
    }
   ],
   "source": [
    "cou[cou['course_id'].isin(diff)]"
   ]
  },
  {
   "cell_type": "markdown",
   "id": "acc631dd",
   "metadata": {},
   "source": [
    "find the student who not endroll in any course"
   ]
  },
  {
   "cell_type": "code",
   "execution_count": 25,
   "id": "9689d55c",
   "metadata": {},
   "outputs": [],
   "source": [
    "notentro= np.setdiff1d(stu['student_id'],multi['student_id'])"
   ]
  },
  {
   "cell_type": "code",
   "execution_count": 26,
   "id": "a3fede01",
   "metadata": {},
   "outputs": [
    {
     "data": {
      "application/vnd.microsoft.datawrangler.viewer.v0+json": {
       "columns": [
        {
         "name": "index",
         "rawType": "object",
         "type": "string"
        },
        {
         "name": "0",
         "rawType": "int64",
         "type": "integer"
        }
       ],
       "ref": "9e57ec99-ceac-49c6-99de-45bff2732867",
       "rows": [
        [
         "student_id",
         "7"
        ],
        [
         "name",
         "7"
        ],
        [
         "partner",
         "7"
        ]
       ],
       "shape": {
        "columns": 1,
        "rows": 3
       }
      },
      "text/plain": [
       "student_id    7\n",
       "name          7\n",
       "partner       7\n",
       "dtype: int64"
      ]
     },
     "execution_count": 26,
     "metadata": {},
     "output_type": "execute_result"
    }
   ],
   "source": [
    "stu[stu['student_id'].isin(notentro)].count()"
   ]
  },
  {
   "cell_type": "code",
   "execution_count": 27,
   "id": "fe78999c",
   "metadata": {},
   "outputs": [
    {
     "data": {
      "text/plain": [
       "<Axes: >"
      ]
     },
     "execution_count": 27,
     "metadata": {},
     "output_type": "execute_result"
    },
    {
     "data": {
      "image/png": "[encoded data removed]",
      "text/plain": [
       "<Figure size 640x480 with 1 Axes>"
      ]
     },
     "metadata": {},
     "output_type": "display_data"
    }
   ],
   "source": [
    "stu[stu['student_id'].isin(notentro)].plot(kind='area')"
   ]
  },
  {
   "cell_type": "markdown",
   "id": "d80f9124",
   "metadata": {},
   "source": [
    "self join"
   ]
  },
  {
   "cell_type": "code",
   "execution_count": 28,
   "id": "3826a8b2",
   "metadata": {},
   "outputs": [
    {
     "data": {
      "application/vnd.microsoft.datawrangler.viewer.v0+json": {
       "columns": [
        {
         "name": "index",
         "rawType": "int64",
         "type": "integer"
        },
        {
         "name": "student_id",
         "rawType": "int64",
         "type": "integer"
        },
        {
         "name": "name",
         "rawType": "object",
         "type": "string"
        },
        {
         "name": "partner",
         "rawType": "int64",
         "type": "integer"
        }
       ],
       "ref": "7452009e-eaa9-470d-8f41-b14e636bb082",
       "rows": [
        [
         "0",
         "1",
         "Kailash Harjo",
         "23"
        ],
        [
         "1",
         "2",
         "Esha Butala",
         "1"
        ],
        [
         "2",
         "3",
         "Parveen Bhalla",
         "3"
        ],
        [
         "3",
         "4",
         "Marlo Dugal",
         "14"
        ],
        [
         "4",
         "5",
         "Kusum Bahri",
         "6"
        ],
        [
         "5",
         "6",
         "Lakshmi Contractor",
         "10"
        ],
        [
         "6",
         "7",
         "Tarun Thaker",
         "9"
        ],
        [
         "7",
         "8",
         "Radheshyam Dey",
         "5"
        ],
        [
         "8",
         "9",
         "Nitika Chatterjee",
         "4"
        ],
        [
         "9",
         "10",
         "Aayushman Sant",
         "8"
        ],
        [
         "10",
         "11",
         "David Mukhopadhyay",
         "20"
        ],
        [
         "11",
         "12",
         "Radha Dutt",
         "19"
        ],
        [
         "12",
         "13",
         "Munni Varghese",
         "24"
        ],
        [
         "13",
         "14",
         "Pranab Natarajan",
         "22"
        ],
        [
         "14",
         "15",
         "Preet Sha",
         "16"
        ],
        [
         "15",
         "16",
         "Elias Dodiya",
         "25"
        ],
        [
         "16",
         "17",
         "Yasmin Palan",
         "7"
        ],
        [
         "17",
         "18",
         "Fardeen Mahabir",
         "13"
        ],
        [
         "18",
         "19",
         "Qabeel Raman",
         "12"
        ],
        [
         "19",
         "20",
         "Hanuman Hegde",
         "11"
        ],
        [
         "20",
         "21",
         "Seema Kota",
         "15"
        ],
        [
         "21",
         "22",
         "Yash Sethi",
         "21"
        ],
        [
         "22",
         "23",
         "Chhavi Lachman",
         "18"
        ],
        [
         "23",
         "24",
         "Radhika Suri",
         "17"
        ],
        [
         "24",
         "25",
         "Shashank D’Alia",
         "2"
        ]
       ],
       "shape": {
        "columns": 3,
        "rows": 25
       }
      },
      "text/html": [
       "<div>\n",
       "<style scoped>\n",
       "    .dataframe tbody tr th:only-of-type {\n",
       "        vertical-align: middle;\n",
       "    }\n",
       "\n",
       "    .dataframe tbody tr th {\n",
       "        vertical-align: top;\n",
       "    }\n",
       "\n",
       "    .dataframe thead th {\n",
       "        text-align: right;\n",
       "    }\n",
       "</style>\n",
       "<table border=\"1\" class=\"dataframe\">\n",
       "  <thead>\n",
       "    <tr style=\"text-align: right;\">\n",
       "      <th></th>\n",
       "      <th>student_id</th>\n",
       "      <th>name</th>\n",
       "      <th>partner</th>\n",
       "    </tr>\n",
       "  </thead>\n",
       "  <tbody>\n",
       "    <tr>\n",
       "      <th>0</th>\n",
       "      <td>1</td>\n",
       "      <td>Kailash Harjo</td>\n",
       "      <td>23</td>\n",
       "    </tr>\n",
       "    <tr>\n",
       "      <th>1</th>\n",
       "      <td>2</td>\n",
       "      <td>Esha Butala</td>\n",
       "      <td>1</td>\n",
       "    </tr>\n",
       "    <tr>\n",
       "      <th>2</th>\n",
       "      <td>3</td>\n",
       "      <td>Parveen Bhalla</td>\n",
       "      <td>3</td>\n",
       "    </tr>\n",
       "    <tr>\n",
       "      <th>3</th>\n",
       "      <td>4</td>\n",
       "      <td>Marlo Dugal</td>\n",
       "      <td>14</td>\n",
       "    </tr>\n",
       "    <tr>\n",
       "      <th>4</th>\n",
       "      <td>5</td>\n",
       "      <td>Kusum Bahri</td>\n",
       "      <td>6</td>\n",
       "    </tr>\n",
       "    <tr>\n",
       "      <th>5</th>\n",
       "      <td>6</td>\n",
       "      <td>Lakshmi Contractor</td>\n",
       "      <td>10</td>\n",
       "    </tr>\n",
       "    <tr>\n",
       "      <th>6</th>\n",
       "      <td>7</td>\n",
       "      <td>Tarun Thaker</td>\n",
       "      <td>9</td>\n",
       "    </tr>\n",
       "    <tr>\n",
       "      <th>7</th>\n",
       "      <td>8</td>\n",
       "      <td>Radheshyam Dey</td>\n",
       "      <td>5</td>\n",
       "    </tr>\n",
       "    <tr>\n",
       "      <th>8</th>\n",
       "      <td>9</td>\n",
       "      <td>Nitika Chatterjee</td>\n",
       "      <td>4</td>\n",
       "    </tr>\n",
       "    <tr>\n",
       "      <th>9</th>\n",
       "      <td>10</td>\n",
       "      <td>Aayushman Sant</td>\n",
       "      <td>8</td>\n",
       "    </tr>\n",
       "    <tr>\n",
       "      <th>10</th>\n",
       "      <td>11</td>\n",
       "      <td>David Mukhopadhyay</td>\n",
       "      <td>20</td>\n",
       "    </tr>\n",
       "    <tr>\n",
       "      <th>11</th>\n",
       "      <td>12</td>\n",
       "      <td>Radha Dutt</td>\n",
       "      <td>19</td>\n",
       "    </tr>\n",
       "    <tr>\n",
       "      <th>12</th>\n",
       "      <td>13</td>\n",
       "      <td>Munni Varghese</td>\n",
       "      <td>24</td>\n",
       "    </tr>\n",
       "    <tr>\n",
       "      <th>13</th>\n",
       "      <td>14</td>\n",
       "      <td>Pranab Natarajan</td>\n",
       "      <td>22</td>\n",
       "    </tr>\n",
       "    <tr>\n",
       "      <th>14</th>\n",
       "      <td>15</td>\n",
       "      <td>Preet Sha</td>\n",
       "      <td>16</td>\n",
       "    </tr>\n",
       "    <tr>\n",
       "      <th>15</th>\n",
       "      <td>16</td>\n",
       "      <td>Elias Dodiya</td>\n",
       "      <td>25</td>\n",
       "    </tr>\n",
       "    <tr>\n",
       "      <th>16</th>\n",
       "      <td>17</td>\n",
       "      <td>Yasmin Palan</td>\n",
       "      <td>7</td>\n",
       "    </tr>\n",
       "    <tr>\n",
       "      <th>17</th>\n",
       "      <td>18</td>\n",
       "      <td>Fardeen Mahabir</td>\n",
       "      <td>13</td>\n",
       "    </tr>\n",
       "    <tr>\n",
       "      <th>18</th>\n",
       "      <td>19</td>\n",
       "      <td>Qabeel Raman</td>\n",
       "      <td>12</td>\n",
       "    </tr>\n",
       "    <tr>\n",
       "      <th>19</th>\n",
       "      <td>20</td>\n",
       "      <td>Hanuman Hegde</td>\n",
       "      <td>11</td>\n",
       "    </tr>\n",
       "    <tr>\n",
       "      <th>20</th>\n",
       "      <td>21</td>\n",
       "      <td>Seema Kota</td>\n",
       "      <td>15</td>\n",
       "    </tr>\n",
       "    <tr>\n",
       "      <th>21</th>\n",
       "      <td>22</td>\n",
       "      <td>Yash Sethi</td>\n",
       "      <td>21</td>\n",
       "    </tr>\n",
       "    <tr>\n",
       "      <th>22</th>\n",
       "      <td>23</td>\n",
       "      <td>Chhavi Lachman</td>\n",
       "      <td>18</td>\n",
       "    </tr>\n",
       "    <tr>\n",
       "      <th>23</th>\n",
       "      <td>24</td>\n",
       "      <td>Radhika Suri</td>\n",
       "      <td>17</td>\n",
       "    </tr>\n",
       "    <tr>\n",
       "      <th>24</th>\n",
       "      <td>25</td>\n",
       "      <td>Shashank D’Alia</td>\n",
       "      <td>2</td>\n",
       "    </tr>\n",
       "  </tbody>\n",
       "</table>\n",
       "</div>"
      ],
      "text/plain": [
       "    student_id                name  partner\n",
       "0            1       Kailash Harjo       23\n",
       "1            2         Esha Butala        1\n",
       "2            3      Parveen Bhalla        3\n",
       "3            4         Marlo Dugal       14\n",
       "4            5         Kusum Bahri        6\n",
       "5            6  Lakshmi Contractor       10\n",
       "6            7        Tarun Thaker        9\n",
       "7            8      Radheshyam Dey        5\n",
       "8            9   Nitika Chatterjee        4\n",
       "9           10      Aayushman Sant        8\n",
       "10          11  David Mukhopadhyay       20\n",
       "11          12          Radha Dutt       19\n",
       "12          13      Munni Varghese       24\n",
       "13          14    Pranab Natarajan       22\n",
       "14          15           Preet Sha       16\n",
       "15          16        Elias Dodiya       25\n",
       "16          17        Yasmin Palan        7\n",
       "17          18     Fardeen Mahabir       13\n",
       "18          19        Qabeel Raman       12\n",
       "19          20       Hanuman Hegde       11\n",
       "20          21          Seema Kota       15\n",
       "21          22          Yash Sethi       21\n",
       "22          23      Chhavi Lachman       18\n",
       "23          24        Radhika Suri       17\n",
       "24          25     Shashank D’Alia        2"
      ]
     },
     "execution_count": 28,
     "metadata": {},
     "output_type": "execute_result"
    }
   ],
   "source": [
    "stu"
   ]
  },
  {
   "cell_type": "code",
   "execution_count": 29,
   "id": "35171c31",
   "metadata": {},
   "outputs": [
    {
     "data": {
      "application/vnd.microsoft.datawrangler.viewer.v0+json": {
       "columns": [
        {
         "name": "index",
         "rawType": "int64",
         "type": "integer"
        },
        {
         "name": "name_x",
         "rawType": "object",
         "type": "string"
        },
        {
         "name": "name_y",
         "rawType": "object",
         "type": "string"
        }
       ],
       "ref": "15f757d4-eca2-4285-a2a2-2f44b4943879",
       "rows": [
        [
         "0",
         "Kailash Harjo",
         "Chhavi Lachman"
        ],
        [
         "1",
         "Esha Butala",
         "Kailash Harjo"
        ],
        [
         "2",
         "Parveen Bhalla",
         "Parveen Bhalla"
        ],
        [
         "3",
         "Marlo Dugal",
         "Pranab Natarajan"
        ],
        [
         "4",
         "Kusum Bahri",
         "Lakshmi Contractor"
        ],
        [
         "5",
         "Lakshmi Contractor",
         "Aayushman Sant"
        ],
        [
         "6",
         "Tarun Thaker",
         "Nitika Chatterjee"
        ],
        [
         "7",
         "Radheshyam Dey",
         "Kusum Bahri"
        ],
        [
         "8",
         "Nitika Chatterjee",
         "Marlo Dugal"
        ],
        [
         "9",
         "Aayushman Sant",
         "Radheshyam Dey"
        ],
        [
         "10",
         "David Mukhopadhyay",
         "Hanuman Hegde"
        ],
        [
         "11",
         "Radha Dutt",
         "Qabeel Raman"
        ],
        [
         "12",
         "Munni Varghese",
         "Radhika Suri"
        ],
        [
         "13",
         "Pranab Natarajan",
         "Yash Sethi"
        ],
        [
         "14",
         "Preet Sha",
         "Elias Dodiya"
        ],
        [
         "15",
         "Elias Dodiya",
         "Shashank D’Alia"
        ],
        [
         "16",
         "Yasmin Palan",
         "Tarun Thaker"
        ],
        [
         "17",
         "Fardeen Mahabir",
         "Munni Varghese"
        ],
        [
         "18",
         "Qabeel Raman",
         "Radha Dutt"
        ],
        [
         "19",
         "Hanuman Hegde",
         "David Mukhopadhyay"
        ],
        [
         "20",
         "Seema Kota",
         "Preet Sha"
        ],
        [
         "21",
         "Yash Sethi",
         "Seema Kota"
        ],
        [
         "22",
         "Chhavi Lachman",
         "Fardeen Mahabir"
        ],
        [
         "23",
         "Radhika Suri",
         "Yasmin Palan"
        ],
        [
         "24",
         "Shashank D’Alia",
         "Esha Butala"
        ]
       ],
       "shape": {
        "columns": 2,
        "rows": 25
       }
      },
      "text/html": [
       "<div>\n",
       "<style scoped>\n",
       "    .dataframe tbody tr th:only-of-type {\n",
       "        vertical-align: middle;\n",
       "    }\n",
       "\n",
       "    .dataframe tbody tr th {\n",
       "        vertical-align: top;\n",
       "    }\n",
       "\n",
       "    .dataframe thead th {\n",
       "        text-align: right;\n",
       "    }\n",
       "</style>\n",
       "<table border=\"1\" class=\"dataframe\">\n",
       "  <thead>\n",
       "    <tr style=\"text-align: right;\">\n",
       "      <th></th>\n",
       "      <th>name_x</th>\n",
       "      <th>name_y</th>\n",
       "    </tr>\n",
       "  </thead>\n",
       "  <tbody>\n",
       "    <tr>\n",
       "      <th>0</th>\n",
       "      <td>Kailash Harjo</td>\n",
       "      <td>Chhavi Lachman</td>\n",
       "    </tr>\n",
       "    <tr>\n",
       "      <th>1</th>\n",
       "      <td>Esha Butala</td>\n",
       "      <td>Kailash Harjo</td>\n",
       "    </tr>\n",
       "    <tr>\n",
       "      <th>2</th>\n",
       "      <td>Parveen Bhalla</td>\n",
       "      <td>Parveen Bhalla</td>\n",
       "    </tr>\n",
       "    <tr>\n",
       "      <th>3</th>\n",
       "      <td>Marlo Dugal</td>\n",
       "      <td>Pranab Natarajan</td>\n",
       "    </tr>\n",
       "    <tr>\n",
       "      <th>4</th>\n",
       "      <td>Kusum Bahri</td>\n",
       "      <td>Lakshmi Contractor</td>\n",
       "    </tr>\n",
       "    <tr>\n",
       "      <th>5</th>\n",
       "      <td>Lakshmi Contractor</td>\n",
       "      <td>Aayushman Sant</td>\n",
       "    </tr>\n",
       "    <tr>\n",
       "      <th>6</th>\n",
       "      <td>Tarun Thaker</td>\n",
       "      <td>Nitika Chatterjee</td>\n",
       "    </tr>\n",
       "    <tr>\n",
       "      <th>7</th>\n",
       "      <td>Radheshyam Dey</td>\n",
       "      <td>Kusum Bahri</td>\n",
       "    </tr>\n",
       "    <tr>\n",
       "      <th>8</th>\n",
       "      <td>Nitika Chatterjee</td>\n",
       "      <td>Marlo Dugal</td>\n",
       "    </tr>\n",
       "    <tr>\n",
       "      <th>9</th>\n",
       "      <td>Aayushman Sant</td>\n",
       "      <td>Radheshyam Dey</td>\n",
       "    </tr>\n",
       "    <tr>\n",
       "      <th>10</th>\n",
       "      <td>David Mukhopadhyay</td>\n",
       "      <td>Hanuman Hegde</td>\n",
       "    </tr>\n",
       "    <tr>\n",
       "      <th>11</th>\n",
       "      <td>Radha Dutt</td>\n",
       "      <td>Qabeel Raman</td>\n",
       "    </tr>\n",
       "    <tr>\n",
       "      <th>12</th>\n",
       "      <td>Munni Varghese</td>\n",
       "      <td>Radhika Suri</td>\n",
       "    </tr>\n",
       "    <tr>\n",
       "      <th>13</th>\n",
       "      <td>Pranab Natarajan</td>\n",
       "      <td>Yash Sethi</td>\n",
       "    </tr>\n",
       "    <tr>\n",
       "      <th>14</th>\n",
       "      <td>Preet Sha</td>\n",
       "      <td>Elias Dodiya</td>\n",
       "    </tr>\n",
       "    <tr>\n",
       "      <th>15</th>\n",
       "      <td>Elias Dodiya</td>\n",
       "      <td>Shashank D’Alia</td>\n",
       "    </tr>\n",
       "    <tr>\n",
       "      <th>16</th>\n",
       "      <td>Yasmin Palan</td>\n",
       "      <td>Tarun Thaker</td>\n",
       "    </tr>\n",
       "    <tr>\n",
       "      <th>17</th>\n",
       "      <td>Fardeen Mahabir</td>\n",
       "      <td>Munni Varghese</td>\n",
       "    </tr>\n",
       "    <tr>\n",
       "      <th>18</th>\n",
       "      <td>Qabeel Raman</td>\n",
       "      <td>Radha Dutt</td>\n",
       "    </tr>\n",
       "    <tr>\n",
       "      <th>19</th>\n",
       "      <td>Hanuman Hegde</td>\n",
       "      <td>David Mukhopadhyay</td>\n",
       "    </tr>\n",
       "    <tr>\n",
       "      <th>20</th>\n",
       "      <td>Seema Kota</td>\n",
       "      <td>Preet Sha</td>\n",
       "    </tr>\n",
       "    <tr>\n",
       "      <th>21</th>\n",
       "      <td>Yash Sethi</td>\n",
       "      <td>Seema Kota</td>\n",
       "    </tr>\n",
       "    <tr>\n",
       "      <th>22</th>\n",
       "      <td>Chhavi Lachman</td>\n",
       "      <td>Fardeen Mahabir</td>\n",
       "    </tr>\n",
       "    <tr>\n",
       "      <th>23</th>\n",
       "      <td>Radhika Suri</td>\n",
       "      <td>Yasmin Palan</td>\n",
       "    </tr>\n",
       "    <tr>\n",
       "      <th>24</th>\n",
       "      <td>Shashank D’Alia</td>\n",
       "      <td>Esha Butala</td>\n",
       "    </tr>\n",
       "  </tbody>\n",
       "</table>\n",
       "</div>"
      ],
      "text/plain": [
       "                name_x              name_y\n",
       "0        Kailash Harjo      Chhavi Lachman\n",
       "1          Esha Butala       Kailash Harjo\n",
       "2       Parveen Bhalla      Parveen Bhalla\n",
       "3          Marlo Dugal    Pranab Natarajan\n",
       "4          Kusum Bahri  Lakshmi Contractor\n",
       "5   Lakshmi Contractor      Aayushman Sant\n",
       "6         Tarun Thaker   Nitika Chatterjee\n",
       "7       Radheshyam Dey         Kusum Bahri\n",
       "8    Nitika Chatterjee         Marlo Dugal\n",
       "9       Aayushman Sant      Radheshyam Dey\n",
       "10  David Mukhopadhyay       Hanuman Hegde\n",
       "11          Radha Dutt        Qabeel Raman\n",
       "12      Munni Varghese        Radhika Suri\n",
       "13    Pranab Natarajan          Yash Sethi\n",
       "14           Preet Sha        Elias Dodiya\n",
       "15        Elias Dodiya     Shashank D’Alia\n",
       "16        Yasmin Palan        Tarun Thaker\n",
       "17     Fardeen Mahabir      Munni Varghese\n",
       "18        Qabeel Raman          Radha Dutt\n",
       "19       Hanuman Hegde  David Mukhopadhyay\n",
       "20          Seema Kota           Preet Sha\n",
       "21          Yash Sethi          Seema Kota\n",
       "22      Chhavi Lachman     Fardeen Mahabir\n",
       "23        Radhika Suri        Yasmin Palan\n",
       "24     Shashank D’Alia         Esha Butala"
      ]
     },
     "execution_count": 29,
     "metadata": {},
     "output_type": "execute_result"
    }
   ],
   "source": [
    "stu.merge(stu,how='inner',left_on='partner',right_on='student_id')[['name_x','name_y']]"
   ]
  },
  {
   "cell_type": "markdown",
   "id": "9504d5ef",
   "metadata": {},
   "source": [
    "toop 3 student who did most entrollment"
   ]
  },
  {
   "cell_type": "code",
   "execution_count": 30,
   "id": "dce38f4d",
   "metadata": {},
   "outputs": [
    {
     "data": {
      "application/vnd.microsoft.datawrangler.viewer.v0+json": {
       "columns": [
        {
         "name": "index",
         "rawType": "int64",
         "type": "integer"
        },
        {
         "name": "student_id",
         "rawType": "int64",
         "type": "integer"
        },
        {
         "name": "name",
         "rawType": "object",
         "type": "string"
        },
        {
         "name": "partner",
         "rawType": "int64",
         "type": "integer"
        }
       ],
       "ref": "75c3268e-7d27-45a9-80a9-11972e47f99c",
       "rows": [
        [
         "0",
         "1",
         "Kailash Harjo",
         "23"
        ],
        [
         "1",
         "2",
         "Esha Butala",
         "1"
        ],
        [
         "2",
         "3",
         "Parveen Bhalla",
         "3"
        ],
        [
         "3",
         "4",
         "Marlo Dugal",
         "14"
        ],
        [
         "4",
         "5",
         "Kusum Bahri",
         "6"
        ],
        [
         "5",
         "6",
         "Lakshmi Contractor",
         "10"
        ],
        [
         "6",
         "7",
         "Tarun Thaker",
         "9"
        ],
        [
         "7",
         "8",
         "Radheshyam Dey",
         "5"
        ],
        [
         "8",
         "9",
         "Nitika Chatterjee",
         "4"
        ],
        [
         "9",
         "10",
         "Aayushman Sant",
         "8"
        ],
        [
         "10",
         "11",
         "David Mukhopadhyay",
         "20"
        ],
        [
         "11",
         "12",
         "Radha Dutt",
         "19"
        ],
        [
         "12",
         "13",
         "Munni Varghese",
         "24"
        ],
        [
         "13",
         "14",
         "Pranab Natarajan",
         "22"
        ],
        [
         "14",
         "15",
         "Preet Sha",
         "16"
        ],
        [
         "15",
         "16",
         "Elias Dodiya",
         "25"
        ],
        [
         "16",
         "17",
         "Yasmin Palan",
         "7"
        ],
        [
         "17",
         "18",
         "Fardeen Mahabir",
         "13"
        ],
        [
         "18",
         "19",
         "Qabeel Raman",
         "12"
        ],
        [
         "19",
         "20",
         "Hanuman Hegde",
         "11"
        ],
        [
         "20",
         "21",
         "Seema Kota",
         "15"
        ],
        [
         "21",
         "22",
         "Yash Sethi",
         "21"
        ],
        [
         "22",
         "23",
         "Chhavi Lachman",
         "18"
        ],
        [
         "23",
         "24",
         "Radhika Suri",
         "17"
        ],
        [
         "24",
         "25",
         "Shashank D’Alia",
         "2"
        ]
       ],
       "shape": {
        "columns": 3,
        "rows": 25
       }
      },
      "text/html": [
       "<div>\n",
       "<style scoped>\n",
       "    .dataframe tbody tr th:only-of-type {\n",
       "        vertical-align: middle;\n",
       "    }\n",
       "\n",
       "    .dataframe tbody tr th {\n",
       "        vertical-align: top;\n",
       "    }\n",
       "\n",
       "    .dataframe thead th {\n",
       "        text-align: right;\n",
       "    }\n",
       "</style>\n",
       "<table border=\"1\" class=\"dataframe\">\n",
       "  <thead>\n",
       "    <tr style=\"text-align: right;\">\n",
       "      <th></th>\n",
       "      <th>student_id</th>\n",
       "      <th>name</th>\n",
       "      <th>partner</th>\n",
       "    </tr>\n",
       "  </thead>\n",
       "  <tbody>\n",
       "    <tr>\n",
       "      <th>0</th>\n",
       "      <td>1</td>\n",
       "      <td>Kailash Harjo</td>\n",
       "      <td>23</td>\n",
       "    </tr>\n",
       "    <tr>\n",
       "      <th>1</th>\n",
       "      <td>2</td>\n",
       "      <td>Esha Butala</td>\n",
       "      <td>1</td>\n",
       "    </tr>\n",
       "    <tr>\n",
       "      <th>2</th>\n",
       "      <td>3</td>\n",
       "      <td>Parveen Bhalla</td>\n",
       "      <td>3</td>\n",
       "    </tr>\n",
       "    <tr>\n",
       "      <th>3</th>\n",
       "      <td>4</td>\n",
       "      <td>Marlo Dugal</td>\n",
       "      <td>14</td>\n",
       "    </tr>\n",
       "    <tr>\n",
       "      <th>4</th>\n",
       "      <td>5</td>\n",
       "      <td>Kusum Bahri</td>\n",
       "      <td>6</td>\n",
       "    </tr>\n",
       "    <tr>\n",
       "      <th>5</th>\n",
       "      <td>6</td>\n",
       "      <td>Lakshmi Contractor</td>\n",
       "      <td>10</td>\n",
       "    </tr>\n",
       "    <tr>\n",
       "      <th>6</th>\n",
       "      <td>7</td>\n",
       "      <td>Tarun Thaker</td>\n",
       "      <td>9</td>\n",
       "    </tr>\n",
       "    <tr>\n",
       "      <th>7</th>\n",
       "      <td>8</td>\n",
       "      <td>Radheshyam Dey</td>\n",
       "      <td>5</td>\n",
       "    </tr>\n",
       "    <tr>\n",
       "      <th>8</th>\n",
       "      <td>9</td>\n",
       "      <td>Nitika Chatterjee</td>\n",
       "      <td>4</td>\n",
       "    </tr>\n",
       "    <tr>\n",
       "      <th>9</th>\n",
       "      <td>10</td>\n",
       "      <td>Aayushman Sant</td>\n",
       "      <td>8</td>\n",
       "    </tr>\n",
       "    <tr>\n",
       "      <th>10</th>\n",
       "      <td>11</td>\n",
       "      <td>David Mukhopadhyay</td>\n",
       "      <td>20</td>\n",
       "    </tr>\n",
       "    <tr>\n",
       "      <th>11</th>\n",
       "      <td>12</td>\n",
       "      <td>Radha Dutt</td>\n",
       "      <td>19</td>\n",
       "    </tr>\n",
       "    <tr>\n",
       "      <th>12</th>\n",
       "      <td>13</td>\n",
       "      <td>Munni Varghese</td>\n",
       "      <td>24</td>\n",
       "    </tr>\n",
       "    <tr>\n",
       "      <th>13</th>\n",
       "      <td>14</td>\n",
       "      <td>Pranab Natarajan</td>\n",
       "      <td>22</td>\n",
       "    </tr>\n",
       "    <tr>\n",
       "      <th>14</th>\n",
       "      <td>15</td>\n",
       "      <td>Preet Sha</td>\n",
       "      <td>16</td>\n",
       "    </tr>\n",
       "    <tr>\n",
       "      <th>15</th>\n",
       "      <td>16</td>\n",
       "      <td>Elias Dodiya</td>\n",
       "      <td>25</td>\n",
       "    </tr>\n",
       "    <tr>\n",
       "      <th>16</th>\n",
       "      <td>17</td>\n",
       "      <td>Yasmin Palan</td>\n",
       "      <td>7</td>\n",
       "    </tr>\n",
       "    <tr>\n",
       "      <th>17</th>\n",
       "      <td>18</td>\n",
       "      <td>Fardeen Mahabir</td>\n",
       "      <td>13</td>\n",
       "    </tr>\n",
       "    <tr>\n",
       "      <th>18</th>\n",
       "      <td>19</td>\n",
       "      <td>Qabeel Raman</td>\n",
       "      <td>12</td>\n",
       "    </tr>\n",
       "    <tr>\n",
       "      <th>19</th>\n",
       "      <td>20</td>\n",
       "      <td>Hanuman Hegde</td>\n",
       "      <td>11</td>\n",
       "    </tr>\n",
       "    <tr>\n",
       "      <th>20</th>\n",
       "      <td>21</td>\n",
       "      <td>Seema Kota</td>\n",
       "      <td>15</td>\n",
       "    </tr>\n",
       "    <tr>\n",
       "      <th>21</th>\n",
       "      <td>22</td>\n",
       "      <td>Yash Sethi</td>\n",
       "      <td>21</td>\n",
       "    </tr>\n",
       "    <tr>\n",
       "      <th>22</th>\n",
       "      <td>23</td>\n",
       "      <td>Chhavi Lachman</td>\n",
       "      <td>18</td>\n",
       "    </tr>\n",
       "    <tr>\n",
       "      <th>23</th>\n",
       "      <td>24</td>\n",
       "      <td>Radhika Suri</td>\n",
       "      <td>17</td>\n",
       "    </tr>\n",
       "    <tr>\n",
       "      <th>24</th>\n",
       "      <td>25</td>\n",
       "      <td>Shashank D’Alia</td>\n",
       "      <td>2</td>\n",
       "    </tr>\n",
       "  </tbody>\n",
       "</table>\n",
       "</div>"
      ],
      "text/plain": [
       "    student_id                name  partner\n",
       "0            1       Kailash Harjo       23\n",
       "1            2         Esha Butala        1\n",
       "2            3      Parveen Bhalla        3\n",
       "3            4         Marlo Dugal       14\n",
       "4            5         Kusum Bahri        6\n",
       "5            6  Lakshmi Contractor       10\n",
       "6            7        Tarun Thaker        9\n",
       "7            8      Radheshyam Dey        5\n",
       "8            9   Nitika Chatterjee        4\n",
       "9           10      Aayushman Sant        8\n",
       "10          11  David Mukhopadhyay       20\n",
       "11          12          Radha Dutt       19\n",
       "12          13      Munni Varghese       24\n",
       "13          14    Pranab Natarajan       22\n",
       "14          15           Preet Sha       16\n",
       "15          16        Elias Dodiya       25\n",
       "16          17        Yasmin Palan        7\n",
       "17          18     Fardeen Mahabir       13\n",
       "18          19        Qabeel Raman       12\n",
       "19          20       Hanuman Hegde       11\n",
       "20          21          Seema Kota       15\n",
       "21          22          Yash Sethi       21\n",
       "22          23      Chhavi Lachman       18\n",
       "23          24        Radhika Suri       17\n",
       "24          25     Shashank D’Alia        2"
      ]
     },
     "execution_count": 30,
     "metadata": {},
     "output_type": "execute_result"
    }
   ],
   "source": [
    "stu"
   ]
  },
  {
   "cell_type": "markdown",
   "id": "e927a8e5",
   "metadata": {},
   "source": [
    "top 3 student who did most entrollment"
   ]
  },
  {
   "cell_type": "code",
   "execution_count": 31,
   "id": "cf36dbca",
   "metadata": {},
   "outputs": [],
   "source": [
    "m =multi.merge(stu).groupby(['student_id','name'])['partner'].count().sort_values(ascending=0)"
   ]
  },
  {
   "cell_type": "code",
   "execution_count": 32,
   "id": "a66dc3e4",
   "metadata": {},
   "outputs": [
    {
     "data": {
      "application/vnd.microsoft.datawrangler.viewer.v0+json": {
       "columns": [
        {
         "name": "('student_id', 'name')",
         "rawType": "object",
         "type": "unknown"
        },
        {
         "name": "partner",
         "rawType": "int64",
         "type": "integer"
        }
       ],
       "ref": "11fc245b-a5be-47db-b01d-919403d205f6",
       "rows": [
        [
         "(np.int64(23), 'Chhavi Lachman')",
         "6"
        ],
        [
         "(np.int64(7), 'Tarun Thaker')",
         "5"
        ],
        [
         "(np.int64(14), 'Pranab Natarajan')",
         "4"
        ],
        [
         "(np.int64(1), 'Kailash Harjo')",
         "4"
        ],
        [
         "(np.int64(16), 'Elias Dodiya')",
         "4"
        ]
       ],
       "shape": {
        "columns": 1,
        "rows": 5
       }
      },
      "text/plain": [
       "student_id  name            \n",
       "23          Chhavi Lachman      6\n",
       "7           Tarun Thaker        5\n",
       "14          Pranab Natarajan    4\n",
       "1           Kailash Harjo       4\n",
       "16          Elias Dodiya        4\n",
       "Name: partner, dtype: int64"
      ]
     },
     "execution_count": 32,
     "metadata": {},
     "output_type": "execute_result"
    }
   ],
   "source": [
    "m.head()"
   ]
  },
  {
   "cell_type": "markdown",
   "id": "0867782a",
   "metadata": {},
   "source": [
    "find top 3 student how spent more amount on course"
   ]
  },
  {
   "cell_type": "code",
   "execution_count": 33,
   "id": "3dea0070",
   "metadata": {},
   "outputs": [],
   "source": [
    "spent =multi.merge(stu,on='student_id').merge(cou,on='course_id').groupby(['student_id','name'])['price'].sum()"
   ]
  },
  {
   "cell_type": "code",
   "execution_count": 34,
   "id": "f7312a13",
   "metadata": {},
   "outputs": [
    {
     "data": {
      "application/vnd.microsoft.datawrangler.viewer.v0+json": {
       "columns": [
        {
         "name": "('student_id', 'name')",
         "rawType": "object",
         "type": "unknown"
        },
        {
         "name": "price",
         "rawType": "int64",
         "type": "integer"
        }
       ],
       "ref": "aab3c3e5-b98a-4354-a990-ffb3427db51b",
       "rows": [
        [
         "(np.int64(23), 'Chhavi Lachman')",
         "22594"
        ],
        [
         "(np.int64(14), 'Pranab Natarajan')",
         "15096"
        ],
        [
         "(np.int64(19), 'Qabeel Raman')",
         "13498"
        ],
        [
         "(np.int64(7), 'Tarun Thaker')",
         "10595"
        ],
        [
         "(np.int64(24), 'Radhika Suri')",
         "9999"
        ]
       ],
       "shape": {
        "columns": 1,
        "rows": 5
       }
      },
      "text/plain": [
       "student_id  name            \n",
       "23          Chhavi Lachman      22594\n",
       "14          Pranab Natarajan    15096\n",
       "19          Qabeel Raman        13498\n",
       "7           Tarun Thaker        10595\n",
       "24          Radhika Suri         9999\n",
       "Name: price, dtype: int64"
      ]
     },
     "execution_count": 34,
     "metadata": {},
     "output_type": "execute_result"
    }
   ],
   "source": [
    "spent.sort_values(ascending=0).head(5)"
   ]
  },
  {
   "cell_type": "markdown",
   "id": "2ced38b5",
   "metadata": {},
   "source": [
    "ipl merging and joing question started"
   ]
  },
  {
   "cell_type": "markdown",
   "id": "66707585",
   "metadata": {},
   "source": [
    "six and stadium ratio which stadium have more six in entire match ratio"
   ]
  },
  {
   "cell_type": "code",
   "execution_count": 35,
   "id": "096c6ca9",
   "metadata": {},
   "outputs": [],
   "source": [
    "data  = deli.merge(match,left_on='match_id',right_on='id')"
   ]
  },
  {
   "cell_type": "code",
   "execution_count": 36,
   "id": "4b9db3bc",
   "metadata": {},
   "outputs": [
    {
     "data": {
      "text/plain": [
       "Index(['match_id', 'inning', 'batting_team', 'bowling_team', 'over', 'ball',\n",
       "       'batsman', 'non_striker', 'bowler', 'is_super_over', 'wide_runs',\n",
       "       'bye_runs', 'legbye_runs', 'noball_runs', 'penalty_runs',\n",
       "       'batsman_runs', 'extra_runs', 'total_runs', 'player_dismissed',\n",
       "       'dismissal_kind', 'fielder', 'id', 'season', 'city', 'date', 'team1',\n",
       "       'team2', 'toss_winner', 'toss_decision', 'result', 'dl_applied',\n",
       "       'winner', 'win_by_runs', 'win_by_wickets', 'player_of_match', 'venue',\n",
       "       'umpire1', 'umpire2', 'umpire3'],\n",
       "      dtype='object')"
      ]
     },
     "execution_count": 36,
     "metadata": {},
     "output_type": "execute_result"
    }
   ],
   "source": [
    "data.columns"
   ]
  },
  {
   "cell_type": "code",
   "execution_count": 37,
   "id": "aa6c8db1",
   "metadata": {},
   "outputs": [
    {
     "data": {
      "application/vnd.microsoft.datawrangler.viewer.v0+json": {
       "columns": [
        {
         "name": "index",
         "rawType": "int64",
         "type": "integer"
        },
        {
         "name": "player_dismissed",
         "rawType": "object",
         "type": "unknown"
        }
       ],
       "ref": "dbc0947a-1f72-4ac1-8b08-204bcf041f48",
       "rows": [
        [
         "0",
         null
        ]
       ],
       "shape": {
        "columns": 1,
        "rows": 1
       }
      },
      "text/html": [
       "<div>\n",
       "<style scoped>\n",
       "    .dataframe tbody tr th:only-of-type {\n",
       "        vertical-align: middle;\n",
       "    }\n",
       "\n",
       "    .dataframe tbody tr th {\n",
       "        vertical-align: top;\n",
       "    }\n",
       "\n",
       "    .dataframe thead th {\n",
       "        text-align: right;\n",
       "    }\n",
       "</style>\n",
       "<table border=\"1\" class=\"dataframe\">\n",
       "  <thead>\n",
       "    <tr style=\"text-align: right;\">\n",
       "      <th></th>\n",
       "      <th>player_dismissed</th>\n",
       "    </tr>\n",
       "  </thead>\n",
       "  <tbody>\n",
       "    <tr>\n",
       "      <th>0</th>\n",
       "      <td>NaN</td>\n",
       "    </tr>\n",
       "  </tbody>\n",
       "</table>\n",
       "</div>"
      ],
      "text/plain": [
       "  player_dismissed\n",
       "0              NaN"
      ]
     },
     "execution_count": 37,
     "metadata": {},
     "output_type": "execute_result"
    }
   ],
   "source": [
    "data.loc[:,['player_dismissed']].head(1)"
   ]
  },
  {
   "cell_type": "code",
   "execution_count": 38,
   "id": "c4e68044",
   "metadata": {},
   "outputs": [
    {
     "data": {
      "text/plain": [
       "(150460, 39)"
      ]
     },
     "execution_count": 38,
     "metadata": {},
     "output_type": "execute_result"
    }
   ],
   "source": [
    "data.shape"
   ]
  },
  {
   "cell_type": "code",
   "execution_count": 39,
   "id": "ce000963",
   "metadata": {},
   "outputs": [
    {
     "data": {
      "application/vnd.microsoft.datawrangler.viewer.v0+json": {
       "columns": [
        {
         "name": "index",
         "rawType": "int64",
         "type": "integer"
        },
        {
         "name": "match_id",
         "rawType": "int64",
         "type": "integer"
        },
        {
         "name": "inning",
         "rawType": "int64",
         "type": "integer"
        },
        {
         "name": "batting_team",
         "rawType": "object",
         "type": "string"
        },
        {
         "name": "bowling_team",
         "rawType": "object",
         "type": "string"
        },
        {
         "name": "over",
         "rawType": "int64",
         "type": "integer"
        },
        {
         "name": "ball",
         "rawType": "int64",
         "type": "integer"
        },
        {
         "name": "batsman",
         "rawType": "object",
         "type": "string"
        },
        {
         "name": "non_striker",
         "rawType": "object",
         "type": "string"
        },
        {
         "name": "bowler",
         "rawType": "object",
         "type": "string"
        },
        {
         "name": "is_super_over",
         "rawType": "int64",
         "type": "integer"
        },
        {
         "name": "wide_runs",
         "rawType": "int64",
         "type": "integer"
        },
        {
         "name": "bye_runs",
         "rawType": "int64",
         "type": "integer"
        },
        {
         "name": "legbye_runs",
         "rawType": "int64",
         "type": "integer"
        },
        {
         "name": "noball_runs",
         "rawType": "int64",
         "type": "integer"
        },
        {
         "name": "penalty_runs",
         "rawType": "int64",
         "type": "integer"
        },
        {
         "name": "batsman_runs",
         "rawType": "int64",
         "type": "integer"
        },
        {
         "name": "extra_runs",
         "rawType": "int64",
         "type": "integer"
        },
        {
         "name": "total_runs",
         "rawType": "int64",
         "type": "integer"
        },
        {
         "name": "player_dismissed",
         "rawType": "object",
         "type": "unknown"
        },
        {
         "name": "dismissal_kind",
         "rawType": "object",
         "type": "unknown"
        },
        {
         "name": "fielder",
         "rawType": "object",
         "type": "unknown"
        },
        {
         "name": "id",
         "rawType": "int64",
         "type": "integer"
        },
        {
         "name": "season",
         "rawType": "int64",
         "type": "integer"
        },
        {
         "name": "city",
         "rawType": "object",
         "type": "string"
        },
        {
         "name": "date",
         "rawType": "object",
         "type": "string"
        },
        {
         "name": "team1",
         "rawType": "object",
         "type": "string"
        },
        {
         "name": "team2",
         "rawType": "object",
         "type": "string"
        },
        {
         "name": "toss_winner",
         "rawType": "object",
         "type": "string"
        },
        {
         "name": "toss_decision",
         "rawType": "object",
         "type": "string"
        },
        {
         "name": "result",
         "rawType": "object",
         "type": "string"
        },
        {
         "name": "dl_applied",
         "rawType": "int64",
         "type": "integer"
        },
        {
         "name": "winner",
         "rawType": "object",
         "type": "string"
        },
        {
         "name": "win_by_runs",
         "rawType": "int64",
         "type": "integer"
        },
        {
         "name": "win_by_wickets",
         "rawType": "int64",
         "type": "integer"
        },
        {
         "name": "player_of_match",
         "rawType": "object",
         "type": "string"
        },
        {
         "name": "venue",
         "rawType": "object",
         "type": "string"
        },
        {
         "name": "umpire1",
         "rawType": "object",
         "type": "string"
        },
        {
         "name": "umpire2",
         "rawType": "object",
         "type": "string"
        },
        {
         "name": "umpire3",
         "rawType": "float64",
         "type": "float"
        }
       ],
       "ref": "68c89ade-9263-4ca5-8254-769fa62a0b25",
       "rows": [
        [
         "0",
         "1",
         "1",
         "Sunrisers Hyderabad",
         "Royal Challengers Bangalore",
         "1",
         "1",
         "DA Warner",
         "S Dhawan",
         "TS Mills",
         "0",
         "0",
         "0",
         "0",
         "0",
         "0",
         "0",
         "0",
         "0",
         null,
         null,
         null,
         "1",
         "2017",
         "Hyderabad",
         "2017-04-05",
         "Sunrisers Hyderabad",
         "Royal Challengers Bangalore",
         "Royal Challengers Bangalore",
         "field",
         "normal",
         "0",
         "Sunrisers Hyderabad",
         "35",
         "0",
         "Yuvraj Singh",
         "Rajiv Gandhi International Stadium, Uppal",
         "AY Dandekar",
         "NJ Llong",
         null
        ],
        [
         "1",
         "1",
         "1",
         "Sunrisers Hyderabad",
         "Royal Challengers Bangalore",
         "1",
         "2",
         "DA Warner",
         "S Dhawan",
         "TS Mills",
         "0",
         "0",
         "0",
         "0",
         "0",
         "0",
         "0",
         "0",
         "0",
         null,
         null,
         null,
         "1",
         "2017",
         "Hyderabad",
         "2017-04-05",
         "Sunrisers Hyderabad",
         "Royal Challengers Bangalore",
         "Royal Challengers Bangalore",
         "field",
         "normal",
         "0",
         "Sunrisers Hyderabad",
         "35",
         "0",
         "Yuvraj Singh",
         "Rajiv Gandhi International Stadium, Uppal",
         "AY Dandekar",
         "NJ Llong",
         null
        ]
       ],
       "shape": {
        "columns": 39,
        "rows": 2
       }
      },
      "text/html": [
       "<div>\n",
       "<style scoped>\n",
       "    .dataframe tbody tr th:only-of-type {\n",
       "        vertical-align: middle;\n",
       "    }\n",
       "\n",
       "    .dataframe tbody tr th {\n",
       "        vertical-align: top;\n",
       "    }\n",
       "\n",
       "    .dataframe thead th {\n",
       "        text-align: right;\n",
       "    }\n",
       "</style>\n",
       "<table border=\"1\" class=\"dataframe\">\n",
       "  <thead>\n",
       "    <tr style=\"text-align: right;\">\n",
       "      <th></th>\n",
       "      <th>match_id</th>\n",
       "      <th>inning</th>\n",
       "      <th>batting_team</th>\n",
       "      <th>bowling_team</th>\n",
       "      <th>over</th>\n",
       "      <th>ball</th>\n",
       "      <th>batsman</th>\n",
       "      <th>non_striker</th>\n",
       "      <th>bowler</th>\n",
       "      <th>is_super_over</th>\n",
       "      <th>...</th>\n",
       "      <th>result</th>\n",
       "      <th>dl_applied</th>\n",
       "      <th>winner</th>\n",
       "      <th>win_by_runs</th>\n",
       "      <th>win_by_wickets</th>\n",
       "      <th>player_of_match</th>\n",
       "      <th>venue</th>\n",
       "      <th>umpire1</th>\n",
       "      <th>umpire2</th>\n",
       "      <th>umpire3</th>\n",
       "    </tr>\n",
       "  </thead>\n",
       "  <tbody>\n",
       "    <tr>\n",
       "      <th>0</th>\n",
       "      <td>1</td>\n",
       "      <td>1</td>\n",
       "      <td>Sunrisers Hyderabad</td>\n",
       "      <td>Royal Challengers Bangalore</td>\n",
       "      <td>1</td>\n",
       "      <td>1</td>\n",
       "      <td>DA Warner</td>\n",
       "      <td>S Dhawan</td>\n",
       "      <td>TS Mills</td>\n",
       "      <td>0</td>\n",
       "      <td>...</td>\n",
       "      <td>normal</td>\n",
       "      <td>0</td>\n",
       "      <td>Sunrisers Hyderabad</td>\n",
       "      <td>35</td>\n",
       "      <td>0</td>\n",
       "      <td>Yuvraj Singh</td>\n",
       "      <td>Rajiv Gandhi International Stadium, Uppal</td>\n",
       "      <td>AY Dandekar</td>\n",
       "      <td>NJ Llong</td>\n",
       "      <td>NaN</td>\n",
       "    </tr>\n",
       "    <tr>\n",
       "      <th>1</th>\n",
       "      <td>1</td>\n",
       "      <td>1</td>\n",
       "      <td>Sunrisers Hyderabad</td>\n",
       "      <td>Royal Challengers Bangalore</td>\n",
       "      <td>1</td>\n",
       "      <td>2</td>\n",
       "      <td>DA Warner</td>\n",
       "      <td>S Dhawan</td>\n",
       "      <td>TS Mills</td>\n",
       "      <td>0</td>\n",
       "      <td>...</td>\n",
       "      <td>normal</td>\n",
       "      <td>0</td>\n",
       "      <td>Sunrisers Hyderabad</td>\n",
       "      <td>35</td>\n",
       "      <td>0</td>\n",
       "      <td>Yuvraj Singh</td>\n",
       "      <td>Rajiv Gandhi International Stadium, Uppal</td>\n",
       "      <td>AY Dandekar</td>\n",
       "      <td>NJ Llong</td>\n",
       "      <td>NaN</td>\n",
       "    </tr>\n",
       "  </tbody>\n",
       "</table>\n",
       "<p>2 rows × 39 columns</p>\n",
       "</div>"
      ],
      "text/plain": [
       "   match_id  inning         batting_team                 bowling_team  over  \\\n",
       "0         1       1  Sunrisers Hyderabad  Royal Challengers Bangalore     1   \n",
       "1         1       1  Sunrisers Hyderabad  Royal Challengers Bangalore     1   \n",
       "\n",
       "   ball    batsman non_striker    bowler  is_super_over  ...  result  \\\n",
       "0     1  DA Warner    S Dhawan  TS Mills              0  ...  normal   \n",
       "1     2  DA Warner    S Dhawan  TS Mills              0  ...  normal   \n",
       "\n",
       "   dl_applied               winner  win_by_runs  win_by_wickets  \\\n",
       "0           0  Sunrisers Hyderabad           35               0   \n",
       "1           0  Sunrisers Hyderabad           35               0   \n",
       "\n",
       "   player_of_match                                      venue      umpire1  \\\n",
       "0     Yuvraj Singh  Rajiv Gandhi International Stadium, Uppal  AY Dandekar   \n",
       "1     Yuvraj Singh  Rajiv Gandhi International Stadium, Uppal  AY Dandekar   \n",
       "\n",
       "    umpire2 umpire3  \n",
       "0  NJ Llong     NaN  \n",
       "1  NJ Llong     NaN  \n",
       "\n",
       "[2 rows x 39 columns]"
      ]
     },
     "execution_count": 39,
     "metadata": {},
     "output_type": "execute_result"
    }
   ],
   "source": [
    "data.head(2)"
   ]
  },
  {
   "cell_type": "code",
   "execution_count": 40,
   "id": "4c8cc6e4",
   "metadata": {},
   "outputs": [],
   "source": [
    "six =data[data['batsman_runs']==6]"
   ]
  },
  {
   "cell_type": "code",
   "execution_count": 41,
   "id": "eeb93711",
   "metadata": {},
   "outputs": [
    {
     "data": {
      "application/vnd.microsoft.datawrangler.viewer.v0+json": {
       "columns": [
        {
         "name": "index",
         "rawType": "int64",
         "type": "integer"
        },
        {
         "name": "match_id",
         "rawType": "int64",
         "type": "integer"
        },
        {
         "name": "inning",
         "rawType": "int64",
         "type": "integer"
        },
        {
         "name": "batting_team",
         "rawType": "object",
         "type": "string"
        },
        {
         "name": "bowling_team",
         "rawType": "object",
         "type": "string"
        },
        {
         "name": "over",
         "rawType": "int64",
         "type": "integer"
        },
        {
         "name": "ball",
         "rawType": "int64",
         "type": "integer"
        },
        {
         "name": "batsman",
         "rawType": "object",
         "type": "string"
        },
        {
         "name": "non_striker",
         "rawType": "object",
         "type": "string"
        },
        {
         "name": "bowler",
         "rawType": "object",
         "type": "string"
        },
        {
         "name": "is_super_over",
         "rawType": "int64",
         "type": "integer"
        },
        {
         "name": "wide_runs",
         "rawType": "int64",
         "type": "integer"
        },
        {
         "name": "bye_runs",
         "rawType": "int64",
         "type": "integer"
        },
        {
         "name": "legbye_runs",
         "rawType": "int64",
         "type": "integer"
        },
        {
         "name": "noball_runs",
         "rawType": "int64",
         "type": "integer"
        },
        {
         "name": "penalty_runs",
         "rawType": "int64",
         "type": "integer"
        },
        {
         "name": "batsman_runs",
         "rawType": "int64",
         "type": "integer"
        },
        {
         "name": "extra_runs",
         "rawType": "int64",
         "type": "integer"
        },
        {
         "name": "total_runs",
         "rawType": "int64",
         "type": "integer"
        },
        {
         "name": "player_dismissed",
         "rawType": "object",
         "type": "unknown"
        },
        {
         "name": "dismissal_kind",
         "rawType": "object",
         "type": "unknown"
        },
        {
         "name": "fielder",
         "rawType": "object",
         "type": "unknown"
        },
        {
         "name": "id",
         "rawType": "int64",
         "type": "integer"
        },
        {
         "name": "season",
         "rawType": "int64",
         "type": "integer"
        },
        {
         "name": "city",
         "rawType": "object",
         "type": "string"
        },
        {
         "name": "date",
         "rawType": "object",
         "type": "string"
        },
        {
         "name": "team1",
         "rawType": "object",
         "type": "string"
        },
        {
         "name": "team2",
         "rawType": "object",
         "type": "string"
        },
        {
         "name": "toss_winner",
         "rawType": "object",
         "type": "string"
        },
        {
         "name": "toss_decision",
         "rawType": "object",
         "type": "string"
        },
        {
         "name": "result",
         "rawType": "object",
         "type": "string"
        },
        {
         "name": "dl_applied",
         "rawType": "int64",
         "type": "integer"
        },
        {
         "name": "winner",
         "rawType": "object",
         "type": "string"
        },
        {
         "name": "win_by_runs",
         "rawType": "int64",
         "type": "integer"
        },
        {
         "name": "win_by_wickets",
         "rawType": "int64",
         "type": "integer"
        },
        {
         "name": "player_of_match",
         "rawType": "object",
         "type": "string"
        },
        {
         "name": "venue",
         "rawType": "object",
         "type": "string"
        },
        {
         "name": "umpire1",
         "rawType": "object",
         "type": "string"
        },
        {
         "name": "umpire2",
         "rawType": "object",
         "type": "string"
        },
        {
         "name": "umpire3",
         "rawType": "float64",
         "type": "float"
        }
       ],
       "ref": "5fa11c2e-3a86-427b-a0da-44296231a403",
       "rows": [
        [
         "10",
         "1",
         "1",
         "Sunrisers Hyderabad",
         "Royal Challengers Bangalore",
         "2",
         "4",
         "DA Warner",
         "S Dhawan",
         "A Choudhary",
         "0",
         "0",
         "0",
         "0",
         "0",
         "0",
         "6",
         "0",
         "6",
         null,
         null,
         null,
         "1",
         "2017",
         "Hyderabad",
         "2017-04-05",
         "Sunrisers Hyderabad",
         "Royal Challengers Bangalore",
         "Royal Challengers Bangalore",
         "field",
         "normal",
         "0",
         "Sunrisers Hyderabad",
         "35",
         "0",
         "Yuvraj Singh",
         "Rajiv Gandhi International Stadium, Uppal",
         "AY Dandekar",
         "NJ Llong",
         null
        ]
       ],
       "shape": {
        "columns": 39,
        "rows": 1
       }
      },
      "text/html": [
       "<div>\n",
       "<style scoped>\n",
       "    .dataframe tbody tr th:only-of-type {\n",
       "        vertical-align: middle;\n",
       "    }\n",
       "\n",
       "    .dataframe tbody tr th {\n",
       "        vertical-align: top;\n",
       "    }\n",
       "\n",
       "    .dataframe thead th {\n",
       "        text-align: right;\n",
       "    }\n",
       "</style>\n",
       "<table border=\"1\" class=\"dataframe\">\n",
       "  <thead>\n",
       "    <tr style=\"text-align: right;\">\n",
       "      <th></th>\n",
       "      <th>match_id</th>\n",
       "      <th>inning</th>\n",
       "      <th>batting_team</th>\n",
       "      <th>bowling_team</th>\n",
       "      <th>over</th>\n",
       "      <th>ball</th>\n",
       "      <th>batsman</th>\n",
       "      <th>non_striker</th>\n",
       "      <th>bowler</th>\n",
       "      <th>is_super_over</th>\n",
       "      <th>...</th>\n",
       "      <th>result</th>\n",
       "      <th>dl_applied</th>\n",
       "      <th>winner</th>\n",
       "      <th>win_by_runs</th>\n",
       "      <th>win_by_wickets</th>\n",
       "      <th>player_of_match</th>\n",
       "      <th>venue</th>\n",
       "      <th>umpire1</th>\n",
       "      <th>umpire2</th>\n",
       "      <th>umpire3</th>\n",
       "    </tr>\n",
       "  </thead>\n",
       "  <tbody>\n",
       "    <tr>\n",
       "      <th>10</th>\n",
       "      <td>1</td>\n",
       "      <td>1</td>\n",
       "      <td>Sunrisers Hyderabad</td>\n",
       "      <td>Royal Challengers Bangalore</td>\n",
       "      <td>2</td>\n",
       "      <td>4</td>\n",
       "      <td>DA Warner</td>\n",
       "      <td>S Dhawan</td>\n",
       "      <td>A Choudhary</td>\n",
       "      <td>0</td>\n",
       "      <td>...</td>\n",
       "      <td>normal</td>\n",
       "      <td>0</td>\n",
       "      <td>Sunrisers Hyderabad</td>\n",
       "      <td>35</td>\n",
       "      <td>0</td>\n",
       "      <td>Yuvraj Singh</td>\n",
       "      <td>Rajiv Gandhi International Stadium, Uppal</td>\n",
       "      <td>AY Dandekar</td>\n",
       "      <td>NJ Llong</td>\n",
       "      <td>NaN</td>\n",
       "    </tr>\n",
       "  </tbody>\n",
       "</table>\n",
       "<p>1 rows × 39 columns</p>\n",
       "</div>"
      ],
      "text/plain": [
       "    match_id  inning         batting_team                 bowling_team  over  \\\n",
       "10         1       1  Sunrisers Hyderabad  Royal Challengers Bangalore     2   \n",
       "\n",
       "    ball    batsman non_striker       bowler  is_super_over  ...  result  \\\n",
       "10     4  DA Warner    S Dhawan  A Choudhary              0  ...  normal   \n",
       "\n",
       "    dl_applied               winner  win_by_runs  win_by_wickets  \\\n",
       "10           0  Sunrisers Hyderabad           35               0   \n",
       "\n",
       "    player_of_match                                      venue      umpire1  \\\n",
       "10     Yuvraj Singh  Rajiv Gandhi International Stadium, Uppal  AY Dandekar   \n",
       "\n",
       "     umpire2 umpire3  \n",
       "10  NJ Llong     NaN  \n",
       "\n",
       "[1 rows x 39 columns]"
      ]
     },
     "execution_count": 41,
     "metadata": {},
     "output_type": "execute_result"
    }
   ],
   "source": [
    "six.head(1)"
   ]
  },
  {
   "cell_type": "code",
   "execution_count": 42,
   "id": "3d82e69c",
   "metadata": {},
   "outputs": [],
   "source": [
    "most =six.groupby('venue')['venue'].count().sort_values(ascending=0)"
   ]
  },
  {
   "cell_type": "markdown",
   "id": "dc852d0e",
   "metadata": {},
   "source": [
    "venue"
   ]
  },
  {
   "cell_type": "code",
   "execution_count": 43,
   "id": "501ae655",
   "metadata": {},
   "outputs": [],
   "source": [
    "venue = match.groupby('venue')['id'].count()"
   ]
  },
  {
   "cell_type": "code",
   "execution_count": 44,
   "id": "6be2191b",
   "metadata": {},
   "outputs": [
    {
     "data": {
      "application/vnd.microsoft.datawrangler.viewer.v0+json": {
       "columns": [
        {
         "name": "venue",
         "rawType": "object",
         "type": "string"
        },
        {
         "name": "id",
         "rawType": "int64",
         "type": "integer"
        }
       ],
       "ref": "a93cd6df-2e3f-492b-856b-ad1cd354eda4",
       "rows": [
        [
         "Green Park",
         "4"
        ],
        [
         "Buffalo Park",
         "3"
        ],
        [
         "De Beers Diamond Oval",
         "3"
        ],
        [
         "Vidarbha Cricket Association Stadium, Jamtha",
         "3"
        ],
        [
         "OUTsurance Oval",
         "2"
        ]
       ],
       "shape": {
        "columns": 1,
        "rows": 5
       }
      },
      "text/plain": [
       "venue\n",
       "Green Park                                      4\n",
       "Buffalo Park                                    3\n",
       "De Beers Diamond Oval                           3\n",
       "Vidarbha Cricket Association Stadium, Jamtha    3\n",
       "OUTsurance Oval                                 2\n",
       "Name: id, dtype: int64"
      ]
     },
     "execution_count": 44,
     "metadata": {},
     "output_type": "execute_result"
    }
   ],
   "source": [
    "venue.sort_values(ascending=0).tail(5)"
   ]
  },
  {
   "cell_type": "code",
   "execution_count": 45,
   "id": "b81ebd01",
   "metadata": {},
   "outputs": [
    {
     "data": {
      "application/vnd.microsoft.datawrangler.viewer.v0+json": {
       "columns": [
        {
         "name": "venue",
         "rawType": "object",
         "type": "string"
        },
        {
         "name": "0",
         "rawType": "float64",
         "type": "float"
        }
       ],
       "ref": "b43e0aa4-7780-40e6-b1a0-59a9506a0aa9",
       "rows": [
        [
         "Holkar Cricket Stadium",
         "17.6"
        ],
        [
         "M Chinnaswamy Stadium",
         "13.227272727272727"
        ],
        [
         "Sharjah Cricket Stadium",
         "12.666666666666666"
        ],
        [
         "Himachal Pradesh Cricket Association Stadium",
         "12.0"
        ]
       ],
       "shape": {
        "columns": 1,
        "rows": 4
       }
      },
      "text/plain": [
       "venue\n",
       "Holkar Cricket Stadium                          17.600000\n",
       "M Chinnaswamy Stadium                           13.227273\n",
       "Sharjah Cricket Stadium                         12.666667\n",
       "Himachal Pradesh Cricket Association Stadium    12.000000\n",
       "dtype: float64"
      ]
     },
     "execution_count": 45,
     "metadata": {},
     "output_type": "execute_result"
    }
   ],
   "source": [
    "(most/venue).sort_values(ascending=0).head(4)"
   ]
  },
  {
   "cell_type": "markdown",
   "id": "44c96a1b",
   "metadata": {},
   "source": [
    "\n",
    "find orange cap holder of every season"
   ]
  },
  {
   "cell_type": "markdown",
   "id": "c492685d",
   "metadata": {},
   "source": [
    "already me merge we use data\n"
   ]
  },
  {
   "cell_type": "code",
   "execution_count": 46,
   "id": "bef65b70",
   "metadata": {},
   "outputs": [
    {
     "data": {
      "application/vnd.microsoft.datawrangler.viewer.v0+json": {
       "columns": [
        {
         "name": "index",
         "rawType": "int64",
         "type": "integer"
        },
        {
         "name": "season",
         "rawType": "int64",
         "type": "integer"
        },
        {
         "name": "batsman",
         "rawType": "object",
         "type": "string"
        },
        {
         "name": "batsman_runs",
         "rawType": "int64",
         "type": "integer"
        }
       ],
       "ref": "5b857745-9954-43d0-93c0-d55dc5e6ed73",
       "rows": [
        [
         "1383",
         "2016",
         "V Kohli",
         "973"
        ],
        [
         "1278",
         "2016",
         "DA Warner",
         "848"
        ],
        [
         "684",
         "2012",
         "CH Gayle",
         "733"
        ],
        [
         "910",
         "2013",
         "MEK Hussey",
         "733"
        ],
        [
         "852",
         "2013",
         "CH Gayle",
         "720"
        ],
        [
         "1256",
         "2016",
         "AB de Villiers",
         "687"
        ],
        [
         "1088",
         "2014",
         "RV Uthappa",
         "660"
        ],
        [
         "1422",
         "2017",
         "DA Warner",
         "641"
        ],
        [
         "983",
         "2013",
         "V Kohli",
         "639"
        ],
        [
         "446",
         "2010",
         "SR Tendulkar",
         "618"
        ],
        [
         "115",
         "2008",
         "SE Marsh",
         "616"
        ],
        [
         "502",
         "2011",
         "CH Gayle",
         "608"
        ],
        [
         "706",
         "2012",
         "G Gambhir",
         "590"
        ],
        [
         "365",
         "2010",
         "JH Kallis",
         "572"
        ],
        [
         "229",
         "2009",
         "ML Hayden",
         "572"
        ],
        [
         "785",
         "2012",
         "S Dhawan",
         "569"
        ],
        [
         "1019",
         "2014",
         "DR Smith",
         "566"
        ],
        [
         "1148",
         "2015",
         "DA Warner",
         "562"
        ],
        [
         "668",
         "2012",
         "AM Rahane",
         "560"
        ],
        [
         "636",
         "2011",
         "V Kohli",
         "557"
        ],
        [
         "623",
         "2011",
         "SR Tendulkar",
         "553"
        ],
        [
         "1025",
         "2014",
         "GJ Maxwell",
         "552"
        ],
        [
         "964",
         "2013",
         "SK Raina",
         "548"
        ],
        [
         "971",
         "2013",
         "SR Watson",
         "543"
        ],
        [
         "1130",
         "2015",
         "AM Rahane",
         "540"
        ],
        [
         "1183",
         "2015",
         "LMP Simmons",
         "540"
        ],
        [
         "950",
         "2013",
         "RG Sharma",
         "538"
        ],
        [
         "39",
         "2008",
         "G Gambhir",
         "534"
        ],
        [
         "441",
         "2010",
         "SK Raina",
         "528"
        ],
        [
         "1014",
         "2014",
         "DA Warner",
         "528"
        ],
        [
         "1097",
         "2014",
         "SK Raina",
         "523"
        ],
        [
         "126",
         "2008",
         "ST Jayasuriya",
         "514"
        ],
        [
         "1126",
         "2015",
         "AB de Villiers",
         "513"
        ],
        [
         "888",
         "2013",
         "KD Karthik",
         "510"
        ],
        [
         "1245",
         "2015",
         "V Kohli",
         "505"
        ],
        [
         "616",
         "2011",
         "SE Marsh",
         "504"
        ],
        [
         "1357",
         "2016",
         "S Dhawan",
         "501"
        ],
        [
         "1288",
         "2016",
         "G Gambhir",
         "501"
        ],
        [
         "1431",
         "2017",
         "G Gambhir",
         "498"
        ],
        [
         "166",
         "2009",
         "AC Gilchrist",
         "495"
        ],
        [
         "810",
         "2012",
         "V Sehwag",
         "495"
        ],
        [
         "437",
         "2010",
         "SC Ganguly",
         "493"
        ],
        [
         "560",
         "2011",
         "MEK Hussey",
         "492"
        ],
        [
         "1142",
         "2015",
         "CH Gayle",
         "491"
        ],
        [
         "1354",
         "2016",
         "RG Sharma",
         "489"
        ],
        [
         "836",
         "2013",
         "AM Rahane",
         "488"
        ],
        [
         "1217",
         "2015",
         "RG Sharma",
         "482"
        ],
        [
         "1260",
         "2016",
         "AM Rahane",
         "480"
        ],
        [
         "687",
         "2012",
         "CL White",
         "479"
        ],
        [
         "1495",
         "2017",
         "S Dhawan",
         "479"
        ]
       ],
       "shape": {
        "columns": 3,
        "rows": 1531
       }
      },
      "text/html": [
       "<div>\n",
       "<style scoped>\n",
       "    .dataframe tbody tr th:only-of-type {\n",
       "        vertical-align: middle;\n",
       "    }\n",
       "\n",
       "    .dataframe tbody tr th {\n",
       "        vertical-align: top;\n",
       "    }\n",
       "\n",
       "    .dataframe thead th {\n",
       "        text-align: right;\n",
       "    }\n",
       "</style>\n",
       "<table border=\"1\" class=\"dataframe\">\n",
       "  <thead>\n",
       "    <tr style=\"text-align: right;\">\n",
       "      <th></th>\n",
       "      <th>season</th>\n",
       "      <th>batsman</th>\n",
       "      <th>batsman_runs</th>\n",
       "    </tr>\n",
       "  </thead>\n",
       "  <tbody>\n",
       "    <tr>\n",
       "      <th>1383</th>\n",
       "      <td>2016</td>\n",
       "      <td>V Kohli</td>\n",
       "      <td>973</td>\n",
       "    </tr>\n",
       "    <tr>\n",
       "      <th>1278</th>\n",
       "      <td>2016</td>\n",
       "      <td>DA Warner</td>\n",
       "      <td>848</td>\n",
       "    </tr>\n",
       "    <tr>\n",
       "      <th>684</th>\n",
       "      <td>2012</td>\n",
       "      <td>CH Gayle</td>\n",
       "      <td>733</td>\n",
       "    </tr>\n",
       "    <tr>\n",
       "      <th>910</th>\n",
       "      <td>2013</td>\n",
       "      <td>MEK Hussey</td>\n",
       "      <td>733</td>\n",
       "    </tr>\n",
       "    <tr>\n",
       "      <th>852</th>\n",
       "      <td>2013</td>\n",
       "      <td>CH Gayle</td>\n",
       "      <td>720</td>\n",
       "    </tr>\n",
       "    <tr>\n",
       "      <th>...</th>\n",
       "      <td>...</td>\n",
       "      <td>...</td>\n",
       "      <td>...</td>\n",
       "    </tr>\n",
       "    <tr>\n",
       "      <th>638</th>\n",
       "      <td>2011</td>\n",
       "      <td>VR Aaron</td>\n",
       "      <td>0</td>\n",
       "    </tr>\n",
       "    <tr>\n",
       "      <th>1467</th>\n",
       "      <td>2017</td>\n",
       "      <td>MM Patel</td>\n",
       "      <td>0</td>\n",
       "    </tr>\n",
       "    <tr>\n",
       "      <th>572</th>\n",
       "      <td>2011</td>\n",
       "      <td>ND Doshi</td>\n",
       "      <td>0</td>\n",
       "    </tr>\n",
       "    <tr>\n",
       "      <th>605</th>\n",
       "      <td>2011</td>\n",
       "      <td>S Nadeem</td>\n",
       "      <td>0</td>\n",
       "    </tr>\n",
       "    <tr>\n",
       "      <th>619</th>\n",
       "      <td>2011</td>\n",
       "      <td>SK Trivedi</td>\n",
       "      <td>0</td>\n",
       "    </tr>\n",
       "  </tbody>\n",
       "</table>\n",
       "<p>1531 rows × 3 columns</p>\n",
       "</div>"
      ],
      "text/plain": [
       "      season     batsman  batsman_runs\n",
       "1383    2016     V Kohli           973\n",
       "1278    2016   DA Warner           848\n",
       "684     2012    CH Gayle           733\n",
       "910     2013  MEK Hussey           733\n",
       "852     2013    CH Gayle           720\n",
       "...      ...         ...           ...\n",
       "638     2011    VR Aaron             0\n",
       "1467    2017    MM Patel             0\n",
       "572     2011    ND Doshi             0\n",
       "605     2011    S Nadeem             0\n",
       "619     2011  SK Trivedi             0\n",
       "\n",
       "[1531 rows x 3 columns]"
      ]
     },
     "execution_count": 46,
     "metadata": {},
     "output_type": "execute_result"
    }
   ],
   "source": [
    "data.groupby(['season','batsman'])['batsman_runs'].sum().reset_index().sort_values('batsman_runs',ascending=0)"
   ]
  },
  {
   "cell_type": "code",
   "execution_count": 57,
   "id": "0b0d7731",
   "metadata": {},
   "outputs": [
    {
     "data": {
      "application/vnd.microsoft.datawrangler.viewer.v0+json": {
       "columns": [
        {
         "name": "index",
         "rawType": "int64",
         "type": "integer"
        },
        {
         "name": "season",
         "rawType": "int64",
         "type": "integer"
        },
        {
         "name": "batsman",
         "rawType": "object",
         "type": "string"
        },
        {
         "name": "batsman_runs",
         "rawType": "int64",
         "type": "integer"
        }
       ],
       "ref": "fe94c5eb-6677-4b91-bb20-1d3dfd87d8bc",
       "rows": [
        [
         "1383",
         "2016",
         "V Kohli",
         "973"
        ],
        [
         "1278",
         "2016",
         "DA Warner",
         "848"
        ],
        [
         "684",
         "2012",
         "CH Gayle",
         "733"
        ],
        [
         "910",
         "2013",
         "MEK Hussey",
         "733"
        ],
        [
         "852",
         "2013",
         "CH Gayle",
         "720"
        ],
        [
         "1256",
         "2016",
         "AB de Villiers",
         "687"
        ],
        [
         "1088",
         "2014",
         "RV Uthappa",
         "660"
        ],
        [
         "1422",
         "2017",
         "DA Warner",
         "641"
        ],
        [
         "983",
         "2013",
         "V Kohli",
         "639"
        ],
        [
         "446",
         "2010",
         "SR Tendulkar",
         "618"
        ],
        [
         "115",
         "2008",
         "SE Marsh",
         "616"
        ],
        [
         "502",
         "2011",
         "CH Gayle",
         "608"
        ],
        [
         "706",
         "2012",
         "G Gambhir",
         "590"
        ],
        [
         "365",
         "2010",
         "JH Kallis",
         "572"
        ],
        [
         "229",
         "2009",
         "ML Hayden",
         "572"
        ],
        [
         "785",
         "2012",
         "S Dhawan",
         "569"
        ],
        [
         "1019",
         "2014",
         "DR Smith",
         "566"
        ],
        [
         "1148",
         "2015",
         "DA Warner",
         "562"
        ],
        [
         "668",
         "2012",
         "AM Rahane",
         "560"
        ],
        [
         "636",
         "2011",
         "V Kohli",
         "557"
        ],
        [
         "623",
         "2011",
         "SR Tendulkar",
         "553"
        ],
        [
         "1025",
         "2014",
         "GJ Maxwell",
         "552"
        ],
        [
         "964",
         "2013",
         "SK Raina",
         "548"
        ],
        [
         "971",
         "2013",
         "SR Watson",
         "543"
        ],
        [
         "1130",
         "2015",
         "AM Rahane",
         "540"
        ],
        [
         "1183",
         "2015",
         "LMP Simmons",
         "540"
        ],
        [
         "950",
         "2013",
         "RG Sharma",
         "538"
        ],
        [
         "39",
         "2008",
         "G Gambhir",
         "534"
        ],
        [
         "441",
         "2010",
         "SK Raina",
         "528"
        ],
        [
         "1014",
         "2014",
         "DA Warner",
         "528"
        ],
        [
         "1097",
         "2014",
         "SK Raina",
         "523"
        ],
        [
         "126",
         "2008",
         "ST Jayasuriya",
         "514"
        ],
        [
         "1126",
         "2015",
         "AB de Villiers",
         "513"
        ],
        [
         "888",
         "2013",
         "KD Karthik",
         "510"
        ],
        [
         "1245",
         "2015",
         "V Kohli",
         "505"
        ],
        [
         "616",
         "2011",
         "SE Marsh",
         "504"
        ],
        [
         "1357",
         "2016",
         "S Dhawan",
         "501"
        ],
        [
         "1288",
         "2016",
         "G Gambhir",
         "501"
        ],
        [
         "1431",
         "2017",
         "G Gambhir",
         "498"
        ],
        [
         "166",
         "2009",
         "AC Gilchrist",
         "495"
        ],
        [
         "810",
         "2012",
         "V Sehwag",
         "495"
        ],
        [
         "437",
         "2010",
         "SC Ganguly",
         "493"
        ],
        [
         "560",
         "2011",
         "MEK Hussey",
         "492"
        ],
        [
         "1142",
         "2015",
         "CH Gayle",
         "491"
        ],
        [
         "1354",
         "2016",
         "RG Sharma",
         "489"
        ],
        [
         "836",
         "2013",
         "AM Rahane",
         "488"
        ],
        [
         "1217",
         "2015",
         "RG Sharma",
         "482"
        ],
        [
         "1260",
         "2016",
         "AM Rahane",
         "480"
        ],
        [
         "687",
         "2012",
         "CL White",
         "479"
        ],
        [
         "1495",
         "2017",
         "S Dhawan",
         "479"
        ]
       ],
       "shape": {
        "columns": 3,
        "rows": 1531
       }
      },
      "text/html": [
       "<div>\n",
       "<style scoped>\n",
       "    .dataframe tbody tr th:only-of-type {\n",
       "        vertical-align: middle;\n",
       "    }\n",
       "\n",
       "    .dataframe tbody tr th {\n",
       "        vertical-align: top;\n",
       "    }\n",
       "\n",
       "    .dataframe thead th {\n",
       "        text-align: right;\n",
       "    }\n",
       "</style>\n",
       "<table border=\"1\" class=\"dataframe\">\n",
       "  <thead>\n",
       "    <tr style=\"text-align: right;\">\n",
       "      <th></th>\n",
       "      <th>season</th>\n",
       "      <th>batsman</th>\n",
       "      <th>batsman_runs</th>\n",
       "    </tr>\n",
       "  </thead>\n",
       "  <tbody>\n",
       "    <tr>\n",
       "      <th>1383</th>\n",
       "      <td>2016</td>\n",
       "      <td>V Kohli</td>\n",
       "      <td>973</td>\n",
       "    </tr>\n",
       "    <tr>\n",
       "      <th>1278</th>\n",
       "      <td>2016</td>\n",
       "      <td>DA Warner</td>\n",
       "      <td>848</td>\n",
       "    </tr>\n",
       "    <tr>\n",
       "      <th>684</th>\n",
       "      <td>2012</td>\n",
       "      <td>CH Gayle</td>\n",
       "      <td>733</td>\n",
       "    </tr>\n",
       "    <tr>\n",
       "      <th>910</th>\n",
       "      <td>2013</td>\n",
       "      <td>MEK Hussey</td>\n",
       "      <td>733</td>\n",
       "    </tr>\n",
       "    <tr>\n",
       "      <th>852</th>\n",
       "      <td>2013</td>\n",
       "      <td>CH Gayle</td>\n",
       "      <td>720</td>\n",
       "    </tr>\n",
       "    <tr>\n",
       "      <th>...</th>\n",
       "      <td>...</td>\n",
       "      <td>...</td>\n",
       "      <td>...</td>\n",
       "    </tr>\n",
       "    <tr>\n",
       "      <th>638</th>\n",
       "      <td>2011</td>\n",
       "      <td>VR Aaron</td>\n",
       "      <td>0</td>\n",
       "    </tr>\n",
       "    <tr>\n",
       "      <th>1467</th>\n",
       "      <td>2017</td>\n",
       "      <td>MM Patel</td>\n",
       "      <td>0</td>\n",
       "    </tr>\n",
       "    <tr>\n",
       "      <th>572</th>\n",
       "      <td>2011</td>\n",
       "      <td>ND Doshi</td>\n",
       "      <td>0</td>\n",
       "    </tr>\n",
       "    <tr>\n",
       "      <th>605</th>\n",
       "      <td>2011</td>\n",
       "      <td>S Nadeem</td>\n",
       "      <td>0</td>\n",
       "    </tr>\n",
       "    <tr>\n",
       "      <th>619</th>\n",
       "      <td>2011</td>\n",
       "      <td>SK Trivedi</td>\n",
       "      <td>0</td>\n",
       "    </tr>\n",
       "  </tbody>\n",
       "</table>\n",
       "<p>1531 rows × 3 columns</p>\n",
       "</div>"
      ],
      "text/plain": [
       "      season     batsman  batsman_runs\n",
       "1383    2016     V Kohli           973\n",
       "1278    2016   DA Warner           848\n",
       "684     2012    CH Gayle           733\n",
       "910     2013  MEK Hussey           733\n",
       "852     2013    CH Gayle           720\n",
       "...      ...         ...           ...\n",
       "638     2011    VR Aaron             0\n",
       "1467    2017    MM Patel             0\n",
       "572     2011    ND Doshi             0\n",
       "605     2011    S Nadeem             0\n",
       "619     2011  SK Trivedi             0\n",
       "\n",
       "[1531 rows x 3 columns]"
      ]
     },
     "execution_count": 57,
     "metadata": {},
     "output_type": "execute_result"
    }
   ],
   "source": [
    "data.groupby(['season','batsman'])['batsman_runs'].sum().reset_index().sort_values('batsman_runs',ascending=0)"
   ]
  },
  {
   "cell_type": "code",
   "execution_count": 58,
   "id": "e49d76ac",
   "metadata": {},
   "outputs": [],
   "source": [
    "orange =data.groupby(['season','batsman'])['batsman_runs'].sum().sort_values(ascending=0).reset_index().drop_duplicates(subset=['season']).sort_values('batsman_runs',ascending=0)"
   ]
  },
  {
   "cell_type": "code",
   "execution_count": 60,
   "id": "1eeb99f5",
   "metadata": {},
   "outputs": [
    {
     "data": {
      "application/vnd.microsoft.datawrangler.viewer.v0+json": {
       "columns": [
        {
         "name": "index",
         "rawType": "int64",
         "type": "integer"
        },
        {
         "name": "season",
         "rawType": "int64",
         "type": "integer"
        },
        {
         "name": "batsman",
         "rawType": "object",
         "type": "string"
        },
        {
         "name": "batsman_runs",
         "rawType": "int64",
         "type": "integer"
        }
       ],
       "ref": "99983e6b-7d4f-410e-be31-098bc0326e8d",
       "rows": [
        [
         "0",
         "2016",
         "V Kohli",
         "973"
        ],
        [
         "2",
         "2012",
         "CH Gayle",
         "733"
        ],
        [
         "3",
         "2013",
         "MEK Hussey",
         "733"
        ],
        [
         "6",
         "2014",
         "RV Uthappa",
         "660"
        ],
        [
         "7",
         "2017",
         "DA Warner",
         "641"
        ]
       ],
       "shape": {
        "columns": 3,
        "rows": 5
       }
      },
      "text/html": [
       "<div>\n",
       "<style scoped>\n",
       "    .dataframe tbody tr th:only-of-type {\n",
       "        vertical-align: middle;\n",
       "    }\n",
       "\n",
       "    .dataframe tbody tr th {\n",
       "        vertical-align: top;\n",
       "    }\n",
       "\n",
       "    .dataframe thead th {\n",
       "        text-align: right;\n",
       "    }\n",
       "</style>\n",
       "<table border=\"1\" class=\"dataframe\">\n",
       "  <thead>\n",
       "    <tr style=\"text-align: right;\">\n",
       "      <th></th>\n",
       "      <th>season</th>\n",
       "      <th>batsman</th>\n",
       "      <th>batsman_runs</th>\n",
       "    </tr>\n",
       "  </thead>\n",
       "  <tbody>\n",
       "    <tr>\n",
       "      <th>0</th>\n",
       "      <td>2016</td>\n",
       "      <td>V Kohli</td>\n",
       "      <td>973</td>\n",
       "    </tr>\n",
       "    <tr>\n",
       "      <th>2</th>\n",
       "      <td>2012</td>\n",
       "      <td>CH Gayle</td>\n",
       "      <td>733</td>\n",
       "    </tr>\n",
       "    <tr>\n",
       "      <th>3</th>\n",
       "      <td>2013</td>\n",
       "      <td>MEK Hussey</td>\n",
       "      <td>733</td>\n",
       "    </tr>\n",
       "    <tr>\n",
       "      <th>6</th>\n",
       "      <td>2014</td>\n",
       "      <td>RV Uthappa</td>\n",
       "      <td>660</td>\n",
       "    </tr>\n",
       "    <tr>\n",
       "      <th>7</th>\n",
       "      <td>2017</td>\n",
       "      <td>DA Warner</td>\n",
       "      <td>641</td>\n",
       "    </tr>\n",
       "  </tbody>\n",
       "</table>\n",
       "</div>"
      ],
      "text/plain": [
       "   season     batsman  batsman_runs\n",
       "0    2016     V Kohli           973\n",
       "2    2012    CH Gayle           733\n",
       "3    2013  MEK Hussey           733\n",
       "6    2014  RV Uthappa           660\n",
       "7    2017   DA Warner           641"
      ]
     },
     "execution_count": 60,
     "metadata": {},
     "output_type": "execute_result"
    }
   ],
   "source": [
    "orange.head(5)"
   ]
  },
  {
   "cell_type": "code",
   "execution_count": 68,
   "id": "80422e63",
   "metadata": {},
   "outputs": [
    {
     "data": {
      "text/plain": [
       "<Axes: xlabel='batsman'>"
      ]
     },
     "execution_count": 68,
     "metadata": {},
     "output_type": "execute_result"
    },
    {
     "data": {
      "image/png": "[encoded data removed]",
      "text/plain": [
       "<Figure size 640x480 with 1 Axes>"
      ]
     },
     "metadata": {},
     "output_type": "display_data"
    }
   ],
   "source": [
    "orange.plot(kind='line',x='batsman',y='batsman_runs',color='blue')"
   ]
  },
  {
   "cell_type": "code",
   "execution_count": 67,
   "id": "b0bca2b0",
   "metadata": {},
   "outputs": [
    {
     "data": {
      "text/plain": [
       "<Axes: xlabel='batsman'>"
      ]
     },
     "execution_count": 67,
     "metadata": {},
     "output_type": "execute_result"
    },
    {
     "data": {
      "image/png": "[encoded data removed]",
      "text/plain": [
       "<Figure size 640x480 with 1 Axes>"
      ]
     },
     "metadata": {},
     "output_type": "display_data"
    }
   ],
   "source": [
    "orange.plot(kind='bar',x='batsman',y='batsman_runs',color='green')"
   ]
  },
  {
   "cell_type": "code",
   "execution_count": 74,
   "id": "3cda884d",
   "metadata": {},
   "outputs": [
    {
     "data": {
      "text/plain": [
       "<Axes: xlabel='batsman', ylabel='batsman_runs'>"
      ]
     },
     "execution_count": 74,
     "metadata": {},
     "output_type": "execute_result"
    },
    {
     "data": {
      "image/png": "[encoded data removed]",
      "text/plain": [
       "<Figure size 640x480 with 1 Axes>"
      ]
     },
     "metadata": {},
     "output_type": "display_data"
    }
   ],
   "source": [
    "orange.plot(kind='scatter',x='batsman',y='batsman_runs',color='navy',s=orange['batsman_runs'])"
   ]
  },
  {
   "cell_type": "code",
   "execution_count": 49,
   "id": "ced94105",
   "metadata": {},
   "outputs": [
    {
     "data": {
      "text/plain": [
       "<Axes: >"
      ]
     },
     "execution_count": 49,
     "metadata": {},
     "output_type": "execute_result"
    },
    {
     "data": {
      "image/png": "[encoded data removed]",
      "text/plain": [
       "<Figure size 640x480 with 1 Axes>"
      ]
     },
     "metadata": {},
     "output_type": "display_data"
    }
   ],
   "source": [
    "data.groupby(['season','batsman'])['batsman_runs'].sum().sort_values(ascending=0).reset_index().drop_duplicates(subset=['season']).sort_values('batsman_runs',ascending=0).plot(kind='bar')"
   ]
  },
  {
   "cell_type": "markdown",
   "id": "8546370e",
   "metadata": {},
   "source": [
    "purple cap holder"
   ]
  },
  {
   "cell_type": "code",
   "execution_count": 50,
   "id": "385200fe",
   "metadata": {},
   "outputs": [
    {
     "data": {
      "application/vnd.microsoft.datawrangler.viewer.v0+json": {
       "columns": [
        {
         "name": "index",
         "rawType": "int64",
         "type": "integer"
        },
        {
         "name": "season",
         "rawType": "int64",
         "type": "integer"
        },
        {
         "name": "bowler",
         "rawType": "object",
         "type": "string"
        },
        {
         "name": "player_dismissed",
         "rawType": "int64",
         "type": "integer"
        }
       ],
       "ref": "7aeb5e79-e651-420b-ba3e-1d5f4dbfcf79",
       "rows": [
        [
         "5",
         "2017",
         "B Kumar",
         "28"
        ],
        [
         "16",
         "2016",
         "B Kumar",
         "24"
        ],
        [
         "6",
         "2015",
         "DJ Bravo",
         "28"
        ],
        [
         "10",
         "2014",
         "MM Sharma",
         "26"
        ],
        [
         "0",
         "2013",
         "DJ Bravo",
         "34"
        ],
        [
         "3",
         "2012",
         "M Morkel",
         "30"
        ],
        [
         "2",
         "2011",
         "SL Malinga",
         "30"
        ],
        [
         "29",
         "2010",
         "PP Ojha",
         "22"
        ],
        [
         "11",
         "2009",
         "RP Singh",
         "26"
        ],
        [
         "19",
         "2008",
         "Sohail Tanvir",
         "24"
        ]
       ],
       "shape": {
        "columns": 3,
        "rows": 10
       }
      },
      "text/html": [
       "<div>\n",
       "<style scoped>\n",
       "    .dataframe tbody tr th:only-of-type {\n",
       "        vertical-align: middle;\n",
       "    }\n",
       "\n",
       "    .dataframe tbody tr th {\n",
       "        vertical-align: top;\n",
       "    }\n",
       "\n",
       "    .dataframe thead th {\n",
       "        text-align: right;\n",
       "    }\n",
       "</style>\n",
       "<table border=\"1\" class=\"dataframe\">\n",
       "  <thead>\n",
       "    <tr style=\"text-align: right;\">\n",
       "      <th></th>\n",
       "      <th>season</th>\n",
       "      <th>bowler</th>\n",
       "      <th>player_dismissed</th>\n",
       "    </tr>\n",
       "  </thead>\n",
       "  <tbody>\n",
       "    <tr>\n",
       "      <th>5</th>\n",
       "      <td>2017</td>\n",
       "      <td>B Kumar</td>\n",
       "      <td>28</td>\n",
       "    </tr>\n",
       "    <tr>\n",
       "      <th>16</th>\n",
       "      <td>2016</td>\n",
       "      <td>B Kumar</td>\n",
       "      <td>24</td>\n",
       "    </tr>\n",
       "    <tr>\n",
       "      <th>6</th>\n",
       "      <td>2015</td>\n",
       "      <td>DJ Bravo</td>\n",
       "      <td>28</td>\n",
       "    </tr>\n",
       "    <tr>\n",
       "      <th>10</th>\n",
       "      <td>2014</td>\n",
       "      <td>MM Sharma</td>\n",
       "      <td>26</td>\n",
       "    </tr>\n",
       "    <tr>\n",
       "      <th>0</th>\n",
       "      <td>2013</td>\n",
       "      <td>DJ Bravo</td>\n",
       "      <td>34</td>\n",
       "    </tr>\n",
       "    <tr>\n",
       "      <th>3</th>\n",
       "      <td>2012</td>\n",
       "      <td>M Morkel</td>\n",
       "      <td>30</td>\n",
       "    </tr>\n",
       "    <tr>\n",
       "      <th>2</th>\n",
       "      <td>2011</td>\n",
       "      <td>SL Malinga</td>\n",
       "      <td>30</td>\n",
       "    </tr>\n",
       "    <tr>\n",
       "      <th>29</th>\n",
       "      <td>2010</td>\n",
       "      <td>PP Ojha</td>\n",
       "      <td>22</td>\n",
       "    </tr>\n",
       "    <tr>\n",
       "      <th>11</th>\n",
       "      <td>2009</td>\n",
       "      <td>RP Singh</td>\n",
       "      <td>26</td>\n",
       "    </tr>\n",
       "    <tr>\n",
       "      <th>19</th>\n",
       "      <td>2008</td>\n",
       "      <td>Sohail Tanvir</td>\n",
       "      <td>24</td>\n",
       "    </tr>\n",
       "  </tbody>\n",
       "</table>\n",
       "</div>"
      ],
      "text/plain": [
       "    season         bowler  player_dismissed\n",
       "5     2017        B Kumar                28\n",
       "16    2016        B Kumar                24\n",
       "6     2015       DJ Bravo                28\n",
       "10    2014      MM Sharma                26\n",
       "0     2013       DJ Bravo                34\n",
       "3     2012       M Morkel                30\n",
       "2     2011     SL Malinga                30\n",
       "29    2010        PP Ojha                22\n",
       "11    2009       RP Singh                26\n",
       "19    2008  Sohail Tanvir                24"
      ]
     },
     "execution_count": 50,
     "metadata": {},
     "output_type": "execute_result"
    }
   ],
   "source": [
    "data.groupby(['season','bowler'])['player_dismissed'].count().sort_values(ascending=0).reset_index().drop_duplicates(subset=['season']).sort_values('season',ascending=0)"
   ]
  },
  {
   "cell_type": "code",
   "execution_count": 51,
   "id": "1a940212",
   "metadata": {},
   "outputs": [
    {
     "data": {
      "text/plain": [
       "<Axes: >"
      ]
     },
     "execution_count": 51,
     "metadata": {},
     "output_type": "execute_result"
    },
    {
     "data": {
      "image/png": "[encoded data removed]",
      "text/plain": [
       "<Figure size 640x480 with 1 Axes>"
      ]
     },
     "metadata": {},
     "output_type": "display_data"
    }
   ],
   "source": [
    "data.groupby(['season','bowler'])['player_dismissed'].count().sort_values(ascending=0).reset_index().drop_duplicates(subset=['season']).sort_values('season',ascending=0).plot(kind='barh')"
   ]
  },
  {
   "cell_type": "code",
   "execution_count": 52,
   "id": "9cd3fb9b",
   "metadata": {},
   "outputs": [
    {
     "data": {
      "text/plain": [
       "Index(['match_id', 'inning', 'batting_team', 'bowling_team', 'over', 'ball',\n",
       "       'batsman', 'non_striker', 'bowler', 'is_super_over', 'wide_runs',\n",
       "       'bye_runs', 'legbye_runs', 'noball_runs', 'penalty_runs',\n",
       "       'batsman_runs', 'extra_runs', 'total_runs', 'player_dismissed',\n",
       "       'dismissal_kind', 'fielder', 'id', 'season', 'city', 'date', 'team1',\n",
       "       'team2', 'toss_winner', 'toss_decision', 'result', 'dl_applied',\n",
       "       'winner', 'win_by_runs', 'win_by_wickets', 'player_of_match', 'venue',\n",
       "       'umpire1', 'umpire2', 'umpire3'],\n",
       "      dtype='object')"
      ]
     },
     "execution_count": 52,
     "metadata": {},
     "output_type": "execute_result"
    }
   ],
   "source": [
    "data.columns"
   ]
  },
  {
   "cell_type": "markdown",
   "id": "8949ec99",
   "metadata": {},
   "source": [
    "no of super over played by each season"
   ]
  },
  {
   "cell_type": "code",
   "execution_count": 53,
   "id": "a8433471",
   "metadata": {},
   "outputs": [],
   "source": [
    "super =data.groupby(['season','team1','team2','winner','player_of_match'])['is_super_over'].max().sort_values(ascending=0).reset_index().drop_duplicates(subset=['season'],keep='first').sort_values('season',ascending=0)"
   ]
  },
  {
   "cell_type": "code",
   "execution_count": 54,
   "id": "b1e039d9",
   "metadata": {},
   "outputs": [
    {
     "data": {
      "application/vnd.microsoft.datawrangler.viewer.v0+json": {
       "columns": [
        {
         "name": "index",
         "rawType": "int64",
         "type": "integer"
        },
        {
         "name": "season",
         "rawType": "int64",
         "type": "integer"
        },
        {
         "name": "team1",
         "rawType": "object",
         "type": "string"
        },
        {
         "name": "team2",
         "rawType": "object",
         "type": "string"
        },
        {
         "name": "winner",
         "rawType": "object",
         "type": "string"
        },
        {
         "name": "player_of_match",
         "rawType": "object",
         "type": "string"
        },
        {
         "name": "is_super_over",
         "rawType": "int64",
         "type": "integer"
        }
       ],
       "ref": "71b32b51-6963-4f99-92f9-c13c6d534b54",
       "rows": [
        [
         "6",
         "2017",
         "Gujarat Lions",
         "Mumbai Indians",
         "Mumbai Indians",
         "KH Pandya",
         "1"
        ],
        [
         "504",
         "2016",
         "Delhi Daredevils",
         "Kolkata Knight Riders",
         "Delhi Daredevils",
         "CR Brathwaite",
         "0"
        ],
        [
         "5",
         "2015",
         "Rajasthan Royals",
         "Kings XI Punjab",
         "Kings XI Punjab",
         "SE Marsh",
         "1"
        ],
        [
         "4",
         "2014",
         "Rajasthan Royals",
         "Kolkata Knight Riders",
         "Rajasthan Royals",
         "JP Faulkner",
         "1"
        ],
        [
         "2",
         "2013",
         "Delhi Daredevils",
         "Royal Challengers Bangalore",
         "Royal Challengers Bangalore",
         "V Kohli",
         "1"
        ],
        [
         "242",
         "2012",
         "Chennai Super Kings",
         "Deccan Chargers",
         "Chennai Super Kings",
         "RA Jadeja",
         "0"
        ],
        [
         "171",
         "2011",
         "Chennai Super Kings",
         "Deccan Chargers",
         "Chennai Super Kings",
         "JA Morkel",
         "0"
        ],
        [
         "0",
         "2010",
         "Kings XI Punjab",
         "Chennai Super Kings",
         "Kings XI Punjab",
         "J Theron",
         "1"
        ],
        [
         "1",
         "2009",
         "Rajasthan Royals",
         "Kolkata Knight Riders",
         "Rajasthan Royals",
         "YK Pathan",
         "1"
        ],
        [
         "7",
         "2008",
         "Chennai Super Kings",
         "Rajasthan Royals",
         "Rajasthan Royals",
         "Sohail Tanvir",
         "0"
        ]
       ],
       "shape": {
        "columns": 6,
        "rows": 10
       }
      },
      "text/html": [
       "<div>\n",
       "<style scoped>\n",
       "    .dataframe tbody tr th:only-of-type {\n",
       "        vertical-align: middle;\n",
       "    }\n",
       "\n",
       "    .dataframe tbody tr th {\n",
       "        vertical-align: top;\n",
       "    }\n",
       "\n",
       "    .dataframe thead th {\n",
       "        text-align: right;\n",
       "    }\n",
       "</style>\n",
       "<table border=\"1\" class=\"dataframe\">\n",
       "  <thead>\n",
       "    <tr style=\"text-align: right;\">\n",
       "      <th></th>\n",
       "      <th>season</th>\n",
       "      <th>team1</th>\n",
       "      <th>team2</th>\n",
       "      <th>winner</th>\n",
       "      <th>player_of_match</th>\n",
       "      <th>is_super_over</th>\n",
       "    </tr>\n",
       "  </thead>\n",
       "  <tbody>\n",
       "    <tr>\n",
       "      <th>6</th>\n",
       "      <td>2017</td>\n",
       "      <td>Gujarat Lions</td>\n",
       "      <td>Mumbai Indians</td>\n",
       "      <td>Mumbai Indians</td>\n",
       "      <td>KH Pandya</td>\n",
       "      <td>1</td>\n",
       "    </tr>\n",
       "    <tr>\n",
       "      <th>504</th>\n",
       "      <td>2016</td>\n",
       "      <td>Delhi Daredevils</td>\n",
       "      <td>Kolkata Knight Riders</td>\n",
       "      <td>Delhi Daredevils</td>\n",
       "      <td>CR Brathwaite</td>\n",
       "      <td>0</td>\n",
       "    </tr>\n",
       "    <tr>\n",
       "      <th>5</th>\n",
       "      <td>2015</td>\n",
       "      <td>Rajasthan Royals</td>\n",
       "      <td>Kings XI Punjab</td>\n",
       "      <td>Kings XI Punjab</td>\n",
       "      <td>SE Marsh</td>\n",
       "      <td>1</td>\n",
       "    </tr>\n",
       "    <tr>\n",
       "      <th>4</th>\n",
       "      <td>2014</td>\n",
       "      <td>Rajasthan Royals</td>\n",
       "      <td>Kolkata Knight Riders</td>\n",
       "      <td>Rajasthan Royals</td>\n",
       "      <td>JP Faulkner</td>\n",
       "      <td>1</td>\n",
       "    </tr>\n",
       "    <tr>\n",
       "      <th>2</th>\n",
       "      <td>2013</td>\n",
       "      <td>Delhi Daredevils</td>\n",
       "      <td>Royal Challengers Bangalore</td>\n",
       "      <td>Royal Challengers Bangalore</td>\n",
       "      <td>V Kohli</td>\n",
       "      <td>1</td>\n",
       "    </tr>\n",
       "    <tr>\n",
       "      <th>242</th>\n",
       "      <td>2012</td>\n",
       "      <td>Chennai Super Kings</td>\n",
       "      <td>Deccan Chargers</td>\n",
       "      <td>Chennai Super Kings</td>\n",
       "      <td>RA Jadeja</td>\n",
       "      <td>0</td>\n",
       "    </tr>\n",
       "    <tr>\n",
       "      <th>171</th>\n",
       "      <td>2011</td>\n",
       "      <td>Chennai Super Kings</td>\n",
       "      <td>Deccan Chargers</td>\n",
       "      <td>Chennai Super Kings</td>\n",
       "      <td>JA Morkel</td>\n",
       "      <td>0</td>\n",
       "    </tr>\n",
       "    <tr>\n",
       "      <th>0</th>\n",
       "      <td>2010</td>\n",
       "      <td>Kings XI Punjab</td>\n",
       "      <td>Chennai Super Kings</td>\n",
       "      <td>Kings XI Punjab</td>\n",
       "      <td>J Theron</td>\n",
       "      <td>1</td>\n",
       "    </tr>\n",
       "    <tr>\n",
       "      <th>1</th>\n",
       "      <td>2009</td>\n",
       "      <td>Rajasthan Royals</td>\n",
       "      <td>Kolkata Knight Riders</td>\n",
       "      <td>Rajasthan Royals</td>\n",
       "      <td>YK Pathan</td>\n",
       "      <td>1</td>\n",
       "    </tr>\n",
       "    <tr>\n",
       "      <th>7</th>\n",
       "      <td>2008</td>\n",
       "      <td>Chennai Super Kings</td>\n",
       "      <td>Rajasthan Royals</td>\n",
       "      <td>Rajasthan Royals</td>\n",
       "      <td>Sohail Tanvir</td>\n",
       "      <td>0</td>\n",
       "    </tr>\n",
       "  </tbody>\n",
       "</table>\n",
       "</div>"
      ],
      "text/plain": [
       "     season                team1                        team2  \\\n",
       "6      2017        Gujarat Lions               Mumbai Indians   \n",
       "504    2016     Delhi Daredevils        Kolkata Knight Riders   \n",
       "5      2015     Rajasthan Royals              Kings XI Punjab   \n",
       "4      2014     Rajasthan Royals        Kolkata Knight Riders   \n",
       "2      2013     Delhi Daredevils  Royal Challengers Bangalore   \n",
       "242    2012  Chennai Super Kings              Deccan Chargers   \n",
       "171    2011  Chennai Super Kings              Deccan Chargers   \n",
       "0      2010      Kings XI Punjab          Chennai Super Kings   \n",
       "1      2009     Rajasthan Royals        Kolkata Knight Riders   \n",
       "7      2008  Chennai Super Kings             Rajasthan Royals   \n",
       "\n",
       "                          winner player_of_match  is_super_over  \n",
       "6                 Mumbai Indians       KH Pandya              1  \n",
       "504             Delhi Daredevils   CR Brathwaite              0  \n",
       "5                Kings XI Punjab        SE Marsh              1  \n",
       "4               Rajasthan Royals     JP Faulkner              1  \n",
       "2    Royal Challengers Bangalore         V Kohli              1  \n",
       "242          Chennai Super Kings       RA Jadeja              0  \n",
       "171          Chennai Super Kings       JA Morkel              0  \n",
       "0                Kings XI Punjab        J Theron              1  \n",
       "1               Rajasthan Royals       YK Pathan              1  \n",
       "7               Rajasthan Royals   Sohail Tanvir              0  "
      ]
     },
     "execution_count": 54,
     "metadata": {},
     "output_type": "execute_result"
    }
   ],
   "source": [
    "super"
   ]
  },
  {
   "cell_type": "code",
   "execution_count": 55,
   "id": "2957724e",
   "metadata": {},
   "outputs": [
    {
     "ename": "NameError",
     "evalue": "name 'vk' is not defined",
     "output_type": "error",
     "traceback": [
      "\u001b[31m---------------------------------------------------------------------------\u001b[39m",
      "\u001b[31mNameError\u001b[39m                                 Traceback (most recent call last)",
      "\u001b[36mCell\u001b[39m\u001b[36m \u001b[39m\u001b[32mIn[55]\u001b[39m\u001b[32m, line 1\u001b[39m\n\u001b[32m----> \u001b[39m\u001b[32m1\u001b[39m \u001b[43mvk\u001b[49m.columns\n",
      "\u001b[31mNameError\u001b[39m: name 'vk' is not defined"
     ]
    }
   ],
   "source": [
    "vk.columns"
   ]
  },
  {
   "cell_type": "code",
   "execution_count": null,
   "id": "539416fe",
   "metadata": {},
   "outputs": [],
   "source": [
    "vk =data[data['batsman']==\"V Kohli\"]"
   ]
  },
  {
   "cell_type": "code",
   "execution_count": null,
   "id": "43d140d7",
   "metadata": {},
   "outputs": [],
   "source": [
    "vk_per_season= (vk.groupby('season')['batsman_runs'].sum()).sort_values(ascending=0).reset_index()"
   ]
  },
  {
   "cell_type": "code",
   "execution_count": null,
   "id": "8f0132ce",
   "metadata": {},
   "outputs": [
    {
     "data": {
      "text/html": [
       "<div>\n",
       "<style scoped>\n",
       "    .dataframe tbody tr th:only-of-type {\n",
       "        vertical-align: middle;\n",
       "    }\n",
       "\n",
       "    .dataframe tbody tr th {\n",
       "        vertical-align: top;\n",
       "    }\n",
       "\n",
       "    .dataframe thead th {\n",
       "        text-align: right;\n",
       "    }\n",
       "</style>\n",
       "<table border=\"1\" class=\"dataframe\">\n",
       "  <thead>\n",
       "    <tr style=\"text-align: right;\">\n",
       "      <th></th>\n",
       "      <th>season</th>\n",
       "      <th>batsman_runs</th>\n",
       "    </tr>\n",
       "  </thead>\n",
       "  <tbody>\n",
       "    <tr>\n",
       "      <th>0</th>\n",
       "      <td>2016</td>\n",
       "      <td>973</td>\n",
       "    </tr>\n",
       "    <tr>\n",
       "      <th>1</th>\n",
       "      <td>2013</td>\n",
       "      <td>639</td>\n",
       "    </tr>\n",
       "    <tr>\n",
       "      <th>2</th>\n",
       "      <td>2011</td>\n",
       "      <td>557</td>\n",
       "    </tr>\n",
       "    <tr>\n",
       "      <th>3</th>\n",
       "      <td>2015</td>\n",
       "      <td>505</td>\n",
       "    </tr>\n",
       "    <tr>\n",
       "      <th>4</th>\n",
       "      <td>2012</td>\n",
       "      <td>364</td>\n",
       "    </tr>\n",
       "    <tr>\n",
       "      <th>5</th>\n",
       "      <td>2014</td>\n",
       "      <td>359</td>\n",
       "    </tr>\n",
       "    <tr>\n",
       "      <th>6</th>\n",
       "      <td>2017</td>\n",
       "      <td>308</td>\n",
       "    </tr>\n",
       "    <tr>\n",
       "      <th>7</th>\n",
       "      <td>2010</td>\n",
       "      <td>307</td>\n",
       "    </tr>\n",
       "    <tr>\n",
       "      <th>8</th>\n",
       "      <td>2009</td>\n",
       "      <td>246</td>\n",
       "    </tr>\n",
       "    <tr>\n",
       "      <th>9</th>\n",
       "      <td>2008</td>\n",
       "      <td>165</td>\n",
       "    </tr>\n",
       "  </tbody>\n",
       "</table>\n",
       "</div>"
      ],
      "text/plain": [
       "   season  batsman_runs\n",
       "0    2016           973\n",
       "1    2013           639\n",
       "2    2011           557\n",
       "3    2015           505\n",
       "4    2012           364\n",
       "5    2014           359\n",
       "6    2017           308\n",
       "7    2010           307\n",
       "8    2009           246\n",
       "9    2008           165"
      ]
     },
     "execution_count": 258,
     "metadata": {},
     "output_type": "execute_result"
    }
   ],
   "source": [
    "vk_per_season"
   ]
  },
  {
   "cell_type": "code",
   "execution_count": null,
   "id": "1a9aec78",
   "metadata": {},
   "outputs": [],
   "source": []
  },
  {
   "cell_type": "code",
   "execution_count": null,
   "id": "17a7272c",
   "metadata": {},
   "outputs": [
    {
     "data": {
      "text/plain": [
       "Text(0.5, 1.0, 'vk runs per season ')"
      ]
     },
     "execution_count": 268,
     "metadata": {},
     "output_type": "execute_result"
    },
    {
     "data": {
      "image/png": "[encoded data removed]",
      "text/plain": [
       "<Figure size 640x480 with 1 Axes>"
      ]
     },
     "metadata": {},
     "output_type": "display_data"
    }
   ],
   "source": [
    "plt.plot(vk_per_season['batsman_runs'],vk_per_season['season'],color='#432DD7',linestyle='dashdot',marker=6,markersize=6,label='vk')\n",
    "plt.legend()\n",
    "plt.xlabel('season')\n",
    "plt.ylabel('run per season most')\n",
    "plt.title('vk runs per season ')"
   ]
  },
  {
   "cell_type": "code",
   "execution_count": null,
   "id": "9e48eb9e",
   "metadata": {},
   "outputs": [
    {
     "data": {
      "text/plain": [
       "Text(0.5, 1.0, 'vk runs per season ')"
      ]
     },
     "execution_count": 266,
     "metadata": {},
     "output_type": "execute_result"
    },
    {
     "data": {
      "image/png": "[encoded data removed]",
      "text/plain": [
       "<Figure size 640x480 with 1 Axes>"
      ]
     },
     "metadata": {},
     "output_type": "display_data"
    }
   ],
   "source": [
    "plt.bar(vk_per_season['season'],vk_per_season['batsman_runs'],color='green',width=0.8,label='vk runs')\n",
    "plt.legend()\n",
    "plt.xlabel('season')\n",
    "plt.ylabel('run per season most')\n",
    "plt.title('vk runs per season ')"
   ]
  },
  {
   "cell_type": "code",
   "execution_count": null,
   "id": "db527069",
   "metadata": {},
   "outputs": [
    {
     "data": {
      "text/plain": [
       "(array([1., 5., 2., 1., 1.]),\n",
       " array([   0.,  200.,  400.,  600.,  800., 1000.]),\n",
       " <BarContainer object of 5 artists>)"
      ]
     },
     "execution_count": 272,
     "metadata": {},
     "output_type": "execute_result"
    },
    {
     "data": {
      "image/png": "[encoded data removed]",
      "text/plain": [
       "<Figure size 640x480 with 1 Axes>"
      ]
     },
     "metadata": {},
     "output_type": "display_data"
    }
   ],
   "source": [
    "plt.hist(vk_per_season['batsman_runs'],bins=[0,200,400,600,800,1000],edgecolor='black')"
   ]
  },
  {
   "cell_type": "code",
   "execution_count": null,
   "id": "0b57d128",
   "metadata": {},
   "outputs": [
    {
     "data": {
      "text/plain": [
       "(array([2., 0., 4., 0., 2., 1., 0., 0., 1.]),\n",
       " array([ 100.,  250.,  300.,  400.,  500.,  600.,  700.,  800.,  900.,\n",
       "        1000.]),\n",
       " <BarContainer object of 9 artists>)"
      ]
     },
     "execution_count": 270,
     "metadata": {},
     "output_type": "execute_result"
    },
    {
     "data": {
      "image/png": "[encoded data removed]",
      "text/plain": [
       "<Figure size 640x480 with 1 Axes>"
      ]
     },
     "metadata": {},
     "output_type": "display_data"
    }
   ],
   "source": [
    "plt.hist(vk_per_season['batsman_runs'], \n",
    "         bins=[100,250,300,400,500,600,700,800,900,1000],\n",
    "         color=\"skyblue\", edgecolor=\"black\")"
   ]
  },
  {
   "cell_type": "code",
   "execution_count": null,
   "id": "69b2425a",
   "metadata": {},
   "outputs": [],
   "source": []
  }
 ],
 "metadata": {
  "kernelspec": {
   "display_name": "Python 3",
   "language": "python",
   "name": "python3"
  },
  "language_info": {
   "codemirror_mode": {
    "name": "ipython",
    "version": 3
   },
   "file_extension": ".py",
   "mimetype": "text/x-python",
   "name": "python",
   "nbconvert_exporter": "python",
   "pygments_lexer": "ipython3",
   "version": "3.13.7"
  }
 },
 "nbformat": 4,
 "nbformat_minor": 5
}
