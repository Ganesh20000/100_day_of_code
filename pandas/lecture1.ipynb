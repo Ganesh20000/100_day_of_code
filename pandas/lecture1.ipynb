{
 "cells": [
  {
   "cell_type": "markdown",
   "id": "e7f49500",
   "metadata": {},
   "source": [
    "pandas is fast poweful flexible easy to use open source data analysi and manipualtion tool "
   ]
  },
  {
   "cell_type": "markdown",
   "id": "a50b8c32",
   "metadata": {},
   "source": [
    "series is like column in table it 1-D ARRAY holding data of any type\n"
   ]
  },
  {
   "cell_type": "code",
   "execution_count": 6,
   "id": "9a6f49de",
   "metadata": {},
   "outputs": [],
   "source": [
    "import numpy as np\n",
    "import pandas as pd\n"
   ]
  },
  {
   "cell_type": "markdown",
   "id": "2b7be260",
   "metadata": {},
   "source": [
    "series using list"
   ]
  },
  {
   "cell_type": "code",
   "execution_count": 10,
   "id": "ede91aa3",
   "metadata": {},
   "outputs": [
    {
     "data": {
      "text/plain": [
       "0      india \n",
       "1    pakistan\n",
       "2    srilanka\n",
       "3       butan\n",
       "4       nepal\n",
       "dtype: object"
      ]
     },
     "execution_count": 10,
     "metadata": {},
     "output_type": "execute_result"
    }
   ],
   "source": [
    "#series form list\n",
    "country = ['india ','pakistan','srilanka','butan','nepal']\n",
    "pd.Series(country)"
   ]
  },
  {
   "cell_type": "code",
   "execution_count": 65,
   "id": "1132d3f3",
   "metadata": {},
   "outputs": [],
   "source": [
    "age =[44,88,19,56,58,90]\n",
    "age_series =pd.Series(age)"
   ]
  },
  {
   "cell_type": "code",
   "execution_count": 13,
   "id": "977f9dab",
   "metadata": {},
   "outputs": [
    {
     "name": "stdout",
     "output_type": "stream",
     "text": [
      "math      60\n",
      "eng       88\n",
      "sci       44\n",
      "social    55\n",
      "dtype: int64\n"
     ]
    }
   ],
   "source": [
    "#custom index\n",
    "\n",
    "mark =[60,88,44,55]\n",
    "subject=['math','eng','sci','social']\n",
    "print(pd.Series(mark,index=subject))"
   ]
  },
  {
   "cell_type": "code",
   "execution_count": 15,
   "id": "6ee18845",
   "metadata": {},
   "outputs": [
    {
     "name": "stdout",
     "output_type": "stream",
     "text": [
      "math      60\n",
      "eng       88\n",
      "sci       44\n",
      "social    55\n",
      "Name: Abc high schol, dtype: int64\n"
     ]
    }
   ],
   "source": [
    "marks_stud =pd.Series(mark,index= subject,name=\"Abc high schol\")\n",
    "print(marks_stud)"
   ]
  },
  {
   "cell_type": "code",
   "execution_count": 16,
   "id": "3b5a2348",
   "metadata": {},
   "outputs": [
    {
     "name": "stdout",
     "output_type": "stream",
     "text": [
      "math      60\n",
      "eng       88\n",
      "sci       44\n",
      "social    55\n",
      "Name: Abc high schol, dtype: int64\n"
     ]
    }
   ],
   "source": [
    "print(marks_stud)"
   ]
  },
  {
   "cell_type": "markdown",
   "id": "76311db7",
   "metadata": {},
   "source": [
    "series with dict\n"
   ]
  },
  {
   "cell_type": "code",
   "execution_count": 59,
   "id": "077c95db",
   "metadata": {},
   "outputs": [
    {
     "name": "stdout",
     "output_type": "stream",
     "text": [
      "dict_values([60, 88, 44, 55, 59])\n"
     ]
    }
   ],
   "source": [
    "dict ={\n",
    "\"math\": 60,\n",
    "\"eng\":  88,\n",
    "\"sci\" :44,\n",
    "\"social\":55,\n",
    "\"hindi\":59 ,\n",
    "\n",
    "    \n",
    "}\n",
    "\n",
    "print(dict.values())\n"
   ]
  },
  {
   "cell_type": "code",
   "execution_count": 60,
   "id": "db4747c7",
   "metadata": {},
   "outputs": [
    {
     "data": {
      "text/plain": [
       "math      60\n",
       "eng       88\n",
       "sci       44\n",
       "social    55\n",
       "hindi     59\n",
       "Name: dict values, dtype: int64"
      ]
     },
     "execution_count": 60,
     "metadata": {},
     "output_type": "execute_result"
    }
   ],
   "source": [
    "mark = pd.Series(dict,name=\"dict values\")\n",
    "mark"
   ]
  },
  {
   "cell_type": "markdown",
   "id": "f6f528ef",
   "metadata": {},
   "source": [
    "series attributes"
   ]
  },
  {
   "cell_type": "code",
   "execution_count": 55,
   "id": "259788eb",
   "metadata": {},
   "outputs": [
    {
     "data": {
      "text/plain": [
       "5"
      ]
     },
     "execution_count": 55,
     "metadata": {},
     "output_type": "execute_result"
    }
   ],
   "source": [
    "mark.size"
   ]
  },
  {
   "cell_type": "code",
   "execution_count": 56,
   "id": "789eacf1",
   "metadata": {},
   "outputs": [
    {
     "data": {
      "text/plain": [
       "dtype('int64')"
      ]
     },
     "execution_count": 56,
     "metadata": {},
     "output_type": "execute_result"
    }
   ],
   "source": [
    "mark.dtype"
   ]
  },
  {
   "cell_type": "code",
   "execution_count": 57,
   "id": "3a3361de",
   "metadata": {},
   "outputs": [
    {
     "name": "stdout",
     "output_type": "stream",
     "text": [
      "dict values\n",
      "math      60\n",
      "eng       88\n",
      "sci       44\n",
      "social    55\n",
      "Name: Abc high schol, dtype: int64\n"
     ]
    }
   ],
   "source": [
    "print(mark.name)\n",
    "print(marks_stud)"
   ]
  },
  {
   "cell_type": "code",
   "execution_count": 61,
   "id": "1a6bf56c",
   "metadata": {},
   "outputs": [
    {
     "data": {
      "text/plain": [
       "True"
      ]
     },
     "execution_count": 61,
     "metadata": {},
     "output_type": "execute_result"
    }
   ],
   "source": [
    "mark.is_unique"
   ]
  },
  {
   "cell_type": "code",
   "execution_count": 44,
   "id": "91ec54bf",
   "metadata": {},
   "outputs": [
    {
     "data": {
      "text/plain": [
       "True"
      ]
     },
     "execution_count": 44,
     "metadata": {},
     "output_type": "execute_result"
    }
   ],
   "source": [
    "marks_stud.is_unique"
   ]
  },
  {
   "cell_type": "code",
   "execution_count": 62,
   "id": "86f8f041",
   "metadata": {},
   "outputs": [
    {
     "data": {
      "text/plain": [
       "Index(['math', 'eng', 'sci', 'social', 'hindi'], dtype='object')"
      ]
     },
     "execution_count": 62,
     "metadata": {},
     "output_type": "execute_result"
    }
   ],
   "source": [
    "mark.index"
   ]
  },
  {
   "cell_type": "code",
   "execution_count": 71,
   "id": "fc2127d8",
   "metadata": {},
   "outputs": [
    {
     "data": {
      "text/plain": [
       "0    44\n",
       "1    88\n",
       "2    19\n",
       "3    56\n",
       "4    58\n",
       "5    90\n",
       "dtype: int64"
      ]
     },
     "execution_count": 71,
     "metadata": {},
     "output_type": "execute_result"
    }
   ],
   "source": [
    "age_series"
   ]
  },
  {
   "cell_type": "code",
   "execution_count": 68,
   "id": "47700011",
   "metadata": {},
   "outputs": [
    {
     "data": {
      "text/plain": [
       "RangeIndex(start=0, stop=6, step=1)"
      ]
     },
     "execution_count": 68,
     "metadata": {},
     "output_type": "execute_result"
    }
   ],
   "source": [
    "age_series.index"
   ]
  },
  {
   "cell_type": "code",
   "execution_count": 69,
   "id": "6c8bfb3e",
   "metadata": {},
   "outputs": [
    {
     "data": {
      "text/plain": [
       "True"
      ]
     },
     "execution_count": 69,
     "metadata": {},
     "output_type": "execute_result"
    }
   ],
   "source": [
    "age_series.is_unique"
   ]
  },
  {
   "cell_type": "markdown",
   "id": "a5fc9435",
   "metadata": {},
   "source": [
    "values attributes"
   ]
  },
  {
   "cell_type": "code",
   "execution_count": 74,
   "id": "753829a6",
   "metadata": {},
   "outputs": [
    {
     "data": {
      "text/plain": [
       "array([60, 88, 44, 55, 59])"
      ]
     },
     "execution_count": 74,
     "metadata": {},
     "output_type": "execute_result"
    }
   ],
   "source": [
    "mark.values"
   ]
  },
  {
   "cell_type": "code",
   "execution_count": 75,
   "id": "d6c83ee9",
   "metadata": {},
   "outputs": [
    {
     "data": {
      "text/plain": [
       "array([44, 88, 19, 56, 58, 90])"
      ]
     },
     "execution_count": 75,
     "metadata": {},
     "output_type": "execute_result"
    }
   ],
   "source": [
    "age_series.values"
   ]
  },
  {
   "cell_type": "code",
   "execution_count": 93,
   "id": "d228e533",
   "metadata": {},
   "outputs": [
    {
     "data": {
      "text/plain": [
       "pandas.core.frame.DataFrame"
      ]
     },
     "execution_count": 93,
     "metadata": {},
     "output_type": "execute_result"
    }
   ],
   "source": [
    "df =pd.read_csv('kohli_ipl.csv')\n",
    "df.head()\n",
    "type(df)"
   ]
  },
  {
   "cell_type": "code",
   "execution_count": 95,
   "id": "ccfab7c3",
   "metadata": {},
   "outputs": [
    {
     "data": {
      "text/html": [
       "<div>\n",
       "<style scoped>\n",
       "    .dataframe tbody tr th:only-of-type {\n",
       "        vertical-align: middle;\n",
       "    }\n",
       "\n",
       "    .dataframe tbody tr th {\n",
       "        vertical-align: top;\n",
       "    }\n",
       "\n",
       "    .dataframe thead th {\n",
       "        text-align: right;\n",
       "    }\n",
       "</style>\n",
       "<table border=\"1\" class=\"dataframe\">\n",
       "  <thead>\n",
       "    <tr style=\"text-align: right;\">\n",
       "      <th></th>\n",
       "      <th>movie</th>\n",
       "      <th>lead</th>\n",
       "    </tr>\n",
       "  </thead>\n",
       "  <tbody>\n",
       "    <tr>\n",
       "      <th>0</th>\n",
       "      <td>Uri: The Surgical Strike</td>\n",
       "      <td>Vicky Kaushal</td>\n",
       "    </tr>\n",
       "    <tr>\n",
       "      <th>1</th>\n",
       "      <td>Battalion 609</td>\n",
       "      <td>Vicky Ahuja</td>\n",
       "    </tr>\n",
       "    <tr>\n",
       "      <th>2</th>\n",
       "      <td>The Accidental Prime Minister (film)</td>\n",
       "      <td>Anupam Kher</td>\n",
       "    </tr>\n",
       "    <tr>\n",
       "      <th>3</th>\n",
       "      <td>Why Cheat India</td>\n",
       "      <td>Emraan Hashmi</td>\n",
       "    </tr>\n",
       "    <tr>\n",
       "      <th>4</th>\n",
       "      <td>Evening Shadows</td>\n",
       "      <td>Mona Ambegaonkar</td>\n",
       "    </tr>\n",
       "  </tbody>\n",
       "</table>\n",
       "</div>"
      ],
      "text/plain": [
       "                                  movie              lead\n",
       "0              Uri: The Surgical Strike     Vicky Kaushal\n",
       "1                         Battalion 609       Vicky Ahuja\n",
       "2  The Accidental Prime Minister (film)       Anupam Kher\n",
       "3                       Why Cheat India     Emraan Hashmi\n",
       "4                       Evening Shadows  Mona Ambegaonkar"
      ]
     },
     "execution_count": 95,
     "metadata": {},
     "output_type": "execute_result"
    }
   ],
   "source": [
    "df.head()"
   ]
  },
  {
   "cell_type": "code",
   "execution_count": 94,
   "id": "352c1864",
   "metadata": {},
   "outputs": [
    {
     "data": {
      "text/html": [
       "<div>\n",
       "<style scoped>\n",
       "    .dataframe tbody tr th:only-of-type {\n",
       "        vertical-align: middle;\n",
       "    }\n",
       "\n",
       "    .dataframe tbody tr th {\n",
       "        vertical-align: top;\n",
       "    }\n",
       "\n",
       "    .dataframe thead th {\n",
       "        text-align: right;\n",
       "    }\n",
       "</style>\n",
       "<table border=\"1\" class=\"dataframe\">\n",
       "  <thead>\n",
       "    <tr style=\"text-align: right;\">\n",
       "      <th></th>\n",
       "      <th>movie</th>\n",
       "      <th>lead</th>\n",
       "    </tr>\n",
       "  </thead>\n",
       "  <tbody>\n",
       "    <tr>\n",
       "      <th>0</th>\n",
       "      <td>Uri: The Surgical Strike</td>\n",
       "      <td>Vicky Kaushal</td>\n",
       "    </tr>\n",
       "    <tr>\n",
       "      <th>1</th>\n",
       "      <td>Battalion 609</td>\n",
       "      <td>Vicky Ahuja</td>\n",
       "    </tr>\n",
       "    <tr>\n",
       "      <th>2</th>\n",
       "      <td>The Accidental Prime Minister (film)</td>\n",
       "      <td>Anupam Kher</td>\n",
       "    </tr>\n",
       "    <tr>\n",
       "      <th>3</th>\n",
       "      <td>Why Cheat India</td>\n",
       "      <td>Emraan Hashmi</td>\n",
       "    </tr>\n",
       "    <tr>\n",
       "      <th>4</th>\n",
       "      <td>Evening Shadows</td>\n",
       "      <td>Mona Ambegaonkar</td>\n",
       "    </tr>\n",
       "  </tbody>\n",
       "</table>\n",
       "</div>"
      ],
      "text/plain": [
       "                                  movie              lead\n",
       "0              Uri: The Surgical Strike     Vicky Kaushal\n",
       "1                         Battalion 609       Vicky Ahuja\n",
       "2  The Accidental Prime Minister (film)       Anupam Kher\n",
       "3                       Why Cheat India     Emraan Hashmi\n",
       "4                       Evening Shadows  Mona Ambegaonkar"
      ]
     },
     "execution_count": 94,
     "metadata": {},
     "output_type": "execute_result"
    }
   ],
   "source": [
    "df= pd.read_csv(\"bollywood.csv\")\n",
    "df.head()"
   ]
  },
  {
   "cell_type": "code",
   "execution_count": null,
   "id": "ee20e4cf",
   "metadata": {},
   "outputs": [],
   "source": []
  }
 ],
 "metadata": {
  "kernelspec": {
   "display_name": "Python 3",
   "language": "python",
   "name": "python3"
  },
  "language_info": {
   "codemirror_mode": {
    "name": "ipython",
    "version": 3
   },
   "file_extension": ".py",
   "mimetype": "text/x-python",
   "name": "python",
   "nbconvert_exporter": "python",
   "pygments_lexer": "ipython3",
   "version": "3.13.5"
  }
 },
 "nbformat": 4,
 "nbformat_minor": 5
}
