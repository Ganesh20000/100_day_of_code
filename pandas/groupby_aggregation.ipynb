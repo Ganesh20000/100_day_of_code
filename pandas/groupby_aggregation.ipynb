{
 "cells": [
  {
   "cell_type": "markdown",
   "id": "9420c6be",
   "metadata": {},
   "source": [
    "group by and aggregation"
   ]
  },
  {
   "cell_type": "code",
   "execution_count": 1,
   "id": "91eaf257",
   "metadata": {},
   "outputs": [],
   "source": [
    "import numpy as np\n",
    "import pandas as pd"
   ]
  },
  {
   "cell_type": "code",
   "execution_count": null,
   "id": "01d55a29",
   "metadata": {},
   "outputs": [],
   "source": [
    "\n",
    "from datetime import datetime, timedelta\n",
    "\n",
    "# Define possible values\n",
    "data = {\n",
    "    'Category': [\n",
    "        'A', 'A', 'B', 'B', 'A',\n",
    "        'A', 'A', 'B', 'B', 'A'\n",
    "    ],\n",
    "    'store': [\n",
    "        ' A', ' B', ' C', ' A', ' B',\n",
    "        ' C', ' A', ' B', ' C', ' A'\n",
    "    ],\n",
    "    'Quantity': [\n",
    "        45, 32, 76, 28, 54,\n",
    "        61, 39, 22, 85, 47\n",
    "    ],\n",
    "    'sales': [\n",
    "        450, 320, 152, 260, 504,\n",
    "        610, 309, 202, 150, 407\n",
    "    ],\n",
    "    'Date': [\n",
    "        '2025-08-01', '2025-08-02', '2025-08-03', '2025-08-04', '2025-08-05',\n",
    "        '2025-08-06', '2025-08-07', '2025-08-08', '2025-08-09', '2025-08-10'\n",
    "    ]\n",
    "},\n"
   ]
  },
  {
   "cell_type": "code",
   "execution_count": 10,
   "id": "6718ed89",
   "metadata": {},
   "outputs": [],
   "source": [
    "df = pd.DataFrame(data)"
   ]
  },
  {
   "cell_type": "code",
   "execution_count": 12,
   "id": "34ee9954",
   "metadata": {},
   "outputs": [
    {
     "data": {
      "text/html": [
       "<div>\n",
       "<style scoped>\n",
       "    .dataframe tbody tr th:only-of-type {\n",
       "        vertical-align: middle;\n",
       "    }\n",
       "\n",
       "    .dataframe tbody tr th {\n",
       "        vertical-align: top;\n",
       "    }\n",
       "\n",
       "    .dataframe thead th {\n",
       "        text-align: right;\n",
       "    }\n",
       "</style>\n",
       "<table border=\"1\" class=\"dataframe\">\n",
       "  <thead>\n",
       "    <tr style=\"text-align: right;\">\n",
       "      <th></th>\n",
       "      <th>Category</th>\n",
       "      <th>store</th>\n",
       "      <th>Quantity</th>\n",
       "      <th>sales</th>\n",
       "      <th>Date</th>\n",
       "    </tr>\n",
       "  </thead>\n",
       "  <tbody>\n",
       "    <tr>\n",
       "      <th>0</th>\n",
       "      <td>A</td>\n",
       "      <td>A</td>\n",
       "      <td>45</td>\n",
       "      <td>450</td>\n",
       "      <td>2025-08-01</td>\n",
       "    </tr>\n",
       "    <tr>\n",
       "      <th>1</th>\n",
       "      <td>A</td>\n",
       "      <td>B</td>\n",
       "      <td>32</td>\n",
       "      <td>320</td>\n",
       "      <td>2025-08-02</td>\n",
       "    </tr>\n",
       "    <tr>\n",
       "      <th>2</th>\n",
       "      <td>B</td>\n",
       "      <td>C</td>\n",
       "      <td>76</td>\n",
       "      <td>152</td>\n",
       "      <td>2025-08-03</td>\n",
       "    </tr>\n",
       "    <tr>\n",
       "      <th>3</th>\n",
       "      <td>B</td>\n",
       "      <td>A</td>\n",
       "      <td>28</td>\n",
       "      <td>260</td>\n",
       "      <td>2025-08-04</td>\n",
       "    </tr>\n",
       "    <tr>\n",
       "      <th>4</th>\n",
       "      <td>A</td>\n",
       "      <td>B</td>\n",
       "      <td>54</td>\n",
       "      <td>504</td>\n",
       "      <td>2025-08-05</td>\n",
       "    </tr>\n",
       "  </tbody>\n",
       "</table>\n",
       "</div>"
      ],
      "text/plain": [
       "  Category store  Quantity  sales        Date\n",
       "0        A     A        45    450  2025-08-01\n",
       "1        A     B        32    320  2025-08-02\n",
       "2        B     C        76    152  2025-08-03\n",
       "3        B     A        28    260  2025-08-04\n",
       "4        A     B        54    504  2025-08-05"
      ]
     },
     "execution_count": 12,
     "metadata": {},
     "output_type": "execute_result"
    }
   ],
   "source": [
    "df.head()"
   ]
  },
  {
   "cell_type": "markdown",
   "id": "c3418c98",
   "metadata": {},
   "source": [
    "group by catogory and calculate the sum of sales"
   ]
  },
  {
   "cell_type": "code",
   "execution_count": 16,
   "id": "a35caecb",
   "metadata": {},
   "outputs": [
    {
     "data": {
      "text/plain": [
       "Category\n",
       "A    2600\n",
       "B     764\n",
       "Name: sales, dtype: int64"
      ]
     },
     "execution_count": 16,
     "metadata": {},
     "output_type": "execute_result"
    }
   ],
   "source": [
    "sum_sales = df.groupby('Category')['sales'].sum()\n",
    "sum_sales"
   ]
  },
  {
   "cell_type": "code",
   "execution_count": 18,
   "id": "7e65656d",
   "metadata": {},
   "outputs": [
    {
     "data": {
      "text/plain": [
       "store\n",
       "A    1426\n",
       "B    1026\n",
       "C     912\n",
       "Name: sales, dtype: int64"
      ]
     },
     "execution_count": 18,
     "metadata": {},
     "output_type": "execute_result"
    }
   ],
   "source": [
    "#group by store and calculate the sum of sales\n",
    "g_store = df.groupby('store')['sales'].sum()\n",
    "g_store"
   ]
  },
  {
   "cell_type": "code",
   "execution_count": 19,
   "id": "991ffcd7",
   "metadata": {},
   "outputs": [],
   "source": [
    "#Multiple lines group by\n",
    "\n",
    "mul = df.groupby(['Category','store'])['sales'].sum()"
   ]
  },
  {
   "cell_type": "code",
   "execution_count": 20,
   "id": "319034c6",
   "metadata": {},
   "outputs": [
    {
     "data": {
      "text/plain": [
       "Category  store\n",
       "A         A        1166\n",
       "          B         824\n",
       "          C         610\n",
       "B         A         260\n",
       "          B         202\n",
       "          C         302\n",
       "Name: sales, dtype: int64"
      ]
     },
     "execution_count": 20,
     "metadata": {},
     "output_type": "execute_result"
    }
   ],
   "source": [
    "mul"
   ]
  },
  {
   "cell_type": "markdown",
   "id": "82086379",
   "metadata": {},
   "source": [
    "aggregation"
   ]
  },
  {
   "cell_type": "code",
   "execution_count": 22,
   "id": "3e72cba2",
   "metadata": {},
   "outputs": [
    {
     "data": {
      "text/plain": [
       "np.float64(336.4)"
      ]
     },
     "execution_count": 22,
     "metadata": {},
     "output_type": "execute_result"
    }
   ],
   "source": [
    "df['sales'].mean()"
   ]
  },
  {
   "cell_type": "code",
   "execution_count": 23,
   "id": "6a7be3a0",
   "metadata": {},
   "outputs": [
    {
     "data": {
      "text/plain": [
       "np.float64(314.5)"
      ]
     },
     "execution_count": 23,
     "metadata": {},
     "output_type": "execute_result"
    }
   ],
   "source": [
    "df['sales'].median()"
   ]
  },
  {
   "cell_type": "code",
   "execution_count": 24,
   "id": "4373ec66",
   "metadata": {},
   "outputs": [
    {
     "data": {
      "text/plain": [
       "0    150\n",
       "1    152\n",
       "2    202\n",
       "3    260\n",
       "4    309\n",
       "5    320\n",
       "6    407\n",
       "7    450\n",
       "8    504\n",
       "9    610\n",
       "Name: sales, dtype: int64"
      ]
     },
     "execution_count": 24,
     "metadata": {},
     "output_type": "execute_result"
    }
   ],
   "source": [
    "df['sales'].mode()"
   ]
  },
  {
   "cell_type": "code",
   "execution_count": 26,
   "id": "d80b7d48",
   "metadata": {},
   "outputs": [
    {
     "data": {
      "text/plain": [
       "np.float64(154.38206574023494)"
      ]
     },
     "execution_count": 26,
     "metadata": {},
     "output_type": "execute_result"
    }
   ],
   "source": [
    "df['sales'].std()"
   ]
  },
  {
   "cell_type": "code",
   "execution_count": 27,
   "id": "09d8462c",
   "metadata": {},
   "outputs": [
    {
     "data": {
      "text/plain": [
       "np.float64(23833.822222222225)"
      ]
     },
     "execution_count": 27,
     "metadata": {},
     "output_type": "execute_result"
    }
   ],
   "source": [
    "df['sales'].var()"
   ]
  },
  {
   "cell_type": "code",
   "execution_count": 28,
   "id": "3ec48cf0",
   "metadata": {},
   "outputs": [
    {
     "data": {
      "text/plain": [
       "sum        3364.000000\n",
       "min         150.000000\n",
       "max         610.000000\n",
       "median      314.500000\n",
       "mean        336.400000\n",
       "std         154.382066\n",
       "var       23833.822222\n",
       "Name: sales, dtype: float64"
      ]
     },
     "execution_count": 28,
     "metadata": {},
     "output_type": "execute_result"
    }
   ],
   "source": [
    "df['sales'].agg(['sum','min','max','median','mean','std','var'])"
   ]
  },
  {
   "cell_type": "code",
   "execution_count": null,
   "id": "1c09f166",
   "metadata": {},
   "outputs": [],
   "source": []
  }
 ],
 "metadata": {
  "kernelspec": {
   "display_name": "Python 3",
   "language": "python",
   "name": "python3"
  },
  "language_info": {
   "codemirror_mode": {
    "name": "ipython",
    "version": 3
   },
   "file_extension": ".py",
   "mimetype": "text/x-python",
   "name": "python",
   "nbconvert_exporter": "python",
   "pygments_lexer": "ipython3",
   "version": "3.13.7"
  }
 },
 "nbformat": 4,
 "nbformat_minor": 5
}
