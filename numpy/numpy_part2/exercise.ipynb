{
 "cells": [
  {
   "cell_type": "code",
   "execution_count": 113,
   "id": "f316349f",
   "metadata": {},
   "outputs": [],
   "source": [
    "import numpy as np"
   ]
  },
  {
   "cell_type": "code",
   "execution_count": 114,
   "id": "8e4003bd",
   "metadata": {},
   "outputs": [],
   "source": [
    "sudoku = np.array([\n",
    "    [5, 3, 4, 6, 7, 8, 9, 1, 2],\n",
    "    [6, 7, 2, 1, 9, 5, 3, 4, 8],\n",
    "    [1, 9, 8, 3, 4, 2, 5, 6, 7],\n",
    "    [8, 5, 9, 7, 6, 1, 4, 2, 3],\n",
    "    [4, 2, 6, 8, 5, 3, 7, 9, 1],\n",
    "    [7, 1, 3, 9, 2, 4, 8, 5, 6],\n",
    "    [9, 6, 1, 5, 3, 7, 2, 8, 4],\n",
    "    [2, 8, 7, 4, 1, 9, 6, 3, 5],\n",
    "    [3, 4, 5, 2, 8, 6, 1, 7, 9]\n",
    "])"
   ]
  },
  {
   "cell_type": "markdown",
   "id": "a24ea122",
   "metadata": {},
   "source": [
    "print(sudoku.shape)\n",
    "print(sudoku.ndim)\n",
    "print(sudoku.dtype)"
   ]
  },
  {
   "cell_type": "code",
   "execution_count": 115,
   "id": "def73166",
   "metadata": {},
   "outputs": [
    {
     "name": "stdout",
     "output_type": "stream",
     "text": [
      "[[5 3 4 6 7 8 9 1 2]\n",
      " [6 7 2 1 9 5 3 4 8]\n",
      " [1 9 8 3 4 2 5 6 7]\n",
      " [8 5 9 7 6 1 4 2 3]\n",
      " [4 2 6 8 5 3 7 9 1]\n",
      " [7 1 3 9 2 4 8 5 6]\n",
      " [9 6 1 5 3 7 2 8 4]\n",
      " [2 8 7 4 1 9 6 3 5]\n",
      " [3 4 5 2 8 6 1 7 9]]\n"
     ]
    }
   ],
   "source": [
    "print(sudoku)"
   ]
  },
  {
   "cell_type": "code",
   "execution_count": 116,
   "id": "5f8df79d",
   "metadata": {},
   "outputs": [
    {
     "name": "stdout",
     "output_type": "stream",
     "text": [
      "(9, 9)\n",
      "2\n",
      "int64\n"
     ]
    }
   ],
   "source": [
    "print(sudoku.shape)\n",
    "print(sudoku.ndim)\n",
    "print(sudoku.dtype)"
   ]
  },
  {
   "cell_type": "code",
   "execution_count": 117,
   "id": "661cada3",
   "metadata": {},
   "outputs": [
    {
     "name": "stdout",
     "output_type": "stream",
     "text": [
      "405\n"
     ]
    }
   ],
   "source": [
    "print(np.sum(sudoku))"
   ]
  },
  {
   "cell_type": "code",
   "execution_count": 118,
   "id": "5b8bf884",
   "metadata": {},
   "outputs": [
    {
     "name": "stdout",
     "output_type": "stream",
     "text": [
      "[45 45 45 45 45 45 45 45 45]\n"
     ]
    }
   ],
   "source": [
    "print(np.sum(sudoku,axis=1))"
   ]
  },
  {
   "cell_type": "code",
   "execution_count": 119,
   "id": "7c0c3c27",
   "metadata": {},
   "outputs": [
    {
     "name": "stdout",
     "output_type": "stream",
     "text": [
      "[45 45 45 45 45 45 45 45 45]\n"
     ]
    }
   ],
   "source": [
    "row =np.sum(sudoku,axis=1)\n",
    "print(row)"
   ]
  },
  {
   "cell_type": "code",
   "execution_count": 120,
   "id": "325ae1e4",
   "metadata": {},
   "outputs": [
    {
     "name": "stdout",
     "output_type": "stream",
     "text": [
      "[45 45 45 45 45 45 45 45 45]\n"
     ]
    }
   ],
   "source": [
    "column = np.sum(sudoku,axis=0)\n",
    "print(column)"
   ]
  },
  {
   "cell_type": "code",
   "execution_count": 121,
   "id": "4c1eb691",
   "metadata": {},
   "outputs": [
    {
     "name": "stdout",
     "output_type": "stream",
     "text": [
      "[ True  True  True  True  True  True  True  True  True]\n",
      "[ True  True  True  True  True  True  True  True  True]\n"
     ]
    }
   ],
   "source": [
    "print(row==45)\n",
    "print(column==45)"
   ]
  },
  {
   "cell_type": "code",
   "execution_count": 122,
   "id": "e1412c1b",
   "metadata": {},
   "outputs": [
    {
     "name": "stdout",
     "output_type": "stream",
     "text": [
      "[[5 3 4]\n",
      " [6 7 2]\n",
      " [1 9 8]]\n"
     ]
    }
   ],
   "source": [
    "print(sudoku[0:3,0:3])"
   ]
  },
  {
   "cell_type": "code",
   "execution_count": 123,
   "id": "a8b8fe16",
   "metadata": {},
   "outputs": [
    {
     "name": "stdout",
     "output_type": "stream",
     "text": [
      "[12 19 14]\n"
     ]
    }
   ],
   "source": [
    "block1 = np.sum(sudoku[0:3,0:3],axis=0)\n",
    "print(block)"
   ]
  },
  {
   "cell_type": "code",
   "execution_count": 124,
   "id": "ace7ddc1",
   "metadata": {},
   "outputs": [
    {
     "name": "stdout",
     "output_type": "stream",
     "text": [
      "[[6 7 8]\n",
      " [1 9 5]\n",
      " [3 4 2]]\n"
     ]
    }
   ],
   "source": [
    "\n",
    "\n",
    "print(sudoku[0:3,3:6])"
   ]
  },
  {
   "cell_type": "code",
   "execution_count": 125,
   "id": "84bae1f6",
   "metadata": {},
   "outputs": [
    {
     "ename": "AttributeError",
     "evalue": "module 'numpy' has no attribute 'su'",
     "output_type": "error",
     "traceback": [
      "\u001b[31m---------------------------------------------------------------------------\u001b[39m",
      "\u001b[31mAttributeError\u001b[39m                            Traceback (most recent call last)",
      "\u001b[36mCell\u001b[39m\u001b[36m \u001b[39m\u001b[32mIn[125]\u001b[39m\u001b[32m, line 1\u001b[39m\n\u001b[32m----> \u001b[39m\u001b[32m1\u001b[39m block2= \u001b[43mnp\u001b[49m\u001b[43m.\u001b[49m\u001b[43msu\u001b[49m\n\u001b[32m      2\u001b[39m m(sudoku[\u001b[32m0\u001b[39m:\u001b[32m3\u001b[39m,\u001b[32m3\u001b[39m:\u001b[32m6\u001b[39m],axis=\u001b[32m0\u001b[39m)\n\u001b[32m      3\u001b[39m \u001b[38;5;28mprint\u001b[39m(block2)\n",
      "\u001b[36mFile \u001b[39m\u001b[32m~\\AppData\\Roaming\\Python\\Python313\\site-packages\\numpy\\__init__.py:808\u001b[39m, in \u001b[36m__getattr__\u001b[39m\u001b[34m(attr)\u001b[39m\n\u001b[32m    805\u001b[39m     \u001b[38;5;28;01mimport\u001b[39;00m\u001b[38;5;250m \u001b[39m\u001b[34;01mnumpy\u001b[39;00m\u001b[34;01m.\u001b[39;00m\u001b[34;01mchar\u001b[39;00m\u001b[38;5;250m \u001b[39m\u001b[38;5;28;01mas\u001b[39;00m\u001b[38;5;250m \u001b[39m\u001b[34;01mchar\u001b[39;00m\n\u001b[32m    806\u001b[39m     \u001b[38;5;28;01mreturn\u001b[39;00m char.chararray\n\u001b[32m--> \u001b[39m\u001b[32m808\u001b[39m \u001b[38;5;28;01mraise\u001b[39;00m \u001b[38;5;167;01mAttributeError\u001b[39;00m(\u001b[33mf\u001b[39m\u001b[33m\"\u001b[39m\u001b[33mmodule \u001b[39m\u001b[38;5;132;01m{\u001b[39;00m\u001b[34m__name__\u001b[39m\u001b[38;5;132;01m!r}\u001b[39;00m\u001b[33m has no attribute \u001b[39m\u001b[38;5;132;01m{\u001b[39;00mattr\u001b[38;5;132;01m!r}\u001b[39;00m\u001b[33m\"\u001b[39m)\n",
      "\u001b[31mAttributeError\u001b[39m: module 'numpy' has no attribute 'su'"
     ]
    }
   ],
   "source": [
    "block2= np.su\n",
    "m(sudoku[0:3,3:6],axis=0)\n",
    "print(block2)"
   ]
  },
  {
   "cell_type": "code",
   "execution_count": null,
   "id": "a35d5cd1",
   "metadata": {},
   "outputs": [
    {
     "name": "stdout",
     "output_type": "stream",
     "text": [
      "[[2 8 4]\n",
      " [6 3 5]\n",
      " [1 7 9]]\n"
     ]
    }
   ],
   "source": [
    "print(sudoku[6:9,6:9])"
   ]
  },
  {
   "cell_type": "code",
   "execution_count": null,
   "id": "46fd267f",
   "metadata": {},
   "outputs": [
    {
     "name": "stdout",
     "output_type": "stream",
     "text": [
      "[[18 85 75]\n",
      " [19 95 79]\n",
      " [17 75 90]\n",
      " [18 85 96]\n",
      " [19 99 78]\n",
      " [18 90 80]]\n"
     ]
    }
   ],
   "source": [
    "data = np.array([\n",
    "    [18,85,75],\n",
    "    [19,95,79],\n",
    "    [17,75,90],\n",
    "    [18,85,96],\n",
    "    [19,99,78],\n",
    "    [18,90,80]\n",
    "    \n",
    "])\n",
    "print(data)"
   ]
  },
  {
   "cell_type": "code",
   "execution_count": null,
   "id": "777bca66",
   "metadata": {},
   "outputs": [
    {
     "name": "stdout",
     "output_type": "stream",
     "text": [
      "(6, 3)\n"
     ]
    }
   ],
   "source": [
    "#shape of matrix\n",
    "print(data.shape)"
   ]
  },
  {
   "cell_type": "code",
   "execution_count": null,
   "id": "1c90bba0",
   "metadata": {},
   "outputs": [
    {
     "name": "stdout",
     "output_type": "stream",
     "text": [
      "18.166666666666668\n"
     ]
    }
   ],
   "source": [
    "#print avg age of student\n",
    "\n",
    "avg = np.mean((data[:,:1]))\n",
    "print(avg)"
   ]
  },
  {
   "cell_type": "code",
   "execution_count": null,
   "id": "d24ab08b",
   "metadata": {},
   "outputs": [
    {
     "name": "stdout",
     "output_type": "stream",
     "text": [
      "[85 95 75 85 78 90]\n"
     ]
    }
   ],
   "source": [
    "#print all student math mark\n",
    "print(data[:,1])"
   ]
  },
  {
   "cell_type": "code",
   "execution_count": null,
   "id": "8a69d796",
   "metadata": {},
   "outputs": [
    {
     "name": "stdout",
     "output_type": "stream",
     "text": [
      "96\n"
     ]
    }
   ],
   "source": [
    "#find highest score science mask\n",
    "high =np.max(data[:,2])\n",
    "print(high)\n"
   ]
  },
  {
   "cell_type": "code",
   "execution_count": null,
   "id": "6212bd0c",
   "metadata": {},
   "outputs": [
    {
     "name": "stdout",
     "output_type": "stream",
     "text": [
      "[[19 95 79]\n",
      " [19 99 78]]\n"
     ]
    }
   ],
   "source": [
    "#get student detail who score more than 90\n",
    "more_90=data[:,1]>90\n",
    "print(data[more_90])"
   ]
  },
  {
   "cell_type": "code",
   "execution_count": null,
   "id": "ae71f9b2",
   "metadata": {},
   "outputs": [
    {
     "name": "stdout",
     "output_type": "stream",
     "text": [
      "[85 95 75 85 99 90  5]\n"
     ]
    }
   ],
   "source": [
    "# increse mark by +5\n",
    "app =np.append(data[:,1],5)\n",
    "print(app)"
   ]
  },
  {
   "cell_type": "code",
   "execution_count": null,
   "id": "d71578b9",
   "metadata": {},
   "outputs": [
    {
     "data": {
      "text/plain": [
       "array([ 80,  84,  74, 101,  83,  85])"
      ]
     },
     "execution_count": 91,
     "metadata": {},
     "output_type": "execute_result"
    }
   ],
   "source": [
    "#or add +5 \n",
    "data[:,2]+5\n"
   ]
  },
  {
   "cell_type": "code",
   "execution_count": null,
   "id": "a0fea4af",
   "metadata": {},
   "outputs": [
    {
     "name": "stdout",
     "output_type": "stream",
     "text": [
      "[[18 85 75]\n",
      " [17 75 69]\n",
      " [18 85 96]\n",
      " [18 90 80]]\n",
      "4\n"
     ]
    }
   ],
   "source": [
    "#student younger than 19 or  less than 19\n",
    "y=data[:,0]<19\n",
    "print(data[y])\n",
    "print(len(data[y]))\n"
   ]
  },
  {
   "cell_type": "code",
   "execution_count": 127,
   "id": "50397b7a",
   "metadata": {},
   "outputs": [
    {
     "name": "stdout",
     "output_type": "stream",
     "text": [
      "[88.16666667 83.        ]\n"
     ]
    }
   ],
   "source": [
    "#calculate avg mark in math and each subject\n",
    "\n",
    "avg1 = np.mean(data[:,1:],axis=0)\n",
    "print(avg1)"
   ]
  },
  {
   "cell_type": "code",
   "execution_count": 149,
   "id": "644a3d65",
   "metadata": {},
   "outputs": [
    {
     "name": "stdout",
     "output_type": "stream",
     "text": [
      "[[18 85 96]]\n"
     ]
    }
   ],
   "source": [
    "# find student who scored at least 80 mark in both subject\n",
    "\n",
    "c =np.where((data[:,1]>80) & (data[:,2]>80))\n",
    "print(data[c])\n"
   ]
  },
  {
   "cell_type": "code",
   "execution_count": 143,
   "id": "0c8e247d",
   "metadata": {},
   "outputs": [
    {
     "name": "stdout",
     "output_type": "stream",
     "text": [
      "[[18 85 96]]\n"
     ]
    }
   ],
   "source": [
    "rows = np.all(data[:, 1:] > 80, axis=1)\n",
    "print(data[rows])\n"
   ]
  },
  {
   "cell_type": "code",
   "execution_count": 160,
   "id": "ca55d162",
   "metadata": {},
   "outputs": [
    {
     "name": "stdout",
     "output_type": "stream",
     "text": [
      "[ 1.  5.  8.  9. -8.]\n"
     ]
    },
    {
     "data": {
      "text/plain": [
       "array([-8.,  9.,  8.,  5.,  1.])"
      ]
     },
     "execution_count": 160,
     "metadata": {},
     "output_type": "execute_result"
    }
   ],
   "source": [
    "arr = np.array([1,5,8,9,-8],dtype=float)\n",
    "print(arr)\n",
    "arr[::-1]"
   ]
  },
  {
   "cell_type": "code",
   "execution_count": null,
   "id": "3406959d",
   "metadata": {},
   "outputs": [],
   "source": []
  }
 ],
 "metadata": {
  "kernelspec": {
   "display_name": "Python 3",
   "language": "python",
   "name": "python3"
  },
  "language_info": {
   "codemirror_mode": {
    "name": "ipython",
    "version": 3
   },
   "file_extension": ".py",
   "mimetype": "text/x-python",
   "name": "python",
   "nbconvert_exporter": "python",
   "pygments_lexer": "ipython3",
   "version": "3.13.5"
  }
 },
 "nbformat": 4,
 "nbformat_minor": 5
}
